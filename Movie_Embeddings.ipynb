{
  "nbformat": 4,
  "nbformat_minor": 0,
  "metadata": {
    "colab": {
      "name": "Q2-Movie Embeddings.ipynb",
      "provenance": [],
      "collapsed_sections": [],
      "machine_shape": "hm"
    },
    "kernelspec": {
      "name": "python3",
      "display_name": "Python 3"
    },
    "accelerator": "GPU"
  },
  "cells": [
    {
      "cell_type": "markdown",
      "metadata": {
        "id": "-sIZV4EtL4DS"
      },
      "source": [
        "# Assignment 2\n",
        "\n",
        "\n",
        "\n",
        "*   Babandeep Singh\n",
        "*   Robin Beura\n",
        "*   Rahul Gera\n",
        "*   Sanghmitra\n",
        "*   Yash Patel\n"
      ]
    },
    {
      "cell_type": "code",
      "metadata": {
        "id": "h3_ydUw7GHN0",
        "colab": {
          "base_uri": "https://localhost:8080/",
          "height": 35
        },
        "outputId": "be2bdb05-58ea-48a6-a28e-fb1803f6948f"
      },
      "source": [
        "import os \n",
        "from google.colab import drive\n",
        "drive.mount(\"/content/drive\")\n",
        "os.chdir('/content/drive/Shared drives/IDS 576/Assignment 2')"
      ],
      "execution_count": null,
      "outputs": [
        {
          "output_type": "stream",
          "text": [
            "Mounted at /content/drive\n"
          ],
          "name": "stdout"
        }
      ]
    },
    {
      "cell_type": "code",
      "metadata": {
        "id": "Ia_bG9QUnnYU",
        "colab": {
          "base_uri": "https://localhost:8080/",
          "height": 659
        },
        "outputId": "cf1ab66b-52ce-478a-c1e1-c28c07b6b802"
      },
      "source": [
        "%%sh\n",
        "wget http://files.grouplens.org/datasets/movielens/ml-latest-small.zip\n",
        "unzip ml-latest-small.zip"
      ],
      "execution_count": null,
      "outputs": [
        {
          "output_type": "stream",
          "text": [
            "Archive:  ml-latest-small.zip\n",
            "   creating: ml-latest-small/\n",
            "  inflating: ml-latest-small/links.csv  \n",
            "  inflating: ml-latest-small/tags.csv  \n",
            "  inflating: ml-latest-small/ratings.csv  \n",
            "  inflating: ml-latest-small/README.txt  \n",
            "  inflating: ml-latest-small/movies.csv  \n"
          ],
          "name": "stdout"
        },
        {
          "output_type": "stream",
          "text": [
            "--2020-10-01 18:58:55--  http://files.grouplens.org/datasets/movielens/ml-latest-small.zip\n",
            "Resolving files.grouplens.org (files.grouplens.org)... 128.101.65.152\n",
            "Connecting to files.grouplens.org (files.grouplens.org)|128.101.65.152|:80... connected.\n",
            "HTTP request sent, awaiting response... 200 OK\n",
            "Length: 978202 (955K) [application/zip]\n",
            "Saving to: ‘ml-latest-small.zip’\n",
            "\n",
            "     0K .......... .......... .......... .......... ..........  5%  543K 2s\n",
            "    50K .......... .......... .......... .......... .......... 10% 1.06M 1s\n",
            "   100K .......... .......... .......... .......... .......... 15% 91.2M 1s\n",
            "   150K .......... .......... .......... .......... .......... 20% 78.2M 1s\n",
            "   200K .......... .......... .......... .......... .......... 26% 1.07M 1s\n",
            "   250K .......... .......... .......... .......... .......... 31%  194M 0s\n",
            "   300K .......... .......... .......... .......... .......... 36%  293M 0s\n",
            "   350K .......... .......... .......... .......... .......... 41% 70.0M 0s\n",
            "   400K .......... .......... .......... .......... .......... 47% 1.09M 0s\n",
            "   450K .......... .......... .......... .......... .......... 52% 82.4M 0s\n",
            "   500K .......... .......... .......... .......... .......... 57%  147M 0s\n",
            "   550K .......... .......... .......... .......... .......... 62%  152M 0s\n",
            "   600K .......... .......... .......... .......... .......... 68%  158M 0s\n",
            "   650K .......... .......... .......... .......... .......... 73%  151M 0s\n",
            "   700K .......... .......... .......... .......... .......... 78% 71.3M 0s\n",
            "   750K .......... .......... .......... .......... .......... 83%  144M 0s\n",
            "   800K .......... .......... .......... .......... .......... 88%  165M 0s\n",
            "   850K .......... .......... .......... .......... .......... 94% 1.13M 0s\n",
            "   900K .......... .......... .......... .......... .......... 99%  159M 0s\n",
            "   950K .....                                                 100% 10062G=0.3s\n",
            "\n",
            "2020-10-01 18:58:55 (3.36 MB/s) - ‘ml-latest-small.zip’ saved [978202/978202]\n",
            "\n"
          ],
          "name": "stderr"
        }
      ]
    },
    {
      "cell_type": "code",
      "metadata": {
        "id": "fqnlg_TmQAih"
      },
      "source": [
        "import pandas as pd\n",
        "import numpy as np\n",
        "import itertools\n",
        "from operator import eq\n",
        "import scipy.sparse as sp\n",
        "import pickle\n",
        "import matplotlib.pyplot as plt\n",
        "import torch"
      ],
      "execution_count": null,
      "outputs": []
    },
    {
      "cell_type": "code",
      "metadata": {
        "id": "E4ff4DogXlh_"
      },
      "source": [
        "### reading files\n",
        "movies = pd.read_csv('ml-latest-small/movies.csv')"
      ],
      "execution_count": null,
      "outputs": []
    },
    {
      "cell_type": "code",
      "metadata": {
        "id": "2KMkLg7EXoWF",
        "colab": {
          "base_uri": "https://localhost:8080/",
          "height": 225
        },
        "outputId": "0d332b07-c62e-4174-c677-a906074bb847"
      },
      "source": [
        "movies.head()\n",
        "##### removing year from name\n",
        "movies['title'] = movies['title'].apply(lambda x : x[:-7])\n",
        "movies['title']"
      ],
      "execution_count": null,
      "outputs": [
        {
          "output_type": "execute_result",
          "data": {
            "text/plain": [
              "0                                Toy Story\n",
              "1                                  Jumanji\n",
              "2                         Grumpier Old Men\n",
              "3                        Waiting to Exhale\n",
              "4              Father of the Bride Part II\n",
              "                       ...                \n",
              "9737    Black Butler: Book of the Atlantic\n",
              "9738                 No Game No Life: Zero\n",
              "9739                                 Flint\n",
              "9740          Bungo Stray Dogs: Dead Apple\n",
              "9741          Andrew Dice Clay: Dice Rules\n",
              "Name: title, Length: 9742, dtype: object"
            ]
          },
          "metadata": {
            "tags": []
          },
          "execution_count": 7
        }
      ]
    },
    {
      "cell_type": "code",
      "metadata": {
        "id": "mOoxWKLsnDU_",
        "colab": {
          "base_uri": "https://localhost:8080/",
          "height": 415
        },
        "outputId": "e3b4f009-db7b-4155-a9b7-e59721e036c6"
      },
      "source": [
        "###### read ratings\n",
        "ratings = pd.read_csv('ml-latest-small/ratings.csv').sort_values(by='movieId')\n",
        "ratings = ratings.drop([0])\n",
        "ratings"
      ],
      "execution_count": null,
      "outputs": [
        {
          "output_type": "execute_result",
          "data": {
            "text/html": [
              "<div>\n",
              "<style scoped>\n",
              "    .dataframe tbody tr th:only-of-type {\n",
              "        vertical-align: middle;\n",
              "    }\n",
              "\n",
              "    .dataframe tbody tr th {\n",
              "        vertical-align: top;\n",
              "    }\n",
              "\n",
              "    .dataframe thead th {\n",
              "        text-align: right;\n",
              "    }\n",
              "</style>\n",
              "<table border=\"1\" class=\"dataframe\">\n",
              "  <thead>\n",
              "    <tr style=\"text-align: right;\">\n",
              "      <th></th>\n",
              "      <th>userId</th>\n",
              "      <th>movieId</th>\n",
              "      <th>rating</th>\n",
              "      <th>timestamp</th>\n",
              "    </tr>\n",
              "  </thead>\n",
              "  <tbody>\n",
              "    <tr>\n",
              "      <th>81531</th>\n",
              "      <td>517</td>\n",
              "      <td>1</td>\n",
              "      <td>4.0</td>\n",
              "      <td>1487954343</td>\n",
              "    </tr>\n",
              "    <tr>\n",
              "      <th>30517</th>\n",
              "      <td>213</td>\n",
              "      <td>1</td>\n",
              "      <td>3.5</td>\n",
              "      <td>1316196157</td>\n",
              "    </tr>\n",
              "    <tr>\n",
              "      <th>81082</th>\n",
              "      <td>514</td>\n",
              "      <td>1</td>\n",
              "      <td>4.0</td>\n",
              "      <td>1533872400</td>\n",
              "    </tr>\n",
              "    <tr>\n",
              "      <th>30601</th>\n",
              "      <td>214</td>\n",
              "      <td>1</td>\n",
              "      <td>3.0</td>\n",
              "      <td>853937855</td>\n",
              "    </tr>\n",
              "    <tr>\n",
              "      <th>30721</th>\n",
              "      <td>216</td>\n",
              "      <td>1</td>\n",
              "      <td>3.0</td>\n",
              "      <td>975211713</td>\n",
              "    </tr>\n",
              "    <tr>\n",
              "      <th>...</th>\n",
              "      <td>...</td>\n",
              "      <td>...</td>\n",
              "      <td>...</td>\n",
              "      <td>...</td>\n",
              "    </tr>\n",
              "    <tr>\n",
              "      <th>27256</th>\n",
              "      <td>184</td>\n",
              "      <td>193581</td>\n",
              "      <td>4.0</td>\n",
              "      <td>1537109082</td>\n",
              "    </tr>\n",
              "    <tr>\n",
              "      <th>27257</th>\n",
              "      <td>184</td>\n",
              "      <td>193583</td>\n",
              "      <td>3.5</td>\n",
              "      <td>1537109545</td>\n",
              "    </tr>\n",
              "    <tr>\n",
              "      <th>27258</th>\n",
              "      <td>184</td>\n",
              "      <td>193585</td>\n",
              "      <td>3.5</td>\n",
              "      <td>1537109805</td>\n",
              "    </tr>\n",
              "    <tr>\n",
              "      <th>27259</th>\n",
              "      <td>184</td>\n",
              "      <td>193587</td>\n",
              "      <td>3.5</td>\n",
              "      <td>1537110021</td>\n",
              "    </tr>\n",
              "    <tr>\n",
              "      <th>51362</th>\n",
              "      <td>331</td>\n",
              "      <td>193609</td>\n",
              "      <td>4.0</td>\n",
              "      <td>1537157606</td>\n",
              "    </tr>\n",
              "  </tbody>\n",
              "</table>\n",
              "<p>100835 rows × 4 columns</p>\n",
              "</div>"
            ],
            "text/plain": [
              "       userId  movieId  rating   timestamp\n",
              "81531     517        1     4.0  1487954343\n",
              "30517     213        1     3.5  1316196157\n",
              "81082     514        1     4.0  1533872400\n",
              "30601     214        1     3.0   853937855\n",
              "30721     216        1     3.0   975211713\n",
              "...       ...      ...     ...         ...\n",
              "27256     184   193581     4.0  1537109082\n",
              "27257     184   193583     3.5  1537109545\n",
              "27258     184   193585     3.5  1537109805\n",
              "27259     184   193587     3.5  1537110021\n",
              "51362     331   193609     4.0  1537157606\n",
              "\n",
              "[100835 rows x 4 columns]"
            ]
          },
          "metadata": {
            "tags": []
          },
          "execution_count": 8
        }
      ]
    },
    {
      "cell_type": "code",
      "metadata": {
        "id": "Z5dahFE2elry",
        "colab": {
          "base_uri": "https://localhost:8080/",
          "height": 415
        },
        "outputId": "173702b1-599a-4445-cb76-758f3dae0813"
      },
      "source": [
        "#merging based on ratings to check what all other movies user has rated\n",
        "df_out = ratings.merge(ratings, on='userId')\n",
        "df_out"
      ],
      "execution_count": null,
      "outputs": [
        {
          "output_type": "execute_result",
          "data": {
            "text/html": [
              "<div>\n",
              "<style scoped>\n",
              "    .dataframe tbody tr th:only-of-type {\n",
              "        vertical-align: middle;\n",
              "    }\n",
              "\n",
              "    .dataframe tbody tr th {\n",
              "        vertical-align: top;\n",
              "    }\n",
              "\n",
              "    .dataframe thead th {\n",
              "        text-align: right;\n",
              "    }\n",
              "</style>\n",
              "<table border=\"1\" class=\"dataframe\">\n",
              "  <thead>\n",
              "    <tr style=\"text-align: right;\">\n",
              "      <th></th>\n",
              "      <th>userId</th>\n",
              "      <th>movieId_x</th>\n",
              "      <th>rating_x</th>\n",
              "      <th>timestamp_x</th>\n",
              "      <th>movieId_y</th>\n",
              "      <th>rating_y</th>\n",
              "      <th>timestamp_y</th>\n",
              "    </tr>\n",
              "  </thead>\n",
              "  <tbody>\n",
              "    <tr>\n",
              "      <th>0</th>\n",
              "      <td>517</td>\n",
              "      <td>1</td>\n",
              "      <td>4.0</td>\n",
              "      <td>1487954343</td>\n",
              "      <td>1</td>\n",
              "      <td>4.0</td>\n",
              "      <td>1487954343</td>\n",
              "    </tr>\n",
              "    <tr>\n",
              "      <th>1</th>\n",
              "      <td>517</td>\n",
              "      <td>1</td>\n",
              "      <td>4.0</td>\n",
              "      <td>1487954343</td>\n",
              "      <td>2</td>\n",
              "      <td>3.0</td>\n",
              "      <td>1487954340</td>\n",
              "    </tr>\n",
              "    <tr>\n",
              "      <th>2</th>\n",
              "      <td>517</td>\n",
              "      <td>1</td>\n",
              "      <td>4.0</td>\n",
              "      <td>1487954343</td>\n",
              "      <td>10</td>\n",
              "      <td>0.5</td>\n",
              "      <td>1487957717</td>\n",
              "    </tr>\n",
              "    <tr>\n",
              "      <th>3</th>\n",
              "      <td>517</td>\n",
              "      <td>1</td>\n",
              "      <td>4.0</td>\n",
              "      <td>1487954343</td>\n",
              "      <td>17</td>\n",
              "      <td>0.5</td>\n",
              "      <td>1487953834</td>\n",
              "    </tr>\n",
              "    <tr>\n",
              "      <th>4</th>\n",
              "      <td>517</td>\n",
              "      <td>1</td>\n",
              "      <td>4.0</td>\n",
              "      <td>1487954343</td>\n",
              "      <td>34</td>\n",
              "      <td>5.0</td>\n",
              "      <td>1487954303</td>\n",
              "    </tr>\n",
              "    <tr>\n",
              "      <th>...</th>\n",
              "      <td>...</td>\n",
              "      <td>...</td>\n",
              "      <td>...</td>\n",
              "      <td>...</td>\n",
              "      <td>...</td>\n",
              "      <td>...</td>\n",
              "      <td>...</td>\n",
              "    </tr>\n",
              "    <tr>\n",
              "      <th>60893668</th>\n",
              "      <td>184</td>\n",
              "      <td>193587</td>\n",
              "      <td>3.5</td>\n",
              "      <td>1537110021</td>\n",
              "      <td>193579</td>\n",
              "      <td>3.5</td>\n",
              "      <td>1537107259</td>\n",
              "    </tr>\n",
              "    <tr>\n",
              "      <th>60893669</th>\n",
              "      <td>184</td>\n",
              "      <td>193587</td>\n",
              "      <td>3.5</td>\n",
              "      <td>1537110021</td>\n",
              "      <td>193581</td>\n",
              "      <td>4.0</td>\n",
              "      <td>1537109082</td>\n",
              "    </tr>\n",
              "    <tr>\n",
              "      <th>60893670</th>\n",
              "      <td>184</td>\n",
              "      <td>193587</td>\n",
              "      <td>3.5</td>\n",
              "      <td>1537110021</td>\n",
              "      <td>193583</td>\n",
              "      <td>3.5</td>\n",
              "      <td>1537109545</td>\n",
              "    </tr>\n",
              "    <tr>\n",
              "      <th>60893671</th>\n",
              "      <td>184</td>\n",
              "      <td>193587</td>\n",
              "      <td>3.5</td>\n",
              "      <td>1537110021</td>\n",
              "      <td>193585</td>\n",
              "      <td>3.5</td>\n",
              "      <td>1537109805</td>\n",
              "    </tr>\n",
              "    <tr>\n",
              "      <th>60893672</th>\n",
              "      <td>184</td>\n",
              "      <td>193587</td>\n",
              "      <td>3.5</td>\n",
              "      <td>1537110021</td>\n",
              "      <td>193587</td>\n",
              "      <td>3.5</td>\n",
              "      <td>1537110021</td>\n",
              "    </tr>\n",
              "  </tbody>\n",
              "</table>\n",
              "<p>60893673 rows × 7 columns</p>\n",
              "</div>"
            ],
            "text/plain": [
              "          userId  movieId_x  rating_x  ...  movieId_y  rating_y  timestamp_y\n",
              "0            517          1       4.0  ...          1       4.0   1487954343\n",
              "1            517          1       4.0  ...          2       3.0   1487954340\n",
              "2            517          1       4.0  ...         10       0.5   1487957717\n",
              "3            517          1       4.0  ...         17       0.5   1487953834\n",
              "4            517          1       4.0  ...         34       5.0   1487954303\n",
              "...          ...        ...       ...  ...        ...       ...          ...\n",
              "60893668     184     193587       3.5  ...     193579       3.5   1537107259\n",
              "60893669     184     193587       3.5  ...     193581       4.0   1537109082\n",
              "60893670     184     193587       3.5  ...     193583       3.5   1537109545\n",
              "60893671     184     193587       3.5  ...     193585       3.5   1537109805\n",
              "60893672     184     193587       3.5  ...     193587       3.5   1537110021\n",
              "\n",
              "[60893673 rows x 7 columns]"
            ]
          },
          "metadata": {
            "tags": []
          },
          "execution_count": 9
        }
      ]
    },
    {
      "cell_type": "code",
      "metadata": {
        "id": "9CzRSKFjVylZ",
        "colab": {
          "base_uri": "https://localhost:8080/",
          "height": 282
        },
        "outputId": "f17cd279-1f3e-47b1-efc1-1e56cfdce31f"
      },
      "source": [
        "#### creating movie embeddings\n",
        "results = pd.crosstab(df_out.movieId_x, df_out.movieId_y) \n",
        "np.fill_diagonal(results.values, 0) #### replacing diagonals with zero\n",
        "results.head()"
      ],
      "execution_count": null,
      "outputs": [
        {
          "output_type": "execute_result",
          "data": {
            "text/html": [
              "<div>\n",
              "<style scoped>\n",
              "    .dataframe tbody tr th:only-of-type {\n",
              "        vertical-align: middle;\n",
              "    }\n",
              "\n",
              "    .dataframe tbody tr th {\n",
              "        vertical-align: top;\n",
              "    }\n",
              "\n",
              "    .dataframe thead th {\n",
              "        text-align: right;\n",
              "    }\n",
              "</style>\n",
              "<table border=\"1\" class=\"dataframe\">\n",
              "  <thead>\n",
              "    <tr style=\"text-align: right;\">\n",
              "      <th>movieId_y</th>\n",
              "      <th>1</th>\n",
              "      <th>2</th>\n",
              "      <th>3</th>\n",
              "      <th>4</th>\n",
              "      <th>5</th>\n",
              "      <th>6</th>\n",
              "      <th>7</th>\n",
              "      <th>8</th>\n",
              "      <th>9</th>\n",
              "      <th>10</th>\n",
              "      <th>11</th>\n",
              "      <th>12</th>\n",
              "      <th>13</th>\n",
              "      <th>14</th>\n",
              "      <th>15</th>\n",
              "      <th>16</th>\n",
              "      <th>17</th>\n",
              "      <th>18</th>\n",
              "      <th>19</th>\n",
              "      <th>20</th>\n",
              "      <th>21</th>\n",
              "      <th>22</th>\n",
              "      <th>23</th>\n",
              "      <th>24</th>\n",
              "      <th>25</th>\n",
              "      <th>26</th>\n",
              "      <th>27</th>\n",
              "      <th>28</th>\n",
              "      <th>29</th>\n",
              "      <th>30</th>\n",
              "      <th>31</th>\n",
              "      <th>32</th>\n",
              "      <th>34</th>\n",
              "      <th>36</th>\n",
              "      <th>38</th>\n",
              "      <th>39</th>\n",
              "      <th>40</th>\n",
              "      <th>41</th>\n",
              "      <th>42</th>\n",
              "      <th>43</th>\n",
              "      <th>...</th>\n",
              "      <th>185135</th>\n",
              "      <th>185435</th>\n",
              "      <th>185473</th>\n",
              "      <th>185585</th>\n",
              "      <th>186587</th>\n",
              "      <th>187031</th>\n",
              "      <th>187541</th>\n",
              "      <th>187593</th>\n",
              "      <th>187595</th>\n",
              "      <th>187717</th>\n",
              "      <th>188189</th>\n",
              "      <th>188301</th>\n",
              "      <th>188675</th>\n",
              "      <th>188751</th>\n",
              "      <th>188797</th>\n",
              "      <th>188833</th>\n",
              "      <th>189043</th>\n",
              "      <th>189111</th>\n",
              "      <th>189333</th>\n",
              "      <th>189381</th>\n",
              "      <th>189547</th>\n",
              "      <th>189713</th>\n",
              "      <th>190183</th>\n",
              "      <th>190207</th>\n",
              "      <th>190209</th>\n",
              "      <th>190213</th>\n",
              "      <th>190215</th>\n",
              "      <th>190219</th>\n",
              "      <th>190221</th>\n",
              "      <th>191005</th>\n",
              "      <th>193565</th>\n",
              "      <th>193567</th>\n",
              "      <th>193571</th>\n",
              "      <th>193573</th>\n",
              "      <th>193579</th>\n",
              "      <th>193581</th>\n",
              "      <th>193583</th>\n",
              "      <th>193585</th>\n",
              "      <th>193587</th>\n",
              "      <th>193609</th>\n",
              "    </tr>\n",
              "    <tr>\n",
              "      <th>movieId_x</th>\n",
              "      <th></th>\n",
              "      <th></th>\n",
              "      <th></th>\n",
              "      <th></th>\n",
              "      <th></th>\n",
              "      <th></th>\n",
              "      <th></th>\n",
              "      <th></th>\n",
              "      <th></th>\n",
              "      <th></th>\n",
              "      <th></th>\n",
              "      <th></th>\n",
              "      <th></th>\n",
              "      <th></th>\n",
              "      <th></th>\n",
              "      <th></th>\n",
              "      <th></th>\n",
              "      <th></th>\n",
              "      <th></th>\n",
              "      <th></th>\n",
              "      <th></th>\n",
              "      <th></th>\n",
              "      <th></th>\n",
              "      <th></th>\n",
              "      <th></th>\n",
              "      <th></th>\n",
              "      <th></th>\n",
              "      <th></th>\n",
              "      <th></th>\n",
              "      <th></th>\n",
              "      <th></th>\n",
              "      <th></th>\n",
              "      <th></th>\n",
              "      <th></th>\n",
              "      <th></th>\n",
              "      <th></th>\n",
              "      <th></th>\n",
              "      <th></th>\n",
              "      <th></th>\n",
              "      <th></th>\n",
              "      <th></th>\n",
              "      <th></th>\n",
              "      <th></th>\n",
              "      <th></th>\n",
              "      <th></th>\n",
              "      <th></th>\n",
              "      <th></th>\n",
              "      <th></th>\n",
              "      <th></th>\n",
              "      <th></th>\n",
              "      <th></th>\n",
              "      <th></th>\n",
              "      <th></th>\n",
              "      <th></th>\n",
              "      <th></th>\n",
              "      <th></th>\n",
              "      <th></th>\n",
              "      <th></th>\n",
              "      <th></th>\n",
              "      <th></th>\n",
              "      <th></th>\n",
              "      <th></th>\n",
              "      <th></th>\n",
              "      <th></th>\n",
              "      <th></th>\n",
              "      <th></th>\n",
              "      <th></th>\n",
              "      <th></th>\n",
              "      <th></th>\n",
              "      <th></th>\n",
              "      <th></th>\n",
              "      <th></th>\n",
              "      <th></th>\n",
              "      <th></th>\n",
              "      <th></th>\n",
              "      <th></th>\n",
              "      <th></th>\n",
              "      <th></th>\n",
              "      <th></th>\n",
              "      <th></th>\n",
              "      <th></th>\n",
              "    </tr>\n",
              "  </thead>\n",
              "  <tbody>\n",
              "    <tr>\n",
              "      <th>1</th>\n",
              "      <td>0</td>\n",
              "      <td>68</td>\n",
              "      <td>31</td>\n",
              "      <td>2</td>\n",
              "      <td>32</td>\n",
              "      <td>57</td>\n",
              "      <td>32</td>\n",
              "      <td>5</td>\n",
              "      <td>12</td>\n",
              "      <td>69</td>\n",
              "      <td>42</td>\n",
              "      <td>15</td>\n",
              "      <td>6</td>\n",
              "      <td>12</td>\n",
              "      <td>8</td>\n",
              "      <td>41</td>\n",
              "      <td>44</td>\n",
              "      <td>12</td>\n",
              "      <td>55</td>\n",
              "      <td>8</td>\n",
              "      <td>47</td>\n",
              "      <td>22</td>\n",
              "      <td>11</td>\n",
              "      <td>18</td>\n",
              "      <td>42</td>\n",
              "      <td>10</td>\n",
              "      <td>5</td>\n",
              "      <td>7</td>\n",
              "      <td>19</td>\n",
              "      <td>1</td>\n",
              "      <td>17</td>\n",
              "      <td>104</td>\n",
              "      <td>84</td>\n",
              "      <td>37</td>\n",
              "      <td>4</td>\n",
              "      <td>59</td>\n",
              "      <td>1</td>\n",
              "      <td>8</td>\n",
              "      <td>4</td>\n",
              "      <td>5</td>\n",
              "      <td>...</td>\n",
              "      <td>1</td>\n",
              "      <td>1</td>\n",
              "      <td>1</td>\n",
              "      <td>1</td>\n",
              "      <td>1</td>\n",
              "      <td>1</td>\n",
              "      <td>1</td>\n",
              "      <td>5</td>\n",
              "      <td>3</td>\n",
              "      <td>1</td>\n",
              "      <td>1</td>\n",
              "      <td>3</td>\n",
              "      <td>0</td>\n",
              "      <td>0</td>\n",
              "      <td>1</td>\n",
              "      <td>0</td>\n",
              "      <td>0</td>\n",
              "      <td>0</td>\n",
              "      <td>0</td>\n",
              "      <td>0</td>\n",
              "      <td>0</td>\n",
              "      <td>1</td>\n",
              "      <td>1</td>\n",
              "      <td>0</td>\n",
              "      <td>0</td>\n",
              "      <td>0</td>\n",
              "      <td>0</td>\n",
              "      <td>0</td>\n",
              "      <td>0</td>\n",
              "      <td>0</td>\n",
              "      <td>0</td>\n",
              "      <td>0</td>\n",
              "      <td>0</td>\n",
              "      <td>0</td>\n",
              "      <td>0</td>\n",
              "      <td>0</td>\n",
              "      <td>0</td>\n",
              "      <td>0</td>\n",
              "      <td>0</td>\n",
              "      <td>0</td>\n",
              "    </tr>\n",
              "    <tr>\n",
              "      <th>2</th>\n",
              "      <td>68</td>\n",
              "      <td>0</td>\n",
              "      <td>26</td>\n",
              "      <td>3</td>\n",
              "      <td>22</td>\n",
              "      <td>36</td>\n",
              "      <td>18</td>\n",
              "      <td>6</td>\n",
              "      <td>3</td>\n",
              "      <td>56</td>\n",
              "      <td>29</td>\n",
              "      <td>9</td>\n",
              "      <td>6</td>\n",
              "      <td>4</td>\n",
              "      <td>9</td>\n",
              "      <td>28</td>\n",
              "      <td>22</td>\n",
              "      <td>10</td>\n",
              "      <td>51</td>\n",
              "      <td>7</td>\n",
              "      <td>33</td>\n",
              "      <td>17</td>\n",
              "      <td>6</td>\n",
              "      <td>12</td>\n",
              "      <td>19</td>\n",
              "      <td>7</td>\n",
              "      <td>6</td>\n",
              "      <td>4</td>\n",
              "      <td>12</td>\n",
              "      <td>1</td>\n",
              "      <td>16</td>\n",
              "      <td>59</td>\n",
              "      <td>56</td>\n",
              "      <td>20</td>\n",
              "      <td>4</td>\n",
              "      <td>43</td>\n",
              "      <td>0</td>\n",
              "      <td>6</td>\n",
              "      <td>2</td>\n",
              "      <td>5</td>\n",
              "      <td>...</td>\n",
              "      <td>2</td>\n",
              "      <td>1</td>\n",
              "      <td>0</td>\n",
              "      <td>1</td>\n",
              "      <td>0</td>\n",
              "      <td>0</td>\n",
              "      <td>0</td>\n",
              "      <td>5</td>\n",
              "      <td>4</td>\n",
              "      <td>0</td>\n",
              "      <td>0</td>\n",
              "      <td>1</td>\n",
              "      <td>1</td>\n",
              "      <td>0</td>\n",
              "      <td>0</td>\n",
              "      <td>1</td>\n",
              "      <td>0</td>\n",
              "      <td>0</td>\n",
              "      <td>0</td>\n",
              "      <td>1</td>\n",
              "      <td>0</td>\n",
              "      <td>0</td>\n",
              "      <td>0</td>\n",
              "      <td>0</td>\n",
              "      <td>0</td>\n",
              "      <td>0</td>\n",
              "      <td>0</td>\n",
              "      <td>0</td>\n",
              "      <td>0</td>\n",
              "      <td>0</td>\n",
              "      <td>0</td>\n",
              "      <td>0</td>\n",
              "      <td>0</td>\n",
              "      <td>0</td>\n",
              "      <td>0</td>\n",
              "      <td>0</td>\n",
              "      <td>0</td>\n",
              "      <td>0</td>\n",
              "      <td>0</td>\n",
              "      <td>0</td>\n",
              "    </tr>\n",
              "    <tr>\n",
              "      <th>3</th>\n",
              "      <td>31</td>\n",
              "      <td>26</td>\n",
              "      <td>0</td>\n",
              "      <td>1</td>\n",
              "      <td>19</td>\n",
              "      <td>25</td>\n",
              "      <td>19</td>\n",
              "      <td>4</td>\n",
              "      <td>9</td>\n",
              "      <td>23</td>\n",
              "      <td>13</td>\n",
              "      <td>10</td>\n",
              "      <td>3</td>\n",
              "      <td>6</td>\n",
              "      <td>5</td>\n",
              "      <td>20</td>\n",
              "      <td>13</td>\n",
              "      <td>7</td>\n",
              "      <td>26</td>\n",
              "      <td>5</td>\n",
              "      <td>24</td>\n",
              "      <td>11</td>\n",
              "      <td>4</td>\n",
              "      <td>10</td>\n",
              "      <td>16</td>\n",
              "      <td>6</td>\n",
              "      <td>5</td>\n",
              "      <td>2</td>\n",
              "      <td>5</td>\n",
              "      <td>0</td>\n",
              "      <td>10</td>\n",
              "      <td>30</td>\n",
              "      <td>17</td>\n",
              "      <td>19</td>\n",
              "      <td>2</td>\n",
              "      <td>20</td>\n",
              "      <td>1</td>\n",
              "      <td>6</td>\n",
              "      <td>4</td>\n",
              "      <td>4</td>\n",
              "      <td>...</td>\n",
              "      <td>0</td>\n",
              "      <td>0</td>\n",
              "      <td>0</td>\n",
              "      <td>0</td>\n",
              "      <td>0</td>\n",
              "      <td>0</td>\n",
              "      <td>0</td>\n",
              "      <td>0</td>\n",
              "      <td>1</td>\n",
              "      <td>0</td>\n",
              "      <td>0</td>\n",
              "      <td>0</td>\n",
              "      <td>0</td>\n",
              "      <td>0</td>\n",
              "      <td>0</td>\n",
              "      <td>0</td>\n",
              "      <td>0</td>\n",
              "      <td>0</td>\n",
              "      <td>0</td>\n",
              "      <td>0</td>\n",
              "      <td>0</td>\n",
              "      <td>0</td>\n",
              "      <td>0</td>\n",
              "      <td>0</td>\n",
              "      <td>0</td>\n",
              "      <td>0</td>\n",
              "      <td>0</td>\n",
              "      <td>0</td>\n",
              "      <td>0</td>\n",
              "      <td>0</td>\n",
              "      <td>0</td>\n",
              "      <td>0</td>\n",
              "      <td>0</td>\n",
              "      <td>0</td>\n",
              "      <td>0</td>\n",
              "      <td>0</td>\n",
              "      <td>0</td>\n",
              "      <td>0</td>\n",
              "      <td>0</td>\n",
              "      <td>0</td>\n",
              "    </tr>\n",
              "    <tr>\n",
              "      <th>4</th>\n",
              "      <td>2</td>\n",
              "      <td>3</td>\n",
              "      <td>1</td>\n",
              "      <td>0</td>\n",
              "      <td>3</td>\n",
              "      <td>2</td>\n",
              "      <td>6</td>\n",
              "      <td>1</td>\n",
              "      <td>0</td>\n",
              "      <td>4</td>\n",
              "      <td>3</td>\n",
              "      <td>0</td>\n",
              "      <td>1</td>\n",
              "      <td>1</td>\n",
              "      <td>1</td>\n",
              "      <td>2</td>\n",
              "      <td>5</td>\n",
              "      <td>0</td>\n",
              "      <td>3</td>\n",
              "      <td>0</td>\n",
              "      <td>4</td>\n",
              "      <td>2</td>\n",
              "      <td>0</td>\n",
              "      <td>2</td>\n",
              "      <td>4</td>\n",
              "      <td>2</td>\n",
              "      <td>1</td>\n",
              "      <td>1</td>\n",
              "      <td>1</td>\n",
              "      <td>0</td>\n",
              "      <td>4</td>\n",
              "      <td>3</td>\n",
              "      <td>4</td>\n",
              "      <td>4</td>\n",
              "      <td>0</td>\n",
              "      <td>2</td>\n",
              "      <td>0</td>\n",
              "      <td>1</td>\n",
              "      <td>0</td>\n",
              "      <td>1</td>\n",
              "      <td>...</td>\n",
              "      <td>0</td>\n",
              "      <td>0</td>\n",
              "      <td>0</td>\n",
              "      <td>0</td>\n",
              "      <td>0</td>\n",
              "      <td>0</td>\n",
              "      <td>0</td>\n",
              "      <td>0</td>\n",
              "      <td>0</td>\n",
              "      <td>0</td>\n",
              "      <td>0</td>\n",
              "      <td>0</td>\n",
              "      <td>0</td>\n",
              "      <td>0</td>\n",
              "      <td>0</td>\n",
              "      <td>0</td>\n",
              "      <td>0</td>\n",
              "      <td>0</td>\n",
              "      <td>0</td>\n",
              "      <td>0</td>\n",
              "      <td>0</td>\n",
              "      <td>0</td>\n",
              "      <td>0</td>\n",
              "      <td>0</td>\n",
              "      <td>0</td>\n",
              "      <td>0</td>\n",
              "      <td>0</td>\n",
              "      <td>0</td>\n",
              "      <td>0</td>\n",
              "      <td>0</td>\n",
              "      <td>0</td>\n",
              "      <td>0</td>\n",
              "      <td>0</td>\n",
              "      <td>0</td>\n",
              "      <td>0</td>\n",
              "      <td>0</td>\n",
              "      <td>0</td>\n",
              "      <td>0</td>\n",
              "      <td>0</td>\n",
              "      <td>0</td>\n",
              "    </tr>\n",
              "    <tr>\n",
              "      <th>5</th>\n",
              "      <td>32</td>\n",
              "      <td>22</td>\n",
              "      <td>19</td>\n",
              "      <td>3</td>\n",
              "      <td>0</td>\n",
              "      <td>24</td>\n",
              "      <td>23</td>\n",
              "      <td>4</td>\n",
              "      <td>9</td>\n",
              "      <td>20</td>\n",
              "      <td>16</td>\n",
              "      <td>6</td>\n",
              "      <td>3</td>\n",
              "      <td>9</td>\n",
              "      <td>3</td>\n",
              "      <td>13</td>\n",
              "      <td>19</td>\n",
              "      <td>8</td>\n",
              "      <td>21</td>\n",
              "      <td>2</td>\n",
              "      <td>17</td>\n",
              "      <td>9</td>\n",
              "      <td>4</td>\n",
              "      <td>9</td>\n",
              "      <td>20</td>\n",
              "      <td>6</td>\n",
              "      <td>6</td>\n",
              "      <td>2</td>\n",
              "      <td>6</td>\n",
              "      <td>0</td>\n",
              "      <td>12</td>\n",
              "      <td>30</td>\n",
              "      <td>22</td>\n",
              "      <td>18</td>\n",
              "      <td>2</td>\n",
              "      <td>19</td>\n",
              "      <td>0</td>\n",
              "      <td>5</td>\n",
              "      <td>1</td>\n",
              "      <td>6</td>\n",
              "      <td>...</td>\n",
              "      <td>0</td>\n",
              "      <td>0</td>\n",
              "      <td>0</td>\n",
              "      <td>0</td>\n",
              "      <td>0</td>\n",
              "      <td>0</td>\n",
              "      <td>0</td>\n",
              "      <td>0</td>\n",
              "      <td>1</td>\n",
              "      <td>0</td>\n",
              "      <td>0</td>\n",
              "      <td>0</td>\n",
              "      <td>0</td>\n",
              "      <td>0</td>\n",
              "      <td>0</td>\n",
              "      <td>0</td>\n",
              "      <td>0</td>\n",
              "      <td>0</td>\n",
              "      <td>0</td>\n",
              "      <td>0</td>\n",
              "      <td>0</td>\n",
              "      <td>0</td>\n",
              "      <td>0</td>\n",
              "      <td>0</td>\n",
              "      <td>0</td>\n",
              "      <td>0</td>\n",
              "      <td>0</td>\n",
              "      <td>0</td>\n",
              "      <td>0</td>\n",
              "      <td>0</td>\n",
              "      <td>0</td>\n",
              "      <td>0</td>\n",
              "      <td>0</td>\n",
              "      <td>0</td>\n",
              "      <td>0</td>\n",
              "      <td>0</td>\n",
              "      <td>0</td>\n",
              "      <td>0</td>\n",
              "      <td>0</td>\n",
              "      <td>0</td>\n",
              "    </tr>\n",
              "  </tbody>\n",
              "</table>\n",
              "<p>5 rows × 9724 columns</p>\n",
              "</div>"
            ],
            "text/plain": [
              "movieId_y  1       2       3       4       ...  193583  193585  193587  193609\n",
              "movieId_x                                  ...                                \n",
              "1               0      68      31       2  ...       0       0       0       0\n",
              "2              68       0      26       3  ...       0       0       0       0\n",
              "3              31      26       0       1  ...       0       0       0       0\n",
              "4               2       3       1       0  ...       0       0       0       0\n",
              "5              32      22      19       3  ...       0       0       0       0\n",
              "\n",
              "[5 rows x 9724 columns]"
            ]
          },
          "metadata": {
            "tags": []
          },
          "execution_count": 11
        }
      ]
    },
    {
      "cell_type": "code",
      "metadata": {
        "id": "uHBAFsAnnr8p",
        "colab": {
          "base_uri": "https://localhost:8080/",
          "height": 415
        },
        "outputId": "37547cd5-d9fb-419b-abb1-03e541d5e820"
      },
      "source": [
        "df_out"
      ],
      "execution_count": null,
      "outputs": [
        {
          "output_type": "execute_result",
          "data": {
            "text/html": [
              "<div>\n",
              "<style scoped>\n",
              "    .dataframe tbody tr th:only-of-type {\n",
              "        vertical-align: middle;\n",
              "    }\n",
              "\n",
              "    .dataframe tbody tr th {\n",
              "        vertical-align: top;\n",
              "    }\n",
              "\n",
              "    .dataframe thead th {\n",
              "        text-align: right;\n",
              "    }\n",
              "</style>\n",
              "<table border=\"1\" class=\"dataframe\">\n",
              "  <thead>\n",
              "    <tr style=\"text-align: right;\">\n",
              "      <th></th>\n",
              "      <th>userId</th>\n",
              "      <th>movieId_x</th>\n",
              "      <th>rating_x</th>\n",
              "      <th>timestamp_x</th>\n",
              "      <th>movieId_y</th>\n",
              "      <th>rating_y</th>\n",
              "      <th>timestamp_y</th>\n",
              "    </tr>\n",
              "  </thead>\n",
              "  <tbody>\n",
              "    <tr>\n",
              "      <th>0</th>\n",
              "      <td>517</td>\n",
              "      <td>1</td>\n",
              "      <td>4.0</td>\n",
              "      <td>1487954343</td>\n",
              "      <td>1</td>\n",
              "      <td>4.0</td>\n",
              "      <td>1487954343</td>\n",
              "    </tr>\n",
              "    <tr>\n",
              "      <th>1</th>\n",
              "      <td>517</td>\n",
              "      <td>1</td>\n",
              "      <td>4.0</td>\n",
              "      <td>1487954343</td>\n",
              "      <td>2</td>\n",
              "      <td>3.0</td>\n",
              "      <td>1487954340</td>\n",
              "    </tr>\n",
              "    <tr>\n",
              "      <th>2</th>\n",
              "      <td>517</td>\n",
              "      <td>1</td>\n",
              "      <td>4.0</td>\n",
              "      <td>1487954343</td>\n",
              "      <td>10</td>\n",
              "      <td>0.5</td>\n",
              "      <td>1487957717</td>\n",
              "    </tr>\n",
              "    <tr>\n",
              "      <th>3</th>\n",
              "      <td>517</td>\n",
              "      <td>1</td>\n",
              "      <td>4.0</td>\n",
              "      <td>1487954343</td>\n",
              "      <td>17</td>\n",
              "      <td>0.5</td>\n",
              "      <td>1487953834</td>\n",
              "    </tr>\n",
              "    <tr>\n",
              "      <th>4</th>\n",
              "      <td>517</td>\n",
              "      <td>1</td>\n",
              "      <td>4.0</td>\n",
              "      <td>1487954343</td>\n",
              "      <td>34</td>\n",
              "      <td>5.0</td>\n",
              "      <td>1487954303</td>\n",
              "    </tr>\n",
              "    <tr>\n",
              "      <th>...</th>\n",
              "      <td>...</td>\n",
              "      <td>...</td>\n",
              "      <td>...</td>\n",
              "      <td>...</td>\n",
              "      <td>...</td>\n",
              "      <td>...</td>\n",
              "      <td>...</td>\n",
              "    </tr>\n",
              "    <tr>\n",
              "      <th>60893668</th>\n",
              "      <td>184</td>\n",
              "      <td>193587</td>\n",
              "      <td>3.5</td>\n",
              "      <td>1537110021</td>\n",
              "      <td>193579</td>\n",
              "      <td>3.5</td>\n",
              "      <td>1537107259</td>\n",
              "    </tr>\n",
              "    <tr>\n",
              "      <th>60893669</th>\n",
              "      <td>184</td>\n",
              "      <td>193587</td>\n",
              "      <td>3.5</td>\n",
              "      <td>1537110021</td>\n",
              "      <td>193581</td>\n",
              "      <td>4.0</td>\n",
              "      <td>1537109082</td>\n",
              "    </tr>\n",
              "    <tr>\n",
              "      <th>60893670</th>\n",
              "      <td>184</td>\n",
              "      <td>193587</td>\n",
              "      <td>3.5</td>\n",
              "      <td>1537110021</td>\n",
              "      <td>193583</td>\n",
              "      <td>3.5</td>\n",
              "      <td>1537109545</td>\n",
              "    </tr>\n",
              "    <tr>\n",
              "      <th>60893671</th>\n",
              "      <td>184</td>\n",
              "      <td>193587</td>\n",
              "      <td>3.5</td>\n",
              "      <td>1537110021</td>\n",
              "      <td>193585</td>\n",
              "      <td>3.5</td>\n",
              "      <td>1537109805</td>\n",
              "    </tr>\n",
              "    <tr>\n",
              "      <th>60893672</th>\n",
              "      <td>184</td>\n",
              "      <td>193587</td>\n",
              "      <td>3.5</td>\n",
              "      <td>1537110021</td>\n",
              "      <td>193587</td>\n",
              "      <td>3.5</td>\n",
              "      <td>1537110021</td>\n",
              "    </tr>\n",
              "  </tbody>\n",
              "</table>\n",
              "<p>60893673 rows × 7 columns</p>\n",
              "</div>"
            ],
            "text/plain": [
              "          userId  movieId_x  rating_x  ...  movieId_y  rating_y  timestamp_y\n",
              "0            517          1       4.0  ...          1       4.0   1487954343\n",
              "1            517          1       4.0  ...          2       3.0   1487954340\n",
              "2            517          1       4.0  ...         10       0.5   1487957717\n",
              "3            517          1       4.0  ...         17       0.5   1487953834\n",
              "4            517          1       4.0  ...         34       5.0   1487954303\n",
              "...          ...        ...       ...  ...        ...       ...          ...\n",
              "60893668     184     193587       3.5  ...     193579       3.5   1537107259\n",
              "60893669     184     193587       3.5  ...     193581       4.0   1537109082\n",
              "60893670     184     193587       3.5  ...     193583       3.5   1537109545\n",
              "60893671     184     193587       3.5  ...     193585       3.5   1537109805\n",
              "60893672     184     193587       3.5  ...     193587       3.5   1537110021\n",
              "\n",
              "[60893673 rows x 7 columns]"
            ]
          },
          "metadata": {
            "tags": []
          },
          "execution_count": 8
        }
      ]
    },
    {
      "cell_type": "code",
      "metadata": {
        "id": "T3T-lV-tpf4O",
        "colab": {
          "base_uri": "https://localhost:8080/",
          "height": 35
        },
        "outputId": "2f0873ec-51a0-4549-ce8b-a3128ce9e6ef"
      },
      "source": [
        "results.shape  ######## co-occurence matrix"
      ],
      "execution_count": null,
      "outputs": [
        {
          "output_type": "execute_result",
          "data": {
            "text/plain": [
              "(9724, 9724)"
            ]
          },
          "metadata": {
            "tags": []
          },
          "execution_count": 9
        }
      ]
    },
    {
      "cell_type": "code",
      "metadata": {
        "id": "VwDbOX1l-3KM"
      },
      "source": [
        "import scipy\n",
        "from sklearn import preprocessing\n",
        "\n",
        "import pandas as pd\n",
        "import numpy  as np\n",
        "\n",
        "### scaling the data between 0 to 1\n",
        "min_max_scaler = preprocessing.MinMaxScaler()\n",
        "x_scaled = min_max_scaler.fit_transform(results)\n",
        "df_normalized = pd.DataFrame(x_scaled)\n",
        "# df_normalized.head()\n",
        "\n",
        "movie_matrix = df_normalized.to_numpy()"
      ],
      "execution_count": null,
      "outputs": []
    },
    {
      "cell_type": "code",
      "metadata": {
        "id": "TlucftZx_L9U",
        "colab": {
          "base_uri": "https://localhost:8080/",
          "height": 156
        },
        "outputId": "1c4612cd-7ef3-4798-df29-9ec2019e1d14"
      },
      "source": [
        "print(movie_matrix)\n",
        "movie_matrix.shape[0]"
      ],
      "execution_count": null,
      "outputs": [
        {
          "output_type": "stream",
          "text": [
            "[[0.         0.75555556 0.775      ... 0.         0.         0.        ]\n",
            " [0.44444444 0.         0.65       ... 0.         0.         0.        ]\n",
            " [0.20261438 0.28888889 0.         ... 0.         0.         0.        ]\n",
            " ...\n",
            " [0.         0.         0.         ... 0.         1.         0.        ]\n",
            " [0.         0.         0.         ... 1.         0.         0.        ]\n",
            " [0.         0.         0.         ... 0.         0.         0.        ]]\n"
          ],
          "name": "stdout"
        },
        {
          "output_type": "execute_result",
          "data": {
            "text/plain": [
              "9724"
            ]
          },
          "metadata": {
            "tags": []
          },
          "execution_count": 11
        }
      ]
    },
    {
      "cell_type": "code",
      "metadata": {
        "id": "m87GACPo_Njv",
        "colab": {
          "base_uri": "https://localhost:8080/",
          "height": 156
        },
        "outputId": "b3a73084-40a0-42a5-e8ac-e0d50de707e9"
      },
      "source": [
        "#converting Xij data into a tensor\n",
        "\n",
        "movie_matrix_tensor = torch.from_numpy(movie_matrix)\n",
        "movie_matrix_tensor"
      ],
      "execution_count": null,
      "outputs": [
        {
          "output_type": "execute_result",
          "data": {
            "text/plain": [
              "tensor([[0.0000, 0.7556, 0.7750,  ..., 0.0000, 0.0000, 0.0000],\n",
              "        [0.4444, 0.0000, 0.6500,  ..., 0.0000, 0.0000, 0.0000],\n",
              "        [0.2026, 0.2889, 0.0000,  ..., 0.0000, 0.0000, 0.0000],\n",
              "        ...,\n",
              "        [0.0000, 0.0000, 0.0000,  ..., 0.0000, 1.0000, 0.0000],\n",
              "        [0.0000, 0.0000, 0.0000,  ..., 1.0000, 0.0000, 0.0000],\n",
              "        [0.0000, 0.0000, 0.0000,  ..., 0.0000, 0.0000, 0.0000]],\n",
              "       dtype=torch.float64)"
            ]
          },
          "metadata": {
            "tags": []
          },
          "execution_count": 12
        }
      ]
    },
    {
      "cell_type": "markdown",
      "metadata": {
        "id": "X9MqM1tQZMiV"
      },
      "source": [
        "# Compute data Xi,j from the movielens (small) dataset (data and description).\n",
        "\n",
        "# Briefly describe your data prep workflow (you can use pandas if needed).\n",
        "\n",
        "We imported the data from movieLens and removed the year from the movie title, as we need to recommend the movie, irrespective of year. \n",
        "\n",
        "Followed by, made a self pivot table, within movie based on userID - meaning how many users have rated that particular movie. \n",
        "\n",
        "Followed by, some preprocessig to bring everything to a common scale, so as to reduce outlier effects and any bias present in highly watched movies. \n",
        "\n",
        "Followed by converting the X_ij to a tensor. "
      ]
    },
    {
      "cell_type": "code",
      "metadata": {
        "id": "pvd7jVmN_PFa",
        "colab": {
          "base_uri": "https://localhost:8080/",
          "height": 35
        },
        "outputId": "da090088-2fc9-4e8e-b6bf-17ab8b41134d"
      },
      "source": [
        "#creating an empty tensor containing normally distributed values\n",
        "embedding_size = 50\n",
        "\n",
        "V = np.empty([movie_matrix_tensor.shape[0] ,embedding_size], dtype=float)\n",
        "mu, sigma = 0, 0.1 # mean and standard deviation\n",
        "\n",
        "for i in range(movie_matrix_tensor.shape[0]):\n",
        "    np.random.seed(i)\n",
        "    V[i] = np.random.normal(mu, sigma, embedding_size)\n",
        "\n",
        "movie_vector_tensor = torch.from_numpy(V)   ### normally distributed\n",
        "print(movie_vector_tensor.shape)"
      ],
      "execution_count": null,
      "outputs": [
        {
          "output_type": "stream",
          "text": [
            "torch.Size([9724, 50])\n"
          ],
          "name": "stdout"
        }
      ]
    },
    {
      "cell_type": "code",
      "metadata": {
        "id": "G2oJcVw6_TQ4"
      },
      "source": [
        "from torch import nn\n",
        "from torch import optim\n",
        "\n",
        "\n",
        "class LinReg(nn.Module):\n",
        "    def __init__(self, input_dim, output_dim):\n",
        "        super().__init__()\n",
        "        self.n = nn.Parameter(torch.randn(input_dim, output_dim))\n",
        "        \n",
        "    def forward(self, X):\n",
        "        return self.n"
      ],
      "execution_count": null,
      "outputs": []
    },
    {
      "cell_type": "code",
      "metadata": {
        "id": "fE_ojSXYA_F_"
      },
      "source": [
        "def learn_model(optimizer_name, num_epochs, learn_rate):\n",
        "  input_dm = movie_vector_tensor.shape[0]\n",
        "  output_dm = 10\n",
        "  learning_rate  = learn_rate\n",
        "  y_predictions = []\n",
        "  \n",
        "  running_loss = 0.0\n",
        "  loss_history = np.arange(0,num_epochs)\n",
        "\n",
        "  model= LinReg(input_dm,output_dm)                                                            \n",
        "  criterion = nn.MSELoss(reduction = 'sum')\n",
        "  if optimizer_name =='SGD':\n",
        "    optimizer = optim.SGD(model.parameters(), lr=learning_rate)\n",
        "  elif optimizer_name =='Adam':\n",
        "    optimizer = optim.Adam(model.parameters(), lr=learning_rate)\n",
        "  else:\n",
        "    print('enter optimizer name: SGD or Adam')  \n",
        "\n",
        "  \n",
        "  if len(optimizer_name) >1:\n",
        "\n",
        "    for i in range(num_epochs):\n",
        "            model.train()\n",
        "            optimizer.zero_grad()\n",
        "\n",
        "            n_vec = model(movie_vector_tensor)\n",
        "            y_pred1 = torch.matmul(n_vec,n_vec.t())\n",
        "            y_pred = y_pred1.type(torch.DoubleTensor)\n",
        "\n",
        "            loss = criterion(y_pred, movie_matrix_tensor)\n",
        "\n",
        "            loss.backward()\n",
        "            optimizer.step()\n",
        "\n",
        "            model.eval()               #model.eval() is a kind of switch for some specific layers/parts of the model that behave differently during training and inference (evaluating) time \n",
        "            with torch.no_grad():\n",
        "                y_pred = model(movie_vector_tensor) \n",
        "\n",
        "            print(loss)\n",
        "            loss_history[i] = loss\n",
        "\n",
        "            y_predictions = y_pred\n",
        "  \n",
        "  \n",
        "  plt.plot(np.arange(0,num_epochs),loss_history)\n",
        "  plt.xlabel('epoch')\n",
        "  plt.ylabel('loss')\n",
        "  plt.title(str(optimizer_name) + ' with learning Rate - '+ str(learn_rate))\n",
        "\n",
        "\n",
        "  return loss_history, y_predictions\n"
      ],
      "execution_count": null,
      "outputs": []
    },
    {
      "cell_type": "code",
      "metadata": {
        "id": "UZo7fTE3_Vb4",
        "colab": {
          "base_uri": "https://localhost:8080/",
          "height": 1000
        },
        "outputId": "cfaa83d6-9290-4678-d22e-ff2f901a2179"
      },
      "source": [
        "sgd_loss_50, sgd_predictions_50 = learn_model('SGD',50, 0.00001)"
      ],
      "execution_count": null,
      "outputs": [
        {
          "output_type": "stream",
          "text": [
            "tensor(9.5632e+08, dtype=torch.float64, grad_fn=<MseLossBackward>)\n",
            "tensor(1.3753e+08, dtype=torch.float64, grad_fn=<MseLossBackward>)\n",
            "tensor(76299427.4471, dtype=torch.float64, grad_fn=<MseLossBackward>)\n",
            "tensor(50921486.2931, dtype=torch.float64, grad_fn=<MseLossBackward>)\n",
            "tensor(37540858.1788, dtype=torch.float64, grad_fn=<MseLossBackward>)\n",
            "tensor(29508637.9915, dtype=torch.float64, grad_fn=<MseLossBackward>)\n",
            "tensor(24267923.9513, dtype=torch.float64, grad_fn=<MseLossBackward>)\n",
            "tensor(20641685.6917, dtype=torch.float64, grad_fn=<MseLossBackward>)\n",
            "tensor(18019946.1468, dtype=torch.float64, grad_fn=<MseLossBackward>)\n",
            "tensor(16058525.9242, dtype=torch.float64, grad_fn=<MseLossBackward>)\n",
            "tensor(14550281.1401, dtype=torch.float64, grad_fn=<MseLossBackward>)\n",
            "tensor(13364043.3436, dtype=torch.float64, grad_fn=<MseLossBackward>)\n",
            "tensor(12413261.4414, dtype=torch.float64, grad_fn=<MseLossBackward>)\n",
            "tensor(11638842.7313, dtype=torch.float64, grad_fn=<MseLossBackward>)\n",
            "tensor(10999264.0382, dtype=torch.float64, grad_fn=<MseLossBackward>)\n",
            "tensor(10464620.7110, dtype=torch.float64, grad_fn=<MseLossBackward>)\n",
            "tensor(10012911.5141, dtype=torch.float64, grad_fn=<MseLossBackward>)\n",
            "tensor(9627644.9262, dtype=torch.float64, grad_fn=<MseLossBackward>)\n",
            "tensor(9296253.8942, dtype=torch.float64, grad_fn=<MseLossBackward>)\n",
            "tensor(9009020.3417, dtype=torch.float64, grad_fn=<MseLossBackward>)\n",
            "tensor(8758329.7082, dtype=torch.float64, grad_fn=<MseLossBackward>)\n",
            "tensor(8538144.3288, dtype=torch.float64, grad_fn=<MseLossBackward>)\n",
            "tensor(8343624.9133, dtype=torch.float64, grad_fn=<MseLossBackward>)\n",
            "tensor(8170854.2485, dtype=torch.float64, grad_fn=<MseLossBackward>)\n",
            "tensor(8016632.6566, dtype=torch.float64, grad_fn=<MseLossBackward>)\n",
            "tensor(7878324.5903, dtype=torch.float64, grad_fn=<MseLossBackward>)\n",
            "tensor(7753742.2237, dtype=torch.float64, grad_fn=<MseLossBackward>)\n",
            "tensor(7641056.1527, dtype=torch.float64, grad_fn=<MseLossBackward>)\n",
            "tensor(7538726.1835, dtype=torch.float64, grad_fn=<MseLossBackward>)\n",
            "tensor(7445447.2034, dtype=torch.float64, grad_fn=<MseLossBackward>)\n",
            "tensor(7360106.4563, dtype=torch.float64, grad_fn=<MseLossBackward>)\n",
            "tensor(7281749.5549, dtype=torch.float64, grad_fn=<MseLossBackward>)\n",
            "tensor(7209553.2406, dtype=torch.float64, grad_fn=<MseLossBackward>)\n",
            "tensor(7142803.3679, dtype=torch.float64, grad_fn=<MseLossBackward>)\n",
            "tensor(7080877.0148, dtype=torch.float64, grad_fn=<MseLossBackward>)\n",
            "tensor(7023227.8346, dtype=torch.float64, grad_fn=<MseLossBackward>)\n",
            "tensor(6969373.9944, dtype=torch.float64, grad_fn=<MseLossBackward>)\n",
            "tensor(6918888.1750, dtype=torch.float64, grad_fn=<MseLossBackward>)\n",
            "tensor(6871389.2450, dtype=torch.float64, grad_fn=<MseLossBackward>)\n",
            "tensor(6826535.2810, dtype=torch.float64, grad_fn=<MseLossBackward>)\n",
            "tensor(6784017.6864, dtype=torch.float64, grad_fn=<MseLossBackward>)\n",
            "tensor(6743556.2196, dtype=torch.float64, grad_fn=<MseLossBackward>)\n",
            "tensor(6704894.7668, dtype=torch.float64, grad_fn=<MseLossBackward>)\n",
            "tensor(6667797.7341, dtype=torch.float64, grad_fn=<MseLossBackward>)\n",
            "tensor(6632046.9633, dtype=torch.float64, grad_fn=<MseLossBackward>)\n",
            "tensor(6597439.0802, dtype=torch.float64, grad_fn=<MseLossBackward>)\n",
            "tensor(6563783.2308, dtype=torch.float64, grad_fn=<MseLossBackward>)\n",
            "tensor(6530899.1344, dtype=torch.float64, grad_fn=<MseLossBackward>)\n",
            "tensor(6498615.4310, dtype=torch.float64, grad_fn=<MseLossBackward>)\n",
            "tensor(6466768.2822, dtype=torch.float64, grad_fn=<MseLossBackward>)\n"
          ],
          "name": "stdout"
        },
        {
          "output_type": "display_data",
          "data": {
            "image/png": "[encoded data removed]",
            "text/plain": [
              "<Figure size 432x288 with 1 Axes>"
            ]
          },
          "metadata": {
            "tags": [],
            "needs_background": "light"
          }
        }
      ]
    },
    {
      "cell_type": "code",
      "metadata": {
        "id": "2Tt_MXjZv0SH",
        "colab": {
          "base_uri": "https://localhost:8080/",
          "height": 1000
        },
        "outputId": "e1c9b032-3d84-4e8a-9a91-14112420b16e"
      },
      "source": [
        "sgd_loss_100, sgd_predictions_100 = learn_model('SGD',100, 0.00001)  #### loss dropped by almost 30% on increasing epoch to 100"
      ],
      "execution_count": null,
      "outputs": [
        {
          "output_type": "stream",
          "text": [
            "tensor(9.5529e+08, dtype=torch.float64, grad_fn=<MseLossBackward>)\n",
            "tensor(1.3751e+08, dtype=torch.float64, grad_fn=<MseLossBackward>)\n",
            "tensor(76294568.7143, dtype=torch.float64, grad_fn=<MseLossBackward>)\n",
            "tensor(50922062.6466, dtype=torch.float64, grad_fn=<MseLossBackward>)\n",
            "tensor(37543645.8601, dtype=torch.float64, grad_fn=<MseLossBackward>)\n",
            "tensor(29512500.6790, dtype=torch.float64, grad_fn=<MseLossBackward>)\n",
            "tensor(24272391.0120, dtype=torch.float64, grad_fn=<MseLossBackward>)\n",
            "tensor(20646544.0425, dtype=torch.float64, grad_fn=<MseLossBackward>)\n",
            "tensor(18025096.2732, dtype=torch.float64, grad_fn=<MseLossBackward>)\n",
            "tensor(16063923.5347, dtype=torch.float64, grad_fn=<MseLossBackward>)\n",
            "tensor(14555910.9566, dtype=torch.float64, grad_fn=<MseLossBackward>)\n",
            "tensor(13369906.4699, dtype=torch.float64, grad_fn=<MseLossBackward>)\n",
            "tensor(12419368.9162, dtype=torch.float64, grad_fn=<MseLossBackward>)\n",
            "tensor(11645212.0941, dtype=torch.float64, grad_fn=<MseLossBackward>)\n",
            "tensor(11005917.4907, dtype=torch.float64, grad_fn=<MseLossBackward>)\n",
            "tensor(10471584.1374, dtype=torch.float64, grad_fn=<MseLossBackward>)\n",
            "tensor(10020213.9772, dtype=torch.float64, grad_fn=<MseLossBackward>)\n",
            "tensor(9635318.4600, dtype=torch.float64, grad_fn=<MseLossBackward>)\n",
            "tensor(9304333.4836, dtype=torch.float64, grad_fn=<MseLossBackward>)\n",
            "tensor(9017543.9987, dtype=torch.float64, grad_fn=<MseLossBackward>)\n",
            "tensor(8767338.6533, dtype=torch.float64, grad_fn=<MseLossBackward>)\n",
            "tensor(8547683.2084, dtype=torch.float64, grad_fn=<MseLossBackward>)\n",
            "tensor(8353742.0842, dtype=torch.float64, grad_fn=<MseLossBackward>)\n",
            "tensor(8181602.0993, dtype=torch.float64, grad_fn=<MseLossBackward>)\n",
            "tensor(8028067.9709, dtype=torch.float64, grad_fn=<MseLossBackward>)\n",
            "tensor(7890508.9350, dtype=torch.float64, grad_fn=<MseLossBackward>)\n",
            "tensor(7766742.3891, dtype=torch.float64, grad_fn=<MseLossBackward>)\n",
            "tensor(7654944.6205, dtype=torch.float64, grad_fn=<MseLossBackward>)\n",
            "tensor(7553581.6404, dtype=torch.float64, grad_fn=<MseLossBackward>)\n",
            "tensor(7461355.0876, dtype=torch.float64, grad_fn=<MseLossBackward>)\n",
            "tensor(7377159.5581, dtype=torch.float64, grad_fn=<MseLossBackward>)\n",
            "tensor(7300048.6580, dtype=torch.float64, grad_fn=<MseLossBackward>)\n",
            "tensor(7229207.7989, dtype=torch.float64, grad_fn=<MseLossBackward>)\n",
            "tensor(7163932.2524, dtype=torch.float64, grad_fn=<MseLossBackward>)\n",
            "tensor(7103609.2927, dtype=torch.float64, grad_fn=<MseLossBackward>)\n",
            "tensor(7047703.6064, dtype=torch.float64, grad_fn=<MseLossBackward>)\n",
            "tensor(6995745.2793, dtype=torch.float64, grad_fn=<MseLossBackward>)\n",
            "tensor(6947319.8544, dtype=torch.float64, grad_fn=<MseLossBackward>)\n",
            "tensor(6902060.0456, dtype=torch.float64, grad_fn=<MseLossBackward>)\n",
            "tensor(6859638.8080, dtype=torch.float64, grad_fn=<MseLossBackward>)\n",
            "tensor(6819763.5002, dtype=torch.float64, grad_fn=<MseLossBackward>)\n",
            "tensor(6782170.9478, dtype=torch.float64, grad_fn=<MseLossBackward>)\n",
            "tensor(6746623.2377, dtype=torch.float64, grad_fn=<MseLossBackward>)\n",
            "tensor(6712904.1281, dtype=torch.float64, grad_fn=<MseLossBackward>)\n",
            "tensor(6680815.9626, dtype=torch.float64, grad_fn=<MseLossBackward>)\n",
            "tensor(6650176.9976, dtype=torch.float64, grad_fn=<MseLossBackward>)\n",
            "tensor(6620819.0923, dtype=torch.float64, grad_fn=<MseLossBackward>)\n",
            "tensor(6592585.6875, dtype=torch.float64, grad_fn=<MseLossBackward>)\n",
            "tensor(6565330.0402, dtype=torch.float64, grad_fn=<MseLossBackward>)\n",
            "tensor(6538913.6691, dtype=torch.float64, grad_fn=<MseLossBackward>)\n",
            "tensor(6513204.9826, dtype=torch.float64, grad_fn=<MseLossBackward>)\n",
            "tensor(6488078.0710, dtype=torch.float64, grad_fn=<MseLossBackward>)\n",
            "tensor(6463411.6385, dtype=torch.float64, grad_fn=<MseLossBackward>)\n",
            "tensor(6439088.0594, dtype=torch.float64, grad_fn=<MseLossBackward>)\n",
            "tensor(6414992.5528, dtype=torch.float64, grad_fn=<MseLossBackward>)\n",
            "tensor(6391012.4680, dtype=torch.float64, grad_fn=<MseLossBackward>)\n",
            "tensor(6367036.6703, dtype=torch.float64, grad_fn=<MseLossBackward>)\n",
            "tensor(6342955.0373, dtype=torch.float64, grad_fn=<MseLossBackward>)\n",
            "tensor(6318658.0609, dtype=torch.float64, grad_fn=<MseLossBackward>)\n",
            "tensor(6294036.5590, dtype=torch.float64, grad_fn=<MseLossBackward>)\n",
            "tensor(6268981.5100, dtype=torch.float64, grad_fn=<MseLossBackward>)\n",
            "tensor(6243384.0172, dtype=torch.float64, grad_fn=<MseLossBackward>)\n",
            "tensor(6217135.4147, dtype=torch.float64, grad_fn=<MseLossBackward>)\n",
            "tensor(6190127.5267, dtype=torch.float64, grad_fn=<MseLossBackward>)\n",
            "tensor(6162253.1049, dtype=torch.float64, grad_fn=<MseLossBackward>)\n",
            "tensor(6133406.4460, dtype=torch.float64, grad_fn=<MseLossBackward>)\n",
            "tensor(6103484.2199, dtype=torch.float64, grad_fn=<MseLossBackward>)\n",
            "tensor(6072386.5097, dtype=torch.float64, grad_fn=<MseLossBackward>)\n",
            "tensor(6040018.0868, dtype=torch.float64, grad_fn=<MseLossBackward>)\n",
            "tensor(6006289.9209, dtype=torch.float64, grad_fn=<MseLossBackward>)\n",
            "tensor(5971120.9298, dtype=torch.float64, grad_fn=<MseLossBackward>)\n",
            "tensor(5934439.9617, dtype=torch.float64, grad_fn=<MseLossBackward>)\n",
            "tensor(5896187.9847, dtype=torch.float64, grad_fn=<MseLossBackward>)\n",
            "tensor(5856320.4596, dtype=torch.float64, grad_fn=<MseLossBackward>)\n",
            "tensor(5814809.8403, dtype=torch.float64, grad_fn=<MseLossBackward>)\n",
            "tensor(5771648.1360, dtype=torch.float64, grad_fn=<MseLossBackward>)\n",
            "tensor(5726849.4416, dtype=torch.float64, grad_fn=<MseLossBackward>)\n",
            "tensor(5680452.3389, dtype=torch.float64, grad_fn=<MseLossBackward>)\n",
            "tensor(5632522.0332, dtype=torch.float64, grad_fn=<MseLossBackward>)\n",
            "tensor(5583152.0810, dtype=torch.float64, grad_fn=<MseLossBackward>)\n",
            "tensor(5532465.5656, dtype=torch.float64, grad_fn=<MseLossBackward>)\n",
            "tensor(5480615.5609, dtype=torch.float64, grad_fn=<MseLossBackward>)\n",
            "tensor(5427784.7355, dtype=torch.float64, grad_fn=<MseLossBackward>)\n",
            "tensor(5374183.9915, dtype=torch.float64, grad_fn=<MseLossBackward>)\n",
            "tensor(5320050.0222, dtype=torch.float64, grad_fn=<MseLossBackward>)\n",
            "tensor(5265641.7919, dtype=torch.float64, grad_fn=<MseLossBackward>)\n",
            "tensor(5211235.9244, dtype=torch.float64, grad_fn=<MseLossBackward>)\n",
            "tensor(5157121.1280, dtype=torch.float64, grad_fn=<MseLossBackward>)\n",
            "tensor(5103591.8095, dtype=torch.float64, grad_fn=<MseLossBackward>)\n",
            "tensor(5050941.1223, dtype=torch.float64, grad_fn=<MseLossBackward>)\n",
            "tensor(4999453.7553, dtype=torch.float64, grad_fn=<MseLossBackward>)\n",
            "tensor(4949398.7889, dtype=torch.float64, grad_fn=<MseLossBackward>)\n",
            "tensor(4901022.9858, dtype=torch.float64, grad_fn=<MseLossBackward>)\n",
            "tensor(4854544.8575, dtype=torch.float64, grad_fn=<MseLossBackward>)\n",
            "tensor(4810149.7985, dtype=torch.float64, grad_fn=<MseLossBackward>)\n",
            "tensor(4767986.5331, dtype=torch.float64, grad_fn=<MseLossBackward>)\n",
            "tensor(4728165.0121, dtype=torch.float64, grad_fn=<MseLossBackward>)\n",
            "tensor(4690755.8120, dtype=torch.float64, grad_fn=<MseLossBackward>)\n",
            "tensor(4655790.9792, dtype=torch.float64, grad_fn=<MseLossBackward>)\n",
            "tensor(4623266.1844, dtype=torch.float64, grad_fn=<MseLossBackward>)\n"
          ],
          "name": "stdout"
        },
        {
          "output_type": "display_data",
          "data": {
            "image/png": "[encoded data removed]",
            "text/plain": [
              "<Figure size 432x288 with 1 Axes>"
            ]
          },
          "metadata": {
            "tags": [],
            "needs_background": "light"
          }
        }
      ]
    },
    {
      "cell_type": "code",
      "metadata": {
        "id": "KAb-aP3_D57H",
        "colab": {
          "base_uri": "https://localhost:8080/",
          "height": 1000
        },
        "outputId": "f0a2eea0-fe50-4719-bff4-e03d3000e3a0"
      },
      "source": [
        "adam_loss_50, adam_predictions_50 = learn_model('Adam',50, 0.00001) ###### learning rate should be higher with Adam optimizer in this scenario"
      ],
      "execution_count": null,
      "outputs": [
        {
          "output_type": "stream",
          "text": [
            "tensor(9.5268e+08, dtype=torch.float64, grad_fn=<MseLossBackward>)\n",
            "tensor(9.5265e+08, dtype=torch.float64, grad_fn=<MseLossBackward>)\n",
            "tensor(9.5262e+08, dtype=torch.float64, grad_fn=<MseLossBackward>)\n",
            "tensor(9.5259e+08, dtype=torch.float64, grad_fn=<MseLossBackward>)\n",
            "tensor(9.5256e+08, dtype=torch.float64, grad_fn=<MseLossBackward>)\n",
            "tensor(9.5253e+08, dtype=torch.float64, grad_fn=<MseLossBackward>)\n",
            "tensor(9.5250e+08, dtype=torch.float64, grad_fn=<MseLossBackward>)\n",
            "tensor(9.5247e+08, dtype=torch.float64, grad_fn=<MseLossBackward>)\n",
            "tensor(9.5244e+08, dtype=torch.float64, grad_fn=<MseLossBackward>)\n",
            "tensor(9.5241e+08, dtype=torch.float64, grad_fn=<MseLossBackward>)\n",
            "tensor(9.5238e+08, dtype=torch.float64, grad_fn=<MseLossBackward>)\n",
            "tensor(9.5235e+08, dtype=torch.float64, grad_fn=<MseLossBackward>)\n",
            "tensor(9.5232e+08, dtype=torch.float64, grad_fn=<MseLossBackward>)\n",
            "tensor(9.5229e+08, dtype=torch.float64, grad_fn=<MseLossBackward>)\n",
            "tensor(9.5226e+08, dtype=torch.float64, grad_fn=<MseLossBackward>)\n",
            "tensor(9.5223e+08, dtype=torch.float64, grad_fn=<MseLossBackward>)\n",
            "tensor(9.5220e+08, dtype=torch.float64, grad_fn=<MseLossBackward>)\n",
            "tensor(9.5217e+08, dtype=torch.float64, grad_fn=<MseLossBackward>)\n",
            "tensor(9.5214e+08, dtype=torch.float64, grad_fn=<MseLossBackward>)\n",
            "tensor(9.5211e+08, dtype=torch.float64, grad_fn=<MseLossBackward>)\n",
            "tensor(9.5208e+08, dtype=torch.float64, grad_fn=<MseLossBackward>)\n",
            "tensor(9.5205e+08, dtype=torch.float64, grad_fn=<MseLossBackward>)\n",
            "tensor(9.5202e+08, dtype=torch.float64, grad_fn=<MseLossBackward>)\n",
            "tensor(9.5199e+08, dtype=torch.float64, grad_fn=<MseLossBackward>)\n",
            "tensor(9.5196e+08, dtype=torch.float64, grad_fn=<MseLossBackward>)\n",
            "tensor(9.5193e+08, dtype=torch.float64, grad_fn=<MseLossBackward>)\n",
            "tensor(9.5190e+08, dtype=torch.float64, grad_fn=<MseLossBackward>)\n",
            "tensor(9.5187e+08, dtype=torch.float64, grad_fn=<MseLossBackward>)\n",
            "tensor(9.5184e+08, dtype=torch.float64, grad_fn=<MseLossBackward>)\n",
            "tensor(9.5181e+08, dtype=torch.float64, grad_fn=<MseLossBackward>)\n",
            "tensor(9.5178e+08, dtype=torch.float64, grad_fn=<MseLossBackward>)\n",
            "tensor(9.5175e+08, dtype=torch.float64, grad_fn=<MseLossBackward>)\n",
            "tensor(9.5171e+08, dtype=torch.float64, grad_fn=<MseLossBackward>)\n",
            "tensor(9.5168e+08, dtype=torch.float64, grad_fn=<MseLossBackward>)\n",
            "tensor(9.5165e+08, dtype=torch.float64, grad_fn=<MseLossBackward>)\n",
            "tensor(9.5162e+08, dtype=torch.float64, grad_fn=<MseLossBackward>)\n",
            "tensor(9.5159e+08, dtype=torch.float64, grad_fn=<MseLossBackward>)\n",
            "tensor(9.5156e+08, dtype=torch.float64, grad_fn=<MseLossBackward>)\n",
            "tensor(9.5153e+08, dtype=torch.float64, grad_fn=<MseLossBackward>)\n",
            "tensor(9.5150e+08, dtype=torch.float64, grad_fn=<MseLossBackward>)\n",
            "tensor(9.5147e+08, dtype=torch.float64, grad_fn=<MseLossBackward>)\n",
            "tensor(9.5144e+08, dtype=torch.float64, grad_fn=<MseLossBackward>)\n",
            "tensor(9.5141e+08, dtype=torch.float64, grad_fn=<MseLossBackward>)\n",
            "tensor(9.5138e+08, dtype=torch.float64, grad_fn=<MseLossBackward>)\n",
            "tensor(9.5135e+08, dtype=torch.float64, grad_fn=<MseLossBackward>)\n",
            "tensor(9.5132e+08, dtype=torch.float64, grad_fn=<MseLossBackward>)\n",
            "tensor(9.5129e+08, dtype=torch.float64, grad_fn=<MseLossBackward>)\n",
            "tensor(9.5126e+08, dtype=torch.float64, grad_fn=<MseLossBackward>)\n",
            "tensor(9.5123e+08, dtype=torch.float64, grad_fn=<MseLossBackward>)\n",
            "tensor(9.5120e+08, dtype=torch.float64, grad_fn=<MseLossBackward>)\n"
          ],
          "name": "stdout"
        },
        {
          "output_type": "display_data",
          "data": {
            "image/png": "[encoded data removed]",
            "text/plain": [
              "<Figure size 432x288 with 1 Axes>"
            ]
          },
          "metadata": {
            "tags": [],
            "needs_background": "light"
          }
        }
      ]
    },
    {
      "cell_type": "code",
      "metadata": {
        "id": "fFLH7_mHxH2m",
        "colab": {
          "base_uri": "https://localhost:8080/",
          "height": 1000
        },
        "outputId": "56de81d1-1118-4f9a-f1ff-5a5fe320cad6"
      },
      "source": [
        "adam_loss_100_01, adam_predictions_100_01 = learn_model('Adam',100, 0.1) ###### loss reduced considerably after increasing learning rate"
      ],
      "execution_count": null,
      "outputs": [
        {
          "output_type": "stream",
          "text": [
            "tensor(9.4456e+08, dtype=torch.float64, grad_fn=<MseLossBackward>)\n",
            "tensor(6.8428e+08, dtype=torch.float64, grad_fn=<MseLossBackward>)\n",
            "tensor(4.9319e+08, dtype=torch.float64, grad_fn=<MseLossBackward>)\n",
            "tensor(3.5541e+08, dtype=torch.float64, grad_fn=<MseLossBackward>)\n",
            "tensor(2.5706e+08, dtype=torch.float64, grad_fn=<MseLossBackward>)\n",
            "tensor(1.8725e+08, dtype=torch.float64, grad_fn=<MseLossBackward>)\n",
            "tensor(1.3786e+08, dtype=torch.float64, grad_fn=<MseLossBackward>)\n",
            "tensor(1.0297e+08, dtype=torch.float64, grad_fn=<MseLossBackward>)\n",
            "tensor(78286598.3440, dtype=torch.float64, grad_fn=<MseLossBackward>)\n",
            "tensor(60749626.0607, dtype=torch.float64, grad_fn=<MseLossBackward>)\n",
            "tensor(48209603.0149, dtype=torch.float64, grad_fn=<MseLossBackward>)\n",
            "tensor(39164188.7321, dtype=torch.float64, grad_fn=<MseLossBackward>)\n",
            "tensor(32571112.2043, dtype=torch.float64, grad_fn=<MseLossBackward>)\n",
            "tensor(27708748.7125, dtype=torch.float64, grad_fn=<MseLossBackward>)\n",
            "tensor(24076682.1650, dtype=torch.float64, grad_fn=<MseLossBackward>)\n",
            "tensor(21326322.1842, dtype=torch.float64, grad_fn=<MseLossBackward>)\n",
            "tensor(19213210.0156, dtype=torch.float64, grad_fn=<MseLossBackward>)\n",
            "tensor(17564516.9201, dtype=torch.float64, grad_fn=<MseLossBackward>)\n",
            "tensor(16256973.7642, dtype=torch.float64, grad_fn=<MseLossBackward>)\n",
            "tensor(15201885.6929, dtype=torch.float64, grad_fn=<MseLossBackward>)\n",
            "tensor(14334922.6787, dtype=torch.float64, grad_fn=<MseLossBackward>)\n",
            "tensor(13609122.2146, dtype=torch.float64, grad_fn=<MseLossBackward>)\n",
            "tensor(12990048.0779, dtype=torch.float64, grad_fn=<MseLossBackward>)\n",
            "tensor(12452399.0665, dtype=torch.float64, grad_fn=<MseLossBackward>)\n",
            "tensor(11977595.7005, dtype=torch.float64, grad_fn=<MseLossBackward>)\n",
            "tensor(11552032.8947, dtype=torch.float64, grad_fn=<MseLossBackward>)\n",
            "tensor(11165791.9680, dtype=torch.float64, grad_fn=<MseLossBackward>)\n",
            "tensor(10811677.7561, dtype=torch.float64, grad_fn=<MseLossBackward>)\n",
            "tensor(10484491.0149, dtype=torch.float64, grad_fn=<MseLossBackward>)\n",
            "tensor(10180477.1772, dtype=torch.float64, grad_fn=<MseLossBackward>)\n",
            "tensor(9896910.0269, dtype=torch.float64, grad_fn=<MseLossBackward>)\n",
            "tensor(9631780.5968, dtype=torch.float64, grad_fn=<MseLossBackward>)\n",
            "tensor(9383568.3734, dtype=torch.float64, grad_fn=<MseLossBackward>)\n",
            "tensor(9151076.2700, dtype=torch.float64, grad_fn=<MseLossBackward>)\n",
            "tensor(8933314.5110, dtype=torch.float64, grad_fn=<MseLossBackward>)\n",
            "tensor(8729420.8905, dtype=torch.float64, grad_fn=<MseLossBackward>)\n",
            "tensor(8538607.7459, dtype=torch.float64, grad_fn=<MseLossBackward>)\n",
            "tensor(8360127.6014, dtype=torch.float64, grad_fn=<MseLossBackward>)\n",
            "tensor(8193251.7035, dtype=torch.float64, grad_fn=<MseLossBackward>)\n",
            "tensor(8037257.0766, dtype=torch.float64, grad_fn=<MseLossBackward>)\n",
            "tensor(7891419.0493, dtype=torch.float64, grad_fn=<MseLossBackward>)\n",
            "tensor(7755007.1385, dtype=torch.float64, grad_fn=<MseLossBackward>)\n",
            "tensor(7627282.8459, dtype=torch.float64, grad_fn=<MseLossBackward>)\n",
            "tensor(7507498.6147, dtype=torch.float64, grad_fn=<MseLossBackward>)\n",
            "tensor(7394897.2107, dtype=torch.float64, grad_fn=<MseLossBackward>)\n",
            "tensor(7288711.3856, dtype=torch.float64, grad_fn=<MseLossBackward>)\n",
            "tensor(7188163.6430, dtype=torch.float64, grad_fn=<MseLossBackward>)\n",
            "tensor(7092466.2897, dtype=torch.float64, grad_fn=<MseLossBackward>)\n",
            "tensor(7000822.0197, dtype=torch.float64, grad_fn=<MseLossBackward>)\n",
            "tensor(6912425.5490, dtype=torch.float64, grad_fn=<MseLossBackward>)\n",
            "tensor(6826467.1525, dtype=torch.float64, grad_fn=<MseLossBackward>)\n",
            "tensor(6742139.0542, dtype=torch.float64, grad_fn=<MseLossBackward>)\n",
            "tensor(6658645.9332, dtype=torch.float64, grad_fn=<MseLossBackward>)\n",
            "tensor(6575221.0701, dtype=torch.float64, grad_fn=<MseLossBackward>)\n",
            "tensor(6491149.3687, dtype=torch.float64, grad_fn=<MseLossBackward>)\n",
            "tensor(6405798.4364, dtype=torch.float64, grad_fn=<MseLossBackward>)\n",
            "tensor(6318657.6658, dtype=torch.float64, grad_fn=<MseLossBackward>)\n",
            "tensor(6229383.8556, dtype=torch.float64, grad_fn=<MseLossBackward>)\n",
            "tensor(6137849.1320, dtype=torch.float64, grad_fn=<MseLossBackward>)\n",
            "tensor(6044183.8507, dtype=torch.float64, grad_fn=<MseLossBackward>)\n",
            "tensor(5948803.6252, dtype=torch.float64, grad_fn=<MseLossBackward>)\n",
            "tensor(5852407.6749, dtype=torch.float64, grad_fn=<MseLossBackward>)\n",
            "tensor(5755936.5168, dtype=torch.float64, grad_fn=<MseLossBackward>)\n",
            "tensor(5660483.6709, dtype=torch.float64, grad_fn=<MseLossBackward>)\n",
            "tensor(5567168.3189, dtype=torch.float64, grad_fn=<MseLossBackward>)\n",
            "tensor(5476992.2366, dtype=torch.float64, grad_fn=<MseLossBackward>)\n",
            "tensor(5390717.5214, dtype=torch.float64, grad_fn=<MseLossBackward>)\n",
            "tensor(5308803.1404, dtype=torch.float64, grad_fn=<MseLossBackward>)\n",
            "tensor(5231422.4519, dtype=torch.float64, grad_fn=<MseLossBackward>)\n",
            "tensor(5158553.7312, dtype=torch.float64, grad_fn=<MseLossBackward>)\n",
            "tensor(5090105.7518, dtype=torch.float64, grad_fn=<MseLossBackward>)\n",
            "tensor(5026026.0852, dtype=torch.float64, grad_fn=<MseLossBackward>)\n",
            "tensor(4966350.6891, dtype=torch.float64, grad_fn=<MseLossBackward>)\n",
            "tensor(4911182.5245, dtype=torch.float64, grad_fn=<MseLossBackward>)\n",
            "tensor(4860619.2504, dtype=torch.float64, grad_fn=<MseLossBackward>)\n",
            "tensor(4814668.9026, dtype=torch.float64, grad_fn=<MseLossBackward>)\n",
            "tensor(4773191.0279, dtype=torch.float64, grad_fn=<MseLossBackward>)\n",
            "tensor(4735883.6192, dtype=torch.float64, grad_fn=<MseLossBackward>)\n",
            "tensor(4702314.7668, dtype=torch.float64, grad_fn=<MseLossBackward>)\n",
            "tensor(4671982.1852, dtype=torch.float64, grad_fn=<MseLossBackward>)\n",
            "tensor(4644378.5902, dtype=torch.float64, grad_fn=<MseLossBackward>)\n",
            "tensor(4619044.5224, dtype=torch.float64, grad_fn=<MseLossBackward>)\n",
            "tensor(4595598.7169, dtype=torch.float64, grad_fn=<MseLossBackward>)\n",
            "tensor(4573744.7080, dtype=torch.float64, grad_fn=<MseLossBackward>)\n",
            "tensor(4553258.9378, dtype=torch.float64, grad_fn=<MseLossBackward>)\n",
            "tensor(4533968.7364, dtype=torch.float64, grad_fn=<MseLossBackward>)\n",
            "tensor(4515728.8569, dtype=torch.float64, grad_fn=<MseLossBackward>)\n",
            "tensor(4498403.0777, dtype=torch.float64, grad_fn=<MseLossBackward>)\n",
            "tensor(4481854.2869, dtype=torch.float64, grad_fn=<MseLossBackward>)\n",
            "tensor(4465942.9946, dtype=torch.float64, grad_fn=<MseLossBackward>)\n",
            "tensor(4450531.6941, dtype=torch.float64, grad_fn=<MseLossBackward>)\n",
            "tensor(4435491.2545, dtype=torch.float64, grad_fn=<MseLossBackward>)\n",
            "tensor(4420705.8199, dtype=torch.float64, grad_fn=<MseLossBackward>)\n",
            "tensor(4406074.1327, dtype=torch.float64, grad_fn=<MseLossBackward>)\n",
            "tensor(4391507.1587, dtype=torch.float64, grad_fn=<MseLossBackward>)\n",
            "tensor(4376923.4010, dtype=torch.float64, grad_fn=<MseLossBackward>)\n",
            "tensor(4362244.0037, dtype=torch.float64, grad_fn=<MseLossBackward>)\n",
            "tensor(4347389.5179, dtype=torch.float64, grad_fn=<MseLossBackward>)\n",
            "tensor(4332279.2651, dtype=torch.float64, grad_fn=<MseLossBackward>)\n",
            "tensor(4316833.2009, dtype=torch.float64, grad_fn=<MseLossBackward>)\n"
          ],
          "name": "stdout"
        },
        {
          "output_type": "display_data",
          "data": {
            "image/png": "[encoded data removed]",
            "text/plain": [
              "<Figure size 432x288 with 1 Axes>"
            ]
          },
          "metadata": {
            "tags": [],
            "needs_background": "light"
          }
        }
      ]
    },
    {
      "cell_type": "code",
      "metadata": {
        "id": "DRg5tUxJLzyr",
        "colab": {
          "base_uri": "https://localhost:8080/",
          "height": 1000
        },
        "outputId": "e5a59a69-a9c4-4a5a-ff4b-a506de164b24"
      },
      "source": [
        "adam_loss_100_1, adam_predictions_100_1 = learn_model('Adam',100, 1)     #### best results when learning rate is high and loss is stable after 40 epochs"
      ],
      "execution_count": null,
      "outputs": [
        {
          "output_type": "stream",
          "text": [
            "tensor(9.4659e+08, dtype=torch.float64, grad_fn=<MseLossBackward>)\n",
            "tensor(1.6118e+08, dtype=torch.float64, grad_fn=<MseLossBackward>)\n",
            "tensor(1.5841e+08, dtype=torch.float64, grad_fn=<MseLossBackward>)\n",
            "tensor(2.6429e+08, dtype=torch.float64, grad_fn=<MseLossBackward>)\n",
            "tensor(2.8525e+08, dtype=torch.float64, grad_fn=<MseLossBackward>)\n",
            "tensor(1.9610e+08, dtype=torch.float64, grad_fn=<MseLossBackward>)\n",
            "tensor(1.2481e+08, dtype=torch.float64, grad_fn=<MseLossBackward>)\n",
            "tensor(99867420.9015, dtype=torch.float64, grad_fn=<MseLossBackward>)\n",
            "tensor(99639181.9916, dtype=torch.float64, grad_fn=<MseLossBackward>)\n",
            "tensor(99571230.8036, dtype=torch.float64, grad_fn=<MseLossBackward>)\n",
            "tensor(86455759.1111, dtype=torch.float64, grad_fn=<MseLossBackward>)\n",
            "tensor(66405240.9305, dtype=torch.float64, grad_fn=<MseLossBackward>)\n",
            "tensor(50461306.8411, dtype=torch.float64, grad_fn=<MseLossBackward>)\n",
            "tensor(42296008.6546, dtype=torch.float64, grad_fn=<MseLossBackward>)\n",
            "tensor(40125837.8578, dtype=torch.float64, grad_fn=<MseLossBackward>)\n",
            "tensor(40575766.2194, dtype=torch.float64, grad_fn=<MseLossBackward>)\n",
            "tensor(40223462.1198, dtype=torch.float64, grad_fn=<MseLossBackward>)\n",
            "tensor(37123864.7100, dtype=torch.float64, grad_fn=<MseLossBackward>)\n",
            "tensor(31841618.2995, dtype=torch.float64, grad_fn=<MseLossBackward>)\n",
            "tensor(26329463.0006, dtype=torch.float64, grad_fn=<MseLossBackward>)\n",
            "tensor(22059528.0230, dtype=torch.float64, grad_fn=<MseLossBackward>)\n",
            "tensor(19407733.5703, dtype=torch.float64, grad_fn=<MseLossBackward>)\n",
            "tensor(18061879.2616, dtype=torch.float64, grad_fn=<MseLossBackward>)\n",
            "tensor(17478752.0493, dtype=torch.float64, grad_fn=<MseLossBackward>)\n",
            "tensor(17104036.5390, dtype=torch.float64, grad_fn=<MseLossBackward>)\n",
            "tensor(16505494.5409, dtype=torch.float64, grad_fn=<MseLossBackward>)\n",
            "tensor(15495091.4109, dtype=torch.float64, grad_fn=<MseLossBackward>)\n",
            "tensor(14156526.3648, dtype=torch.float64, grad_fn=<MseLossBackward>)\n",
            "tensor(12729058.9484, dtype=torch.float64, grad_fn=<MseLossBackward>)\n",
            "tensor(11441284.3529, dtype=torch.float64, grad_fn=<MseLossBackward>)\n",
            "tensor(10415902.6983, dtype=torch.float64, grad_fn=<MseLossBackward>)\n",
            "tensor(9669271.4431, dtype=torch.float64, grad_fn=<MseLossBackward>)\n",
            "tensor(9154942.1331, dtype=torch.float64, grad_fn=<MseLossBackward>)\n",
            "tensor(8803712.5072, dtype=torch.float64, grad_fn=<MseLossBackward>)\n",
            "tensor(8545608.5300, dtype=torch.float64, grad_fn=<MseLossBackward>)\n",
            "tensor(8319143.1264, dtype=torch.float64, grad_fn=<MseLossBackward>)\n",
            "tensor(8075769.6025, dtype=torch.float64, grad_fn=<MseLossBackward>)\n",
            "tensor(7782995.9011, dtype=torch.float64, grad_fn=<MseLossBackward>)\n",
            "tensor(7426137.7324, dtype=torch.float64, grad_fn=<MseLossBackward>)\n",
            "tensor(7008719.7125, dtype=torch.float64, grad_fn=<MseLossBackward>)\n",
            "tensor(6553262.6940, dtype=torch.float64, grad_fn=<MseLossBackward>)\n",
            "tensor(6103148.3244, dtype=torch.float64, grad_fn=<MseLossBackward>)\n",
            "tensor(5718799.9960, dtype=torch.float64, grad_fn=<MseLossBackward>)\n",
            "tensor(5453239.7551, dtype=torch.float64, grad_fn=<MseLossBackward>)\n",
            "tensor(5307319.8332, dtype=torch.float64, grad_fn=<MseLossBackward>)\n",
            "tensor(5214120.0997, dtype=torch.float64, grad_fn=<MseLossBackward>)\n",
            "tensor(5101911.9554, dtype=torch.float64, grad_fn=<MseLossBackward>)\n",
            "tensor(4967774.4401, dtype=torch.float64, grad_fn=<MseLossBackward>)\n",
            "tensor(4857298.7285, dtype=torch.float64, grad_fn=<MseLossBackward>)\n",
            "tensor(4795549.0415, dtype=torch.float64, grad_fn=<MseLossBackward>)\n",
            "tensor(4766252.3830, dtype=torch.float64, grad_fn=<MseLossBackward>)\n",
            "tensor(4736183.7700, dtype=torch.float64, grad_fn=<MseLossBackward>)\n",
            "tensor(4679292.0936, dtype=torch.float64, grad_fn=<MseLossBackward>)\n",
            "tensor(4585757.0196, dtype=torch.float64, grad_fn=<MseLossBackward>)\n",
            "tensor(4462749.3477, dtype=torch.float64, grad_fn=<MseLossBackward>)\n",
            "tensor(4331498.4205, dtype=torch.float64, grad_fn=<MseLossBackward>)\n",
            "tensor(4217437.4180, dtype=torch.float64, grad_fn=<MseLossBackward>)\n",
            "tensor(4131473.2371, dtype=torch.float64, grad_fn=<MseLossBackward>)\n",
            "tensor(4057030.5288, dtype=torch.float64, grad_fn=<MseLossBackward>)\n",
            "tensor(3966978.2144, dtype=torch.float64, grad_fn=<MseLossBackward>)\n",
            "tensor(3859210.3787, dtype=torch.float64, grad_fn=<MseLossBackward>)\n",
            "tensor(3762100.6548, dtype=torch.float64, grad_fn=<MseLossBackward>)\n",
            "tensor(3701964.4390, dtype=torch.float64, grad_fn=<MseLossBackward>)\n",
            "tensor(3677797.5489, dtype=torch.float64, grad_fn=<MseLossBackward>)\n",
            "tensor(3666456.6539, dtype=torch.float64, grad_fn=<MseLossBackward>)\n",
            "tensor(3642674.5665, dtype=torch.float64, grad_fn=<MseLossBackward>)\n",
            "tensor(3595254.4544, dtype=torch.float64, grad_fn=<MseLossBackward>)\n",
            "tensor(3531649.5481, dtype=torch.float64, grad_fn=<MseLossBackward>)\n",
            "tensor(3470507.9611, dtype=torch.float64, grad_fn=<MseLossBackward>)\n",
            "tensor(3427510.0132, dtype=torch.float64, grad_fn=<MseLossBackward>)\n",
            "tensor(3404367.2194, dtype=torch.float64, grad_fn=<MseLossBackward>)\n",
            "tensor(3390159.0335, dtype=torch.float64, grad_fn=<MseLossBackward>)\n",
            "tensor(3373642.6418, dtype=torch.float64, grad_fn=<MseLossBackward>)\n",
            "tensor(3352385.1589, dtype=torch.float64, grad_fn=<MseLossBackward>)\n",
            "tensor(3329328.7615, dtype=torch.float64, grad_fn=<MseLossBackward>)\n",
            "tensor(3304975.1072, dtype=torch.float64, grad_fn=<MseLossBackward>)\n",
            "tensor(3276183.0670, dtype=torch.float64, grad_fn=<MseLossBackward>)\n",
            "tensor(3240738.4737, dtype=torch.float64, grad_fn=<MseLossBackward>)\n",
            "tensor(3201000.2158, dtype=torch.float64, grad_fn=<MseLossBackward>)\n",
            "tensor(3163299.0086, dtype=torch.float64, grad_fn=<MseLossBackward>)\n",
            "tensor(3133911.2103, dtype=torch.float64, grad_fn=<MseLossBackward>)\n",
            "tensor(3114420.4528, dtype=torch.float64, grad_fn=<MseLossBackward>)\n",
            "tensor(3100087.6924, dtype=torch.float64, grad_fn=<MseLossBackward>)\n",
            "tensor(3083335.7981, dtype=torch.float64, grad_fn=<MseLossBackward>)\n",
            "tensor(3059740.9676, dtype=torch.float64, grad_fn=<MseLossBackward>)\n",
            "tensor(3030775.8440, dtype=torch.float64, grad_fn=<MseLossBackward>)\n",
            "tensor(3001169.2462, dtype=torch.float64, grad_fn=<MseLossBackward>)\n",
            "tensor(2974670.0895, dtype=torch.float64, grad_fn=<MseLossBackward>)\n",
            "tensor(2952377.9202, dtype=torch.float64, grad_fn=<MseLossBackward>)\n",
            "tensor(2933813.6945, dtype=torch.float64, grad_fn=<MseLossBackward>)\n",
            "tensor(2918467.8686, dtype=torch.float64, grad_fn=<MseLossBackward>)\n",
            "tensor(2906175.8322, dtype=torch.float64, grad_fn=<MseLossBackward>)\n",
            "tensor(2896375.1410, dtype=torch.float64, grad_fn=<MseLossBackward>)\n",
            "tensor(2887496.5144, dtype=torch.float64, grad_fn=<MseLossBackward>)\n",
            "tensor(2877614.6600, dtype=torch.float64, grad_fn=<MseLossBackward>)\n",
            "tensor(2865969.5844, dtype=torch.float64, grad_fn=<MseLossBackward>)\n",
            "tensor(2853653.8106, dtype=torch.float64, grad_fn=<MseLossBackward>)\n",
            "tensor(2842568.6425, dtype=torch.float64, grad_fn=<MseLossBackward>)\n",
            "tensor(2833792.2476, dtype=torch.float64, grad_fn=<MseLossBackward>)\n",
            "tensor(2827016.4674, dtype=torch.float64, grad_fn=<MseLossBackward>)\n"
          ],
          "name": "stdout"
        },
        {
          "output_type": "display_data",
          "data": {
            "image/png": "[encoded data removed]",
            "text/plain": [
              "<Figure size 432x288 with 1 Axes>"
            ]
          },
          "metadata": {
            "tags": [],
            "needs_background": "light"
          }
        }
      ]
    },
    {
      "cell_type": "code",
      "metadata": {
        "id": "GO4T5axKbDpF",
        "colab": {
          "base_uri": "https://localhost:8080/",
          "height": 1000
        },
        "outputId": "d562f3dc-94b4-4562-c0c5-ebbce10e0b53"
      },
      "source": [
        "adam_loss_200_1, adam_predictions_200_1 = learn_model('Adam',200, 1)     #### Trying 200 epochs"
      ],
      "execution_count": null,
      "outputs": [
        {
          "output_type": "stream",
          "text": [
            "tensor(9.4559e+08, dtype=torch.float64, grad_fn=<MseLossBackward>)\n",
            "tensor(1.5891e+08, dtype=torch.float64, grad_fn=<MseLossBackward>)\n",
            "tensor(1.5973e+08, dtype=torch.float64, grad_fn=<MseLossBackward>)\n",
            "tensor(2.6597e+08, dtype=torch.float64, grad_fn=<MseLossBackward>)\n",
            "tensor(2.8414e+08, dtype=torch.float64, grad_fn=<MseLossBackward>)\n",
            "tensor(1.9452e+08, dtype=torch.float64, grad_fn=<MseLossBackward>)\n",
            "tensor(1.2414e+08, dtype=torch.float64, grad_fn=<MseLossBackward>)\n",
            "tensor(1.0004e+08, dtype=torch.float64, grad_fn=<MseLossBackward>)\n",
            "tensor(1.0029e+08, dtype=torch.float64, grad_fn=<MseLossBackward>)\n",
            "tensor(1.0008e+08, dtype=torch.float64, grad_fn=<MseLossBackward>)\n",
            "tensor(86468060.0180, dtype=torch.float64, grad_fn=<MseLossBackward>)\n",
            "tensor(66109524.4867, dtype=torch.float64, grad_fn=<MseLossBackward>)\n",
            "tensor(50130381.7387, dtype=torch.float64, grad_fn=<MseLossBackward>)\n",
            "tensor(42046755.5911, dtype=torch.float64, grad_fn=<MseLossBackward>)\n",
            "tensor(39974595.4667, dtype=torch.float64, grad_fn=<MseLossBackward>)\n",
            "tensor(40491900.0872, dtype=torch.float64, grad_fn=<MseLossBackward>)\n",
            "tensor(40149815.3136, dtype=torch.float64, grad_fn=<MseLossBackward>)\n",
            "tensor(37020235.2297, dtype=torch.float64, grad_fn=<MseLossBackward>)\n",
            "tensor(31717645.1462, dtype=torch.float64, grad_fn=<MseLossBackward>)\n",
            "tensor(26223268.9202, dtype=torch.float64, grad_fn=<MseLossBackward>)\n",
            "tensor(22000915.4829, dtype=torch.float64, grad_fn=<MseLossBackward>)\n",
            "tensor(19406433.9140, dtype=torch.float64, grad_fn=<MseLossBackward>)\n",
            "tensor(18112552.8096, dtype=torch.float64, grad_fn=<MseLossBackward>)\n",
            "tensor(17565175.2484, dtype=torch.float64, grad_fn=<MseLossBackward>)\n",
            "tensor(17201176.2527, dtype=torch.float64, grad_fn=<MseLossBackward>)\n",
            "tensor(16586068.6090, dtype=torch.float64, grad_fn=<MseLossBackward>)\n",
            "tensor(15540762.7506, dtype=torch.float64, grad_fn=<MseLossBackward>)\n",
            "tensor(14165258.8030, dtype=torch.float64, grad_fn=<MseLossBackward>)\n",
            "tensor(12712560.6385, dtype=torch.float64, grad_fn=<MseLossBackward>)\n",
            "tensor(11416284.6924, dtype=torch.float64, grad_fn=<MseLossBackward>)\n",
            "tensor(10396850.4516, dtype=torch.float64, grad_fn=<MseLossBackward>)\n",
            "tensor(9665746.9104, dtype=torch.float64, grad_fn=<MseLossBackward>)\n",
            "tensor(9172373.3592, dtype=torch.float64, grad_fn=<MseLossBackward>)\n",
            "tensor(8845010.4139, dtype=torch.float64, grad_fn=<MseLossBackward>)\n",
            "tensor(8612555.4646, dtype=torch.float64, grad_fn=<MseLossBackward>)\n",
            "tensor(8413498.6887, dtype=torch.float64, grad_fn=<MseLossBackward>)\n",
            "tensor(8200274.9417, dtype=torch.float64, grad_fn=<MseLossBackward>)\n",
            "tensor(7941922.4653, dtype=torch.float64, grad_fn=<MseLossBackward>)\n",
            "tensor(7624207.6616, dtype=torch.float64, grad_fn=<MseLossBackward>)\n",
            "tensor(7246690.4744, dtype=torch.float64, grad_fn=<MseLossBackward>)\n",
            "tensor(6819142.9971, dtype=torch.float64, grad_fn=<MseLossBackward>)\n",
            "tensor(6361889.8732, dtype=torch.float64, grad_fn=<MseLossBackward>)\n",
            "tensor(5912472.1137, dtype=torch.float64, grad_fn=<MseLossBackward>)\n",
            "tensor(5531400.8871, dtype=torch.float64, grad_fn=<MseLossBackward>)\n",
            "tensor(5284969.8351, dtype=torch.float64, grad_fn=<MseLossBackward>)\n",
            "tensor(5188834.5968, dtype=torch.float64, grad_fn=<MseLossBackward>)\n",
            "tensor(5161253.8029, dtype=torch.float64, grad_fn=<MseLossBackward>)\n",
            "tensor(5085859.7154, dtype=torch.float64, grad_fn=<MseLossBackward>)\n",
            "tensor(4940215.0930, dtype=torch.float64, grad_fn=<MseLossBackward>)\n",
            "tensor(4799309.0210, dtype=torch.float64, grad_fn=<MseLossBackward>)\n",
            "tensor(4722628.6492, dtype=torch.float64, grad_fn=<MseLossBackward>)\n",
            "tensor(4700926.4140, dtype=torch.float64, grad_fn=<MseLossBackward>)\n",
            "tensor(4689815.2316, dtype=torch.float64, grad_fn=<MseLossBackward>)\n",
            "tensor(4650780.2426, dtype=torch.float64, grad_fn=<MseLossBackward>)\n",
            "tensor(4566450.3117, dtype=torch.float64, grad_fn=<MseLossBackward>)\n",
            "tensor(4441399.8621, dtype=torch.float64, grad_fn=<MseLossBackward>)\n",
            "tensor(4299727.0119, dtype=torch.float64, grad_fn=<MseLossBackward>)\n",
            "tensor(4177170.2396, dtype=torch.float64, grad_fn=<MseLossBackward>)\n",
            "tensor(4100132.2227, dtype=torch.float64, grad_fn=<MseLossBackward>)\n",
            "tensor(4059635.1606, dtype=torch.float64, grad_fn=<MseLossBackward>)\n",
            "tensor(4014293.6607, dtype=torch.float64, grad_fn=<MseLossBackward>)\n",
            "tensor(3935316.3722, dtype=torch.float64, grad_fn=<MseLossBackward>)\n",
            "tensor(3837557.7814, dtype=torch.float64, grad_fn=<MseLossBackward>)\n",
            "tensor(3753202.0127, dtype=torch.float64, grad_fn=<MseLossBackward>)\n",
            "tensor(3694206.0296, dtype=torch.float64, grad_fn=<MseLossBackward>)\n",
            "tensor(3650408.3305, dtype=torch.float64, grad_fn=<MseLossBackward>)\n",
            "tensor(3607585.1992, dtype=torch.float64, grad_fn=<MseLossBackward>)\n",
            "tensor(3558514.0734, dtype=torch.float64, grad_fn=<MseLossBackward>)\n",
            "tensor(3503934.1035, dtype=torch.float64, grad_fn=<MseLossBackward>)\n",
            "tensor(3450229.4311, dtype=torch.float64, grad_fn=<MseLossBackward>)\n",
            "tensor(3405456.4418, dtype=torch.float64, grad_fn=<MseLossBackward>)\n",
            "tensor(3372480.8173, dtype=torch.float64, grad_fn=<MseLossBackward>)\n",
            "tensor(3344520.8434, dtype=torch.float64, grad_fn=<MseLossBackward>)\n",
            "tensor(3311383.8912, dtype=torch.float64, grad_fn=<MseLossBackward>)\n",
            "tensor(3271067.4963, dtype=torch.float64, grad_fn=<MseLossBackward>)\n",
            "tensor(3231018.4442, dtype=torch.float64, grad_fn=<MseLossBackward>)\n",
            "tensor(3198281.5173, dtype=torch.float64, grad_fn=<MseLossBackward>)\n",
            "tensor(3172821.3312, dtype=torch.float64, grad_fn=<MseLossBackward>)\n",
            "tensor(3149943.9845, dtype=torch.float64, grad_fn=<MseLossBackward>)\n",
            "tensor(3125721.6152, dtype=torch.float64, grad_fn=<MseLossBackward>)\n",
            "tensor(3099759.0178, dtype=torch.float64, grad_fn=<MseLossBackward>)\n",
            "tensor(3074572.4188, dtype=torch.float64, grad_fn=<MseLossBackward>)\n",
            "tensor(3052898.3305, dtype=torch.float64, grad_fn=<MseLossBackward>)\n",
            "tensor(3034892.5869, dtype=torch.float64, grad_fn=<MseLossBackward>)\n",
            "tensor(3017838.7370, dtype=torch.float64, grad_fn=<MseLossBackward>)\n",
            "tensor(2999179.3989, dtype=torch.float64, grad_fn=<MseLossBackward>)\n",
            "tensor(2979461.7493, dtype=torch.float64, grad_fn=<MseLossBackward>)\n",
            "tensor(2961413.1476, dtype=torch.float64, grad_fn=<MseLossBackward>)\n",
            "tensor(2946600.2557, dtype=torch.float64, grad_fn=<MseLossBackward>)\n",
            "tensor(2933987.2445, dtype=torch.float64, grad_fn=<MseLossBackward>)\n",
            "tensor(2921507.7789, dtype=torch.float64, grad_fn=<MseLossBackward>)\n",
            "tensor(2908303.3166, dtype=torch.float64, grad_fn=<MseLossBackward>)\n",
            "tensor(2895414.4931, dtype=torch.float64, grad_fn=<MseLossBackward>)\n",
            "tensor(2884605.4732, dtype=torch.float64, grad_fn=<MseLossBackward>)\n",
            "tensor(2876518.1366, dtype=torch.float64, grad_fn=<MseLossBackward>)\n",
            "tensor(2869890.8611, dtype=torch.float64, grad_fn=<MseLossBackward>)\n",
            "tensor(2862679.1538, dtype=torch.float64, grad_fn=<MseLossBackward>)\n",
            "tensor(2853918.8428, dtype=torch.float64, grad_fn=<MseLossBackward>)\n",
            "tensor(2844294.3257, dtype=torch.float64, grad_fn=<MseLossBackward>)\n",
            "tensor(2835011.4687, dtype=torch.float64, grad_fn=<MseLossBackward>)\n",
            "tensor(2826539.3853, dtype=torch.float64, grad_fn=<MseLossBackward>)\n",
            "tensor(2818528.7399, dtype=torch.float64, grad_fn=<MseLossBackward>)\n",
            "tensor(2810605.9737, dtype=torch.float64, grad_fn=<MseLossBackward>)\n",
            "tensor(2802970.1410, dtype=torch.float64, grad_fn=<MseLossBackward>)\n",
            "tensor(2796218.6146, dtype=torch.float64, grad_fn=<MseLossBackward>)\n",
            "tensor(2790711.0824, dtype=torch.float64, grad_fn=<MseLossBackward>)\n",
            "tensor(2786218.7733, dtype=torch.float64, grad_fn=<MseLossBackward>)\n",
            "tensor(2782246.5631, dtype=torch.float64, grad_fn=<MseLossBackward>)\n",
            "tensor(2778610.2131, dtype=torch.float64, grad_fn=<MseLossBackward>)\n",
            "tensor(2775552.7789, dtype=torch.float64, grad_fn=<MseLossBackward>)\n",
            "tensor(2773305.8380, dtype=torch.float64, grad_fn=<MseLossBackward>)\n",
            "tensor(2771690.6326, dtype=torch.float64, grad_fn=<MseLossBackward>)\n",
            "tensor(2770220.3106, dtype=torch.float64, grad_fn=<MseLossBackward>)\n",
            "tensor(2768523.4039, dtype=torch.float64, grad_fn=<MseLossBackward>)\n",
            "tensor(2766603.4303, dtype=torch.float64, grad_fn=<MseLossBackward>)\n",
            "tensor(2764710.2785, dtype=torch.float64, grad_fn=<MseLossBackward>)\n",
            "tensor(2763028.4589, dtype=torch.float64, grad_fn=<MseLossBackward>)\n",
            "tensor(2761534.5964, dtype=torch.float64, grad_fn=<MseLossBackward>)\n",
            "tensor(2760129.5936, dtype=torch.float64, grad_fn=<MseLossBackward>)\n",
            "tensor(2758818.1051, dtype=torch.float64, grad_fn=<MseLossBackward>)\n",
            "tensor(2757693.8115, dtype=torch.float64, grad_fn=<MseLossBackward>)\n",
            "tensor(2756779.5024, dtype=torch.float64, grad_fn=<MseLossBackward>)\n",
            "tensor(2755953.9116, dtype=torch.float64, grad_fn=<MseLossBackward>)\n",
            "tensor(2755057.5119, dtype=torch.float64, grad_fn=<MseLossBackward>)\n",
            "tensor(2754040.2281, dtype=torch.float64, grad_fn=<MseLossBackward>)\n",
            "tensor(2752983.3385, dtype=torch.float64, grad_fn=<MseLossBackward>)\n",
            "tensor(2751989.8165, dtype=torch.float64, grad_fn=<MseLossBackward>)\n",
            "tensor(2751080.0184, dtype=torch.float64, grad_fn=<MseLossBackward>)\n",
            "tensor(2750200.8792, dtype=torch.float64, grad_fn=<MseLossBackward>)\n",
            "tensor(2749311.0081, dtype=torch.float64, grad_fn=<MseLossBackward>)\n",
            "tensor(2748425.0141, dtype=torch.float64, grad_fn=<MseLossBackward>)\n",
            "tensor(2747574.6514, dtype=torch.float64, grad_fn=<MseLossBackward>)\n",
            "tensor(2746756.2305, dtype=torch.float64, grad_fn=<MseLossBackward>)\n",
            "tensor(2745936.4284, dtype=torch.float64, grad_fn=<MseLossBackward>)\n",
            "tensor(2745100.1996, dtype=torch.float64, grad_fn=<MseLossBackward>)\n",
            "tensor(2744272.8340, dtype=torch.float64, grad_fn=<MseLossBackward>)\n",
            "tensor(2743489.4429, dtype=torch.float64, grad_fn=<MseLossBackward>)\n",
            "tensor(2742753.6732, dtype=torch.float64, grad_fn=<MseLossBackward>)\n",
            "tensor(2742036.6735, dtype=torch.float64, grad_fn=<MseLossBackward>)\n",
            "tensor(2741313.0049, dtype=torch.float64, grad_fn=<MseLossBackward>)\n",
            "tensor(2740586.1507, dtype=torch.float64, grad_fn=<MseLossBackward>)\n",
            "tensor(2739876.3488, dtype=torch.float64, grad_fn=<MseLossBackward>)\n",
            "tensor(2739193.7252, dtype=torch.float64, grad_fn=<MseLossBackward>)\n",
            "tensor(2738532.1820, dtype=torch.float64, grad_fn=<MseLossBackward>)\n",
            "tensor(2737885.8012, dtype=torch.float64, grad_fn=<MseLossBackward>)\n",
            "tensor(2737261.0547, dtype=torch.float64, grad_fn=<MseLossBackward>)\n",
            "tensor(2736669.1067, dtype=torch.float64, grad_fn=<MseLossBackward>)\n",
            "tensor(2736111.4285, dtype=torch.float64, grad_fn=<MseLossBackward>)\n",
            "tensor(2735579.1037, dtype=torch.float64, grad_fn=<MseLossBackward>)\n",
            "tensor(2735065.6639, dtype=torch.float64, grad_fn=<MseLossBackward>)\n",
            "tensor(2734575.4648, dtype=torch.float64, grad_fn=<MseLossBackward>)\n",
            "tensor(2734117.5904, dtype=torch.float64, grad_fn=<MseLossBackward>)\n",
            "tensor(2733695.1629, dtype=torch.float64, grad_fn=<MseLossBackward>)\n",
            "tensor(2733304.0073, dtype=torch.float64, grad_fn=<MseLossBackward>)\n",
            "tensor(2732940.2112, dtype=torch.float64, grad_fn=<MseLossBackward>)\n",
            "tensor(2732605.0396, dtype=torch.float64, grad_fn=<MseLossBackward>)\n",
            "tensor(2732301.4152, dtype=torch.float64, grad_fn=<MseLossBackward>)\n",
            "tensor(2732028.2732, dtype=torch.float64, grad_fn=<MseLossBackward>)\n",
            "tensor(2731780.8271, dtype=torch.float64, grad_fn=<MseLossBackward>)\n",
            "tensor(2731555.6167, dtype=torch.float64, grad_fn=<MseLossBackward>)\n",
            "tensor(2731352.9819, dtype=torch.float64, grad_fn=<MseLossBackward>)\n",
            "tensor(2731174.1670, dtype=torch.float64, grad_fn=<MseLossBackward>)\n",
            "tensor(2731017.8058, dtype=torch.float64, grad_fn=<MseLossBackward>)\n",
            "tensor(2730880.4783, dtype=torch.float64, grad_fn=<MseLossBackward>)\n",
            "tensor(2730759.7634, dtype=torch.float64, grad_fn=<MseLossBackward>)\n",
            "tensor(2730655.2110, dtype=torch.float64, grad_fn=<MseLossBackward>)\n",
            "tensor(2730566.3299, dtype=torch.float64, grad_fn=<MseLossBackward>)\n",
            "tensor(2730490.9319, dtype=torch.float64, grad_fn=<MseLossBackward>)\n",
            "tensor(2730426.1594, dtype=torch.float64, grad_fn=<MseLossBackward>)\n",
            "tensor(2730370.4568, dtype=torch.float64, grad_fn=<MseLossBackward>)\n",
            "tensor(2730323.6716, dtype=torch.float64, grad_fn=<MseLossBackward>)\n",
            "tensor(2730285.4267, dtype=torch.float64, grad_fn=<MseLossBackward>)\n",
            "tensor(2730254.2068, dtype=torch.float64, grad_fn=<MseLossBackward>)\n",
            "tensor(2730228.2157, dtype=torch.float64, grad_fn=<MseLossBackward>)\n",
            "tensor(2730206.5018, dtype=torch.float64, grad_fn=<MseLossBackward>)\n",
            "tensor(2730188.7967, dtype=torch.float64, grad_fn=<MseLossBackward>)\n",
            "tensor(2730174.5775, dtype=torch.float64, grad_fn=<MseLossBackward>)\n",
            "tensor(2730162.8300, dtype=torch.float64, grad_fn=<MseLossBackward>)\n",
            "tensor(2730152.7216, dtype=torch.float64, grad_fn=<MseLossBackward>)\n",
            "tensor(2730144.0508, dtype=torch.float64, grad_fn=<MseLossBackward>)\n",
            "tensor(2730136.8357, dtype=torch.float64, grad_fn=<MseLossBackward>)\n",
            "tensor(2730130.7344, dtype=torch.float64, grad_fn=<MseLossBackward>)\n",
            "tensor(2730125.1340, dtype=torch.float64, grad_fn=<MseLossBackward>)\n",
            "tensor(2730119.6770, dtype=torch.float64, grad_fn=<MseLossBackward>)\n",
            "tensor(2730114.4229, dtype=torch.float64, grad_fn=<MseLossBackward>)\n",
            "tensor(2730109.4836, dtype=torch.float64, grad_fn=<MseLossBackward>)\n",
            "tensor(2730104.7286, dtype=torch.float64, grad_fn=<MseLossBackward>)\n",
            "tensor(2730099.9402, dtype=torch.float64, grad_fn=<MseLossBackward>)\n",
            "tensor(2730095.0935, dtype=torch.float64, grad_fn=<MseLossBackward>)\n",
            "tensor(2730090.3197, dtype=torch.float64, grad_fn=<MseLossBackward>)\n",
            "tensor(2730085.6593, dtype=torch.float64, grad_fn=<MseLossBackward>)\n",
            "tensor(2730081.0005, dtype=torch.float64, grad_fn=<MseLossBackward>)\n",
            "tensor(2730076.2700, dtype=torch.float64, grad_fn=<MseLossBackward>)\n",
            "tensor(2730071.5588, dtype=torch.float64, grad_fn=<MseLossBackward>)\n",
            "tensor(2730067.0114, dtype=torch.float64, grad_fn=<MseLossBackward>)\n",
            "tensor(2730062.6677, dtype=torch.float64, grad_fn=<MseLossBackward>)\n",
            "tensor(2730058.4829, dtype=torch.float64, grad_fn=<MseLossBackward>)\n",
            "tensor(2730054.4535, dtype=torch.float64, grad_fn=<MseLossBackward>)\n",
            "tensor(2730050.6430, dtype=torch.float64, grad_fn=<MseLossBackward>)\n",
            "tensor(2730047.0916, dtype=torch.float64, grad_fn=<MseLossBackward>)\n"
          ],
          "name": "stdout"
        },
        {
          "output_type": "display_data",
          "data": {
            "image/png": "[encoded data removed]",
            "text/plain": [
              "<Figure size 432x288 with 1 Axes>"
            ]
          },
          "metadata": {
            "tags": [],
            "needs_background": "light"
          }
        }
      ]
    },
    {
      "cell_type": "code",
      "metadata": {
        "id": "PnRgwwSEdDz0",
        "colab": {
          "base_uri": "https://localhost:8080/",
          "height": 1000
        },
        "outputId": "61e8d006-07c1-403a-bdc7-0df30d429151"
      },
      "source": [
        "adam_loss_300_1, adam_predictions_300_1 = learn_model('Adam',300, 1)     #### Trying 300 epochs"
      ],
      "execution_count": null,
      "outputs": [
        {
          "output_type": "stream",
          "text": [
            "tensor(9.5481e+08, dtype=torch.float64, grad_fn=<MseLossBackward>)\n",
            "tensor(1.5906e+08, dtype=torch.float64, grad_fn=<MseLossBackward>)\n",
            "tensor(1.6033e+08, dtype=torch.float64, grad_fn=<MseLossBackward>)\n",
            "tensor(2.6745e+08, dtype=torch.float64, grad_fn=<MseLossBackward>)\n",
            "tensor(2.8615e+08, dtype=torch.float64, grad_fn=<MseLossBackward>)\n",
            "tensor(1.9704e+08, dtype=torch.float64, grad_fn=<MseLossBackward>)\n",
            "tensor(1.2624e+08, dtype=torch.float64, grad_fn=<MseLossBackward>)\n",
            "tensor(1.0124e+08, dtype=torch.float64, grad_fn=<MseLossBackward>)\n",
            "tensor(1.0050e+08, dtype=torch.float64, grad_fn=<MseLossBackward>)\n",
            "tensor(99689847.7969, dtype=torch.float64, grad_fn=<MseLossBackward>)\n",
            "tensor(86292553.9208, dtype=torch.float64, grad_fn=<MseLossBackward>)\n",
            "tensor(66468070.5892, dtype=torch.float64, grad_fn=<MseLossBackward>)\n",
            "tensor(50795433.2571, dtype=torch.float64, grad_fn=<MseLossBackward>)\n",
            "tensor(42737574.8788, dtype=torch.float64, grad_fn=<MseLossBackward>)\n",
            "tensor(40522302.9181, dtype=torch.float64, grad_fn=<MseLossBackward>)\n",
            "tensor(40817163.0558, dtype=torch.float64, grad_fn=<MseLossBackward>)\n",
            "tensor(40286435.8214, dtype=torch.float64, grad_fn=<MseLossBackward>)\n",
            "tensor(37101937.4652, dtype=torch.float64, grad_fn=<MseLossBackward>)\n",
            "tensor(31861587.1286, dtype=torch.float64, grad_fn=<MseLossBackward>)\n",
            "tensor(26449298.1357, dtype=torch.float64, grad_fn=<MseLossBackward>)\n",
            "tensor(22262923.8319, dtype=torch.float64, grad_fn=<MseLossBackward>)\n",
            "tensor(19651265.8405, dtype=torch.float64, grad_fn=<MseLossBackward>)\n",
            "tensor(18303967.4151, dtype=torch.float64, grad_fn=<MseLossBackward>)\n",
            "tensor(17685313.3027, dtype=torch.float64, grad_fn=<MseLossBackward>)\n",
            "tensor(17251374.9594, dtype=torch.float64, grad_fn=<MseLossBackward>)\n",
            "tensor(16587003.3383, dtype=torch.float64, grad_fn=<MseLossBackward>)\n",
            "tensor(15523411.2103, dtype=torch.float64, grad_fn=<MseLossBackward>)\n",
            "tensor(14155187.3675, dtype=torch.float64, grad_fn=<MseLossBackward>)\n",
            "tensor(12719850.4552, dtype=torch.float64, grad_fn=<MseLossBackward>)\n",
            "tensor(11437036.9903, dtype=torch.float64, grad_fn=<MseLossBackward>)\n",
            "tensor(10420799.6336, dtype=torch.float64, grad_fn=<MseLossBackward>)\n",
            "tensor(9682541.4829, dtype=torch.float64, grad_fn=<MseLossBackward>)\n",
            "tensor(9174097.6205, dtype=torch.float64, grad_fn=<MseLossBackward>)\n",
            "tensor(8826264.3536, dtype=torch.float64, grad_fn=<MseLossBackward>)\n",
            "tensor(8569752.6883, dtype=torch.float64, grad_fn=<MseLossBackward>)\n",
            "tensor(8344028.9701, dtype=torch.float64, grad_fn=<MseLossBackward>)\n",
            "tensor(8101570.0060, dtype=torch.float64, grad_fn=<MseLossBackward>)\n",
            "tensor(7810697.2761, dtype=torch.float64, grad_fn=<MseLossBackward>)\n",
            "tensor(7456883.9210, dtype=torch.float64, grad_fn=<MseLossBackward>)\n",
            "tensor(7042605.6145, dtype=torch.float64, grad_fn=<MseLossBackward>)\n",
            "tensor(6587736.0353, dtype=torch.float64, grad_fn=<MseLossBackward>)\n",
            "tensor(6132051.4312, dtype=torch.float64, grad_fn=<MseLossBackward>)\n",
            "tensor(5734692.3492, dtype=torch.float64, grad_fn=<MseLossBackward>)\n",
            "tensor(5455234.3952, dtype=torch.float64, grad_fn=<MseLossBackward>)\n",
            "tensor(5308224.3612, dtype=torch.float64, grad_fn=<MseLossBackward>)\n",
            "tensor(5230838.5212, dtype=torch.float64, grad_fn=<MseLossBackward>)\n",
            "tensor(5132110.9817, dtype=torch.float64, grad_fn=<MseLossBackward>)\n",
            "tensor(4988190.3444, dtype=torch.float64, grad_fn=<MseLossBackward>)\n",
            "tensor(4849959.7873, dtype=torch.float64, grad_fn=<MseLossBackward>)\n",
            "tensor(4763049.5359, dtype=torch.float64, grad_fn=<MseLossBackward>)\n",
            "tensor(4722747.9586, dtype=torch.float64, grad_fn=<MseLossBackward>)\n",
            "tensor(4694112.5703, dtype=torch.float64, grad_fn=<MseLossBackward>)\n",
            "tensor(4644138.7880, dtype=torch.float64, grad_fn=<MseLossBackward>)\n",
            "tensor(4556711.1643, dtype=torch.float64, grad_fn=<MseLossBackward>)\n",
            "tensor(4435093.7034, dtype=torch.float64, grad_fn=<MseLossBackward>)\n",
            "tensor(4300015.3437, dtype=torch.float64, grad_fn=<MseLossBackward>)\n",
            "tensor(4182088.5032, dtype=torch.float64, grad_fn=<MseLossBackward>)\n",
            "tensor(4103616.7080, dtype=torch.float64, grad_fn=<MseLossBackward>)\n",
            "tensor(4057510.6200, dtype=torch.float64, grad_fn=<MseLossBackward>)\n",
            "tensor(4010000.2331, dtype=torch.float64, grad_fn=<MseLossBackward>)\n",
            "tensor(3936228.5330, dtype=torch.float64, grad_fn=<MseLossBackward>)\n",
            "tensor(3846008.5577, dtype=torch.float64, grad_fn=<MseLossBackward>)\n",
            "tensor(3765360.4317, dtype=torch.float64, grad_fn=<MseLossBackward>)\n",
            "tensor(3706260.1075, dtype=torch.float64, grad_fn=<MseLossBackward>)\n",
            "tensor(3662193.3475, dtype=torch.float64, grad_fn=<MseLossBackward>)\n",
            "tensor(3621124.6652, dtype=torch.float64, grad_fn=<MseLossBackward>)\n",
            "tensor(3575294.6975, dtype=torch.float64, grad_fn=<MseLossBackward>)\n",
            "tensor(3523585.0267, dtype=torch.float64, grad_fn=<MseLossBackward>)\n",
            "tensor(3470505.5051, dtype=torch.float64, grad_fn=<MseLossBackward>)\n",
            "tensor(3422932.1269, dtype=torch.float64, grad_fn=<MseLossBackward>)\n",
            "tensor(3384225.6905, dtype=torch.float64, grad_fn=<MseLossBackward>)\n",
            "tensor(3350328.1227, dtype=torch.float64, grad_fn=<MseLossBackward>)\n",
            "tensor(3314281.1546, dtype=torch.float64, grad_fn=<MseLossBackward>)\n",
            "tensor(3275175.7741, dtype=torch.float64, grad_fn=<MseLossBackward>)\n",
            "tensor(3239296.1446, dtype=torch.float64, grad_fn=<MseLossBackward>)\n",
            "tensor(3212159.1497, dtype=torch.float64, grad_fn=<MseLossBackward>)\n",
            "tensor(3192719.8040, dtype=torch.float64, grad_fn=<MseLossBackward>)\n",
            "tensor(3175442.6458, dtype=torch.float64, grad_fn=<MseLossBackward>)\n",
            "tensor(3155500.5362, dtype=torch.float64, grad_fn=<MseLossBackward>)\n",
            "tensor(3131739.7056, dtype=torch.float64, grad_fn=<MseLossBackward>)\n",
            "tensor(3106373.1217, dtype=torch.float64, grad_fn=<MseLossBackward>)\n",
            "tensor(3082568.0695, dtype=torch.float64, grad_fn=<MseLossBackward>)\n",
            "tensor(3061670.0622, dtype=torch.float64, grad_fn=<MseLossBackward>)\n",
            "tensor(3042366.3302, dtype=torch.float64, grad_fn=<MseLossBackward>)\n",
            "tensor(3022835.4452, dtype=torch.float64, grad_fn=<MseLossBackward>)\n",
            "tensor(3003379.4207, dtype=torch.float64, grad_fn=<MseLossBackward>)\n",
            "tensor(2986079.6405, dtype=torch.float64, grad_fn=<MseLossBackward>)\n",
            "tensor(2972061.4300, dtype=torch.float64, grad_fn=<MseLossBackward>)\n",
            "tensor(2960010.6034, dtype=torch.float64, grad_fn=<MseLossBackward>)\n",
            "tensor(2947450.1480, dtype=torch.float64, grad_fn=<MseLossBackward>)\n",
            "tensor(2932975.4096, dtype=torch.float64, grad_fn=<MseLossBackward>)\n",
            "tensor(2917223.8133, dtype=torch.float64, grad_fn=<MseLossBackward>)\n",
            "tensor(2901993.1804, dtype=torch.float64, grad_fn=<MseLossBackward>)\n",
            "tensor(2888506.9328, dtype=torch.float64, grad_fn=<MseLossBackward>)\n",
            "tensor(2876431.4328, dtype=torch.float64, grad_fn=<MseLossBackward>)\n",
            "tensor(2864544.6630, dtype=torch.float64, grad_fn=<MseLossBackward>)\n",
            "tensor(2852279.5130, dtype=torch.float64, grad_fn=<MseLossBackward>)\n",
            "tensor(2840405.7740, dtype=torch.float64, grad_fn=<MseLossBackward>)\n",
            "tensor(2830197.2688, dtype=torch.float64, grad_fn=<MseLossBackward>)\n",
            "tensor(2822199.0883, dtype=torch.float64, grad_fn=<MseLossBackward>)\n",
            "tensor(2815904.6248, dtype=torch.float64, grad_fn=<MseLossBackward>)\n",
            "tensor(2810401.8823, dtype=torch.float64, grad_fn=<MseLossBackward>)\n",
            "tensor(2805121.2031, dtype=torch.float64, grad_fn=<MseLossBackward>)\n",
            "tensor(2799992.7890, dtype=torch.float64, grad_fn=<MseLossBackward>)\n",
            "tensor(2795066.5523, dtype=torch.float64, grad_fn=<MseLossBackward>)\n",
            "tensor(2790172.1049, dtype=torch.float64, grad_fn=<MseLossBackward>)\n",
            "tensor(2785057.7793, dtype=torch.float64, grad_fn=<MseLossBackward>)\n",
            "tensor(2779806.8531, dtype=torch.float64, grad_fn=<MseLossBackward>)\n",
            "tensor(2774945.4460, dtype=torch.float64, grad_fn=<MseLossBackward>)\n",
            "tensor(2771044.1194, dtype=torch.float64, grad_fn=<MseLossBackward>)\n",
            "tensor(2768252.3211, dtype=torch.float64, grad_fn=<MseLossBackward>)\n",
            "tensor(2766249.8372, dtype=torch.float64, grad_fn=<MseLossBackward>)\n",
            "tensor(2764588.1628, dtype=torch.float64, grad_fn=<MseLossBackward>)\n",
            "tensor(2763020.2694, dtype=torch.float64, grad_fn=<MseLossBackward>)\n",
            "tensor(2761531.6383, dtype=torch.float64, grad_fn=<MseLossBackward>)\n",
            "tensor(2760147.7090, dtype=torch.float64, grad_fn=<MseLossBackward>)\n",
            "tensor(2758796.9244, dtype=torch.float64, grad_fn=<MseLossBackward>)\n",
            "tensor(2757378.8987, dtype=torch.float64, grad_fn=<MseLossBackward>)\n",
            "tensor(2755908.6747, dtype=torch.float64, grad_fn=<MseLossBackward>)\n",
            "tensor(2754525.1810, dtype=torch.float64, grad_fn=<MseLossBackward>)\n",
            "tensor(2753349.8199, dtype=torch.float64, grad_fn=<MseLossBackward>)\n",
            "tensor(2752374.3992, dtype=torch.float64, grad_fn=<MseLossBackward>)\n",
            "tensor(2751501.4916, dtype=torch.float64, grad_fn=<MseLossBackward>)\n",
            "tensor(2750666.1421, dtype=torch.float64, grad_fn=<MseLossBackward>)\n",
            "tensor(2749890.2221, dtype=torch.float64, grad_fn=<MseLossBackward>)\n",
            "tensor(2749222.8872, dtype=torch.float64, grad_fn=<MseLossBackward>)\n",
            "tensor(2748655.9085, dtype=torch.float64, grad_fn=<MseLossBackward>)\n",
            "tensor(2748117.5045, dtype=torch.float64, grad_fn=<MseLossBackward>)\n",
            "tensor(2747542.3877, dtype=torch.float64, grad_fn=<MseLossBackward>)\n",
            "tensor(2746926.5449, dtype=torch.float64, grad_fn=<MseLossBackward>)\n",
            "tensor(2746308.0944, dtype=torch.float64, grad_fn=<MseLossBackward>)\n",
            "tensor(2745713.3621, dtype=torch.float64, grad_fn=<MseLossBackward>)\n",
            "tensor(2745138.8427, dtype=torch.float64, grad_fn=<MseLossBackward>)\n",
            "tensor(2744579.2517, dtype=torch.float64, grad_fn=<MseLossBackward>)\n",
            "tensor(2744052.3923, dtype=torch.float64, grad_fn=<MseLossBackward>)\n",
            "tensor(2743584.8041, dtype=torch.float64, grad_fn=<MseLossBackward>)\n",
            "tensor(2743178.3604, dtype=torch.float64, grad_fn=<MseLossBackward>)\n",
            "tensor(2742802.1138, dtype=torch.float64, grad_fn=<MseLossBackward>)\n",
            "tensor(2742419.9381, dtype=torch.float64, grad_fn=<MseLossBackward>)\n",
            "tensor(2742020.3521, dtype=torch.float64, grad_fn=<MseLossBackward>)\n",
            "tensor(2741616.2901, dtype=torch.float64, grad_fn=<MseLossBackward>)\n",
            "tensor(2741222.3708, dtype=torch.float64, grad_fn=<MseLossBackward>)\n",
            "tensor(2740840.6312, dtype=torch.float64, grad_fn=<MseLossBackward>)\n",
            "tensor(2740467.3254, dtype=torch.float64, grad_fn=<MseLossBackward>)\n",
            "tensor(2740104.6205, dtype=torch.float64, grad_fn=<MseLossBackward>)\n",
            "tensor(2739759.3249, dtype=torch.float64, grad_fn=<MseLossBackward>)\n",
            "tensor(2739432.2881, dtype=torch.float64, grad_fn=<MseLossBackward>)\n",
            "tensor(2739114.9845, dtype=torch.float64, grad_fn=<MseLossBackward>)\n",
            "tensor(2738798.6233, dtype=torch.float64, grad_fn=<MseLossBackward>)\n",
            "tensor(2738483.6602, dtype=torch.float64, grad_fn=<MseLossBackward>)\n",
            "tensor(2738177.7696, dtype=torch.float64, grad_fn=<MseLossBackward>)\n",
            "tensor(2737886.0892, dtype=torch.float64, grad_fn=<MseLossBackward>)\n",
            "tensor(2737606.4582, dtype=torch.float64, grad_fn=<MseLossBackward>)\n",
            "tensor(2737334.0178, dtype=torch.float64, grad_fn=<MseLossBackward>)\n",
            "tensor(2737067.4244, dtype=torch.float64, grad_fn=<MseLossBackward>)\n",
            "tensor(2736808.8446, dtype=torch.float64, grad_fn=<MseLossBackward>)\n",
            "tensor(2736559.5224, dtype=torch.float64, grad_fn=<MseLossBackward>)\n",
            "tensor(2736317.9274, dtype=torch.float64, grad_fn=<MseLossBackward>)\n",
            "tensor(2736082.4985, dtype=torch.float64, grad_fn=<MseLossBackward>)\n",
            "tensor(2735854.2194, dtype=torch.float64, grad_fn=<MseLossBackward>)\n",
            "tensor(2735635.1725, dtype=torch.float64, grad_fn=<MseLossBackward>)\n",
            "tensor(2735425.3835, dtype=torch.float64, grad_fn=<MseLossBackward>)\n",
            "tensor(2735222.4722, dtype=torch.float64, grad_fn=<MseLossBackward>)\n",
            "tensor(2735024.3703, dtype=torch.float64, grad_fn=<MseLossBackward>)\n",
            "tensor(2734831.3094, dtype=torch.float64, grad_fn=<MseLossBackward>)\n",
            "tensor(2734644.7761, dtype=torch.float64, grad_fn=<MseLossBackward>)\n",
            "tensor(2734465.3382, dtype=torch.float64, grad_fn=<MseLossBackward>)\n",
            "tensor(2734292.2486, dtype=torch.float64, grad_fn=<MseLossBackward>)\n",
            "tensor(2734124.8016, dtype=torch.float64, grad_fn=<MseLossBackward>)\n",
            "tensor(2733963.1541, dtype=torch.float64, grad_fn=<MseLossBackward>)\n",
            "tensor(2733807.6025, dtype=torch.float64, grad_fn=<MseLossBackward>)\n",
            "tensor(2733657.7086, dtype=torch.float64, grad_fn=<MseLossBackward>)\n",
            "tensor(2733512.6511, dtype=torch.float64, grad_fn=<MseLossBackward>)\n",
            "tensor(2733372.1936, dtype=torch.float64, grad_fn=<MseLossBackward>)\n",
            "tensor(2733236.8142, dtype=torch.float64, grad_fn=<MseLossBackward>)\n",
            "tensor(2733106.8711, dtype=torch.float64, grad_fn=<MseLossBackward>)\n",
            "tensor(2732982.0176, dtype=torch.float64, grad_fn=<MseLossBackward>)\n",
            "tensor(2732861.5763, dtype=torch.float64, grad_fn=<MseLossBackward>)\n",
            "tensor(2732745.2031, dtype=torch.float64, grad_fn=<MseLossBackward>)\n",
            "tensor(2732632.9312, dtype=torch.float64, grad_fn=<MseLossBackward>)\n",
            "tensor(2732524.7154, dtype=torch.float64, grad_fn=<MseLossBackward>)\n",
            "tensor(2732420.2444, dtype=torch.float64, grad_fn=<MseLossBackward>)\n",
            "tensor(2732319.2366, dtype=torch.float64, grad_fn=<MseLossBackward>)\n",
            "tensor(2732221.6824, dtype=torch.float64, grad_fn=<MseLossBackward>)\n",
            "tensor(2732127.6603, dtype=torch.float64, grad_fn=<MseLossBackward>)\n",
            "tensor(2732037.0320, dtype=torch.float64, grad_fn=<MseLossBackward>)\n",
            "tensor(2731949.4691, dtype=torch.float64, grad_fn=<MseLossBackward>)\n",
            "tensor(2731864.7371, dtype=torch.float64, grad_fn=<MseLossBackward>)\n",
            "tensor(2731782.8153, dtype=torch.float64, grad_fn=<MseLossBackward>)\n",
            "tensor(2731703.7300, dtype=torch.float64, grad_fn=<MseLossBackward>)\n",
            "tensor(2731627.3914, dtype=torch.float64, grad_fn=<MseLossBackward>)\n",
            "tensor(2731553.6528, dtype=torch.float64, grad_fn=<MseLossBackward>)\n",
            "tensor(2731482.4479, dtype=torch.float64, grad_fn=<MseLossBackward>)\n",
            "tensor(2731413.7792, dtype=torch.float64, grad_fn=<MseLossBackward>)\n",
            "tensor(2731347.5983, dtype=torch.float64, grad_fn=<MseLossBackward>)\n",
            "tensor(2731283.7750, dtype=torch.float64, grad_fn=<MseLossBackward>)\n",
            "tensor(2731222.1967, dtype=torch.float64, grad_fn=<MseLossBackward>)\n",
            "tensor(2731162.8359, dtype=torch.float64, grad_fn=<MseLossBackward>)\n",
            "tensor(2731105.6942, dtype=torch.float64, grad_fn=<MseLossBackward>)\n",
            "tensor(2731050.7232, dtype=torch.float64, grad_fn=<MseLossBackward>)\n",
            "tensor(2730997.8344, dtype=torch.float64, grad_fn=<MseLossBackward>)\n",
            "tensor(2730946.9662, dtype=torch.float64, grad_fn=<MseLossBackward>)\n",
            "tensor(2730898.0967, dtype=torch.float64, grad_fn=<MseLossBackward>)\n",
            "tensor(2730851.1969, dtype=torch.float64, grad_fn=<MseLossBackward>)\n",
            "tensor(2730806.2047, dtype=torch.float64, grad_fn=<MseLossBackward>)\n",
            "tensor(2730763.0565, dtype=torch.float64, grad_fn=<MseLossBackward>)\n",
            "tensor(2730721.7172, dtype=torch.float64, grad_fn=<MseLossBackward>)\n",
            "tensor(2730682.1632, dtype=torch.float64, grad_fn=<MseLossBackward>)\n",
            "tensor(2730644.3509, dtype=torch.float64, grad_fn=<MseLossBackward>)\n",
            "tensor(2730608.2198, dtype=torch.float64, grad_fn=<MseLossBackward>)\n",
            "tensor(2730573.7213, dtype=torch.float64, grad_fn=<MseLossBackward>)\n",
            "tensor(2730540.8245, dtype=torch.float64, grad_fn=<MseLossBackward>)\n",
            "tensor(2730509.4955, dtype=torch.float64, grad_fn=<MseLossBackward>)\n",
            "tensor(2730479.6844, dtype=torch.float64, grad_fn=<MseLossBackward>)\n",
            "tensor(2730451.3382, dtype=torch.float64, grad_fn=<MseLossBackward>)\n",
            "tensor(2730424.4141, dtype=torch.float64, grad_fn=<MseLossBackward>)\n",
            "tensor(2730398.8726, dtype=torch.float64, grad_fn=<MseLossBackward>)\n",
            "tensor(2730374.6662, dtype=torch.float64, grad_fn=<MseLossBackward>)\n",
            "tensor(2730351.7409, dtype=torch.float64, grad_fn=<MseLossBackward>)\n",
            "tensor(2730330.0479, dtype=torch.float64, grad_fn=<MseLossBackward>)\n",
            "tensor(2730309.5458, dtype=torch.float64, grad_fn=<MseLossBackward>)\n",
            "tensor(2730290.1918, dtype=torch.float64, grad_fn=<MseLossBackward>)\n",
            "tensor(2730271.9366, dtype=torch.float64, grad_fn=<MseLossBackward>)\n",
            "tensor(2730254.7317, dtype=torch.float64, grad_fn=<MseLossBackward>)\n",
            "tensor(2730238.5332, dtype=torch.float64, grad_fn=<MseLossBackward>)\n",
            "tensor(2730223.2995, dtype=torch.float64, grad_fn=<MseLossBackward>)\n",
            "tensor(2730208.9850, dtype=torch.float64, grad_fn=<MseLossBackward>)\n",
            "tensor(2730195.5445, dtype=torch.float64, grad_fn=<MseLossBackward>)\n",
            "tensor(2730182.9356, dtype=torch.float64, grad_fn=<MseLossBackward>)\n",
            "tensor(2730171.1195, dtype=torch.float64, grad_fn=<MseLossBackward>)\n",
            "tensor(2730160.0572, dtype=torch.float64, grad_fn=<MseLossBackward>)\n",
            "tensor(2730149.7086, dtype=torch.float64, grad_fn=<MseLossBackward>)\n",
            "tensor(2730140.0349, dtype=torch.float64, grad_fn=<MseLossBackward>)\n",
            "tensor(2730131.0006, dtype=torch.float64, grad_fn=<MseLossBackward>)\n",
            "tensor(2730122.5712, dtype=torch.float64, grad_fn=<MseLossBackward>)\n",
            "tensor(2730114.7122, dtype=torch.float64, grad_fn=<MseLossBackward>)\n",
            "tensor(2730107.3894, dtype=torch.float64, grad_fn=<MseLossBackward>)\n",
            "tensor(2730100.5721, dtype=torch.float64, grad_fn=<MseLossBackward>)\n",
            "tensor(2730094.2309, dtype=torch.float64, grad_fn=<MseLossBackward>)\n",
            "tensor(2730088.3373, dtype=torch.float64, grad_fn=<MseLossBackward>)\n",
            "tensor(2730082.8629, dtype=torch.float64, grad_fn=<MseLossBackward>)\n",
            "tensor(2730077.7814, dtype=torch.float64, grad_fn=<MseLossBackward>)\n",
            "tensor(2730073.0684, dtype=torch.float64, grad_fn=<MseLossBackward>)\n",
            "tensor(2730068.7005, dtype=torch.float64, grad_fn=<MseLossBackward>)\n",
            "tensor(2730064.6546, dtype=torch.float64, grad_fn=<MseLossBackward>)\n",
            "tensor(2730060.9095, dtype=torch.float64, grad_fn=<MseLossBackward>)\n",
            "tensor(2730057.4452, dtype=torch.float64, grad_fn=<MseLossBackward>)\n",
            "tensor(2730054.2432, dtype=torch.float64, grad_fn=<MseLossBackward>)\n",
            "tensor(2730051.2854, dtype=torch.float64, grad_fn=<MseLossBackward>)\n",
            "tensor(2730048.5548, dtype=torch.float64, grad_fn=<MseLossBackward>)\n",
            "tensor(2730046.0355, dtype=torch.float64, grad_fn=<MseLossBackward>)\n",
            "tensor(2730043.7129, dtype=torch.float64, grad_fn=<MseLossBackward>)\n",
            "tensor(2730041.5732, dtype=torch.float64, grad_fn=<MseLossBackward>)\n",
            "tensor(2730039.6028, dtype=torch.float64, grad_fn=<MseLossBackward>)\n",
            "tensor(2730037.7895, dtype=torch.float64, grad_fn=<MseLossBackward>)\n",
            "tensor(2730036.1224, dtype=torch.float64, grad_fn=<MseLossBackward>)\n",
            "tensor(2730034.5904, dtype=torch.float64, grad_fn=<MseLossBackward>)\n",
            "tensor(2730033.1834, dtype=torch.float64, grad_fn=<MseLossBackward>)\n",
            "tensor(2730031.8920, dtype=torch.float64, grad_fn=<MseLossBackward>)\n",
            "tensor(2730030.7077, dtype=torch.float64, grad_fn=<MseLossBackward>)\n",
            "tensor(2730029.6225, dtype=torch.float64, grad_fn=<MseLossBackward>)\n",
            "tensor(2730028.6283, dtype=torch.float64, grad_fn=<MseLossBackward>)\n",
            "tensor(2730027.7185, dtype=torch.float64, grad_fn=<MseLossBackward>)\n",
            "tensor(2730026.8864, dtype=torch.float64, grad_fn=<MseLossBackward>)\n",
            "tensor(2730026.1258, dtype=torch.float64, grad_fn=<MseLossBackward>)\n",
            "tensor(2730025.4312, dtype=torch.float64, grad_fn=<MseLossBackward>)\n",
            "tensor(2730024.7973, dtype=torch.float64, grad_fn=<MseLossBackward>)\n",
            "tensor(2730024.2192, dtype=torch.float64, grad_fn=<MseLossBackward>)\n",
            "tensor(2730023.6924, dtype=torch.float64, grad_fn=<MseLossBackward>)\n",
            "tensor(2730023.2127, dtype=torch.float64, grad_fn=<MseLossBackward>)\n",
            "tensor(2730022.7762, dtype=torch.float64, grad_fn=<MseLossBackward>)\n",
            "tensor(2730022.3794, dtype=torch.float64, grad_fn=<MseLossBackward>)\n",
            "tensor(2730022.0190, dtype=torch.float64, grad_fn=<MseLossBackward>)\n",
            "tensor(2730021.6918, dtype=torch.float64, grad_fn=<MseLossBackward>)\n",
            "tensor(2730021.3950, dtype=torch.float64, grad_fn=<MseLossBackward>)\n",
            "tensor(2730021.1261, dtype=torch.float64, grad_fn=<MseLossBackward>)\n",
            "tensor(2730020.8826, dtype=torch.float64, grad_fn=<MseLossBackward>)\n",
            "tensor(2730020.6624, dtype=torch.float64, grad_fn=<MseLossBackward>)\n",
            "tensor(2730020.4633, dtype=torch.float64, grad_fn=<MseLossBackward>)\n",
            "tensor(2730020.2836, dtype=torch.float64, grad_fn=<MseLossBackward>)\n",
            "tensor(2730020.1214, dtype=torch.float64, grad_fn=<MseLossBackward>)\n",
            "tensor(2730019.9753, dtype=torch.float64, grad_fn=<MseLossBackward>)\n",
            "tensor(2730019.8437, dtype=torch.float64, grad_fn=<MseLossBackward>)\n",
            "tensor(2730019.7252, dtype=torch.float64, grad_fn=<MseLossBackward>)\n",
            "tensor(2730019.6188, dtype=torch.float64, grad_fn=<MseLossBackward>)\n",
            "tensor(2730019.5232, dtype=torch.float64, grad_fn=<MseLossBackward>)\n",
            "tensor(2730019.4375, dtype=torch.float64, grad_fn=<MseLossBackward>)\n",
            "tensor(2730019.3606, dtype=torch.float64, grad_fn=<MseLossBackward>)\n",
            "tensor(2730019.2919, dtype=torch.float64, grad_fn=<MseLossBackward>)\n",
            "tensor(2730019.2302, dtype=torch.float64, grad_fn=<MseLossBackward>)\n",
            "tensor(2730019.1755, dtype=torch.float64, grad_fn=<MseLossBackward>)\n",
            "tensor(2730019.1262, dtype=torch.float64, grad_fn=<MseLossBackward>)\n",
            "tensor(2730019.0827, dtype=torch.float64, grad_fn=<MseLossBackward>)\n",
            "tensor(2730019.0439, dtype=torch.float64, grad_fn=<MseLossBackward>)\n",
            "tensor(2730019.0091, dtype=torch.float64, grad_fn=<MseLossBackward>)\n",
            "tensor(2730018.9783, dtype=torch.float64, grad_fn=<MseLossBackward>)\n",
            "tensor(2730018.9513, dtype=torch.float64, grad_fn=<MseLossBackward>)\n",
            "tensor(2730018.9269, dtype=torch.float64, grad_fn=<MseLossBackward>)\n",
            "tensor(2730018.9054, dtype=torch.float64, grad_fn=<MseLossBackward>)\n",
            "tensor(2730018.8868, dtype=torch.float64, grad_fn=<MseLossBackward>)\n"
          ],
          "name": "stdout"
        },
        {
          "output_type": "display_data",
          "data": {
            "image/png": "[encoded data removed]",
            "text/plain": [
              "<Figure size 432x288 with 1 Axes>"
            ]
          },
          "metadata": {
            "tags": [],
            "needs_background": "light"
          }
        }
      ]
    },
    {
      "cell_type": "code",
      "metadata": {
        "id": "EpnzzcBh1f1K",
        "colab": {
          "base_uri": "https://localhost:8080/",
          "height": 34
        },
        "outputId": "49da5e68-fa1f-44a4-acf5-0165e0179eab"
      },
      "source": [
        "#np.append(sgd_loss_50,[sgd_loss_50[-1]]*50).shape"
      ],
      "execution_count": null,
      "outputs": [
        {
          "output_type": "execute_result",
          "data": {
            "text/plain": [
              "(100,)"
            ]
          },
          "metadata": {
            "tags": []
          },
          "execution_count": 22
        }
      ]
    },
    {
      "cell_type": "markdown",
      "metadata": {
        "id": "GRJd8FjukUGk"
      },
      "source": [
        "**# Plot for Loss as a function of iteration for different learning rates, choice of optimizers**"
      ]
    },
    {
      "cell_type": "code",
      "metadata": {
        "id": "Wg00E4jAFGhj",
        "colab": {
          "base_uri": "https://localhost:8080/",
          "height": 312
        },
        "outputId": "b8ec1490-4c6e-44c9-f209-8eeb59f1f903"
      },
      "source": [
        "num_epochs = 50\n",
        "plt.plot(np.arange(0,num_epochs),sgd_loss_50,\n",
        "         np.arange(0,num_epochs),adam_loss_50,\n",
        "         np.arange(0,num_epochs),adam_loss_100_01[:50],\n",
        "         np.arange(0,num_epochs),adam_loss_100_1[:50]\n",
        "         )\n",
        "plt.xlabel('epoch')\n",
        "plt.ylabel('loss')\n",
        "plt.title('Loss vs Iterations')\n",
        "plt.legend(['SGD lr=0.00001', 'adam lr = 0.00001','adam lr = 0.1','adam lr =1'])"
      ],
      "execution_count": null,
      "outputs": [
        {
          "output_type": "execute_result",
          "data": {
            "text/plain": [
              "<matplotlib.legend.Legend at 0x7ff9d393b5c0>"
            ]
          },
          "metadata": {
            "tags": []
          },
          "execution_count": 23
        },
        {
          "output_type": "display_data",
          "data": {
            "image/png": "[encoded data removed]",
            "text/plain": [
              "<Figure size 432x288 with 1 Axes>"
            ]
          },
          "metadata": {
            "tags": [],
            "needs_background": "light"
          }
        }
      ]
    },
    {
      "cell_type": "markdown",
      "metadata": {
        "id": "ohzUSy3bIppn"
      },
      "source": [
        "# **Top 10 Movies Recommendation**"
      ]
    },
    {
      "cell_type": "markdown",
      "metadata": {
        "id": "-GUyL3pQMKaD"
      },
      "source": [
        "Recommendation strategy being used here is cosine similarity. The reason is cosine similarity is a metric used to measure how similar the documents are irrespective of their size. Mathematically, it measures the cosine of the angle between two vectors projected in a multi-dimensional space. The cosine similarity is advantageous because even if the two similar documents are far apart by the Euclidean distance (due to the size of the document), chances are they may still be oriented closer together. The smaller the angle, higher the cosine similarity."
      ]
    },
    {
      "cell_type": "code",
      "metadata": {
        "id": "Mk7eywCvMU8o"
      },
      "source": [
        "####### cosine similarity\n",
        "def cosine_similarity(movie_matrix, embedded_movie):\n",
        "  similar_movies = []\n",
        "  for movie in range(movie_matrix.shape[0]):\n",
        "    cs=scipy.spatial.distance.cosine(embedded_movie,movie_matrix[movie,:])\n",
        "    similar_movies.append(1-cs)\n",
        "  return similar_movies\n"
      ],
      "execution_count": null,
      "outputs": []
    },
    {
      "cell_type": "code",
      "metadata": {
        "id": "Yf-1srjNS54Q"
      },
      "source": [
        "######### function to pass arguments - optimizers and learning rate to get recommendations\n",
        "def recommend_for(optimizer_selected, movie_Name,no_of_movies):\n",
        "  if optimizer_selected =='SGD':  \n",
        "    df = pd.DataFrame(sgd_predictions_100.data.numpy()) #### 100 epochs used here for better prediction\n",
        "  elif optimizer_selected =='Adam_01':     ########## Here, 01 is for lr = 0.1\n",
        "    df = pd.DataFrame(adam_predictions_100_01.data.numpy())\n",
        "  elif optimizer_selected =='Adam_1': ############### 1 is for lr =1\n",
        "    df = pd.DataFrame(adam_predictions_100_1.data.numpy())\n",
        "\n",
        "  \n",
        "  df.rename(index = dict(zip(df.index[0:], list(results.index))),inplace=True)\n",
        "  df_matrix= df.to_numpy() \n",
        "\n",
        "  movies.rename(index = dict(zip(movies.index[0:],list(movies.iloc[:,0]))),inplace=True)\n",
        "  # movies.head()\n",
        "\n",
        "  index = movies.index[movies['title'] == movie_Name].to_list()\n",
        "  movie_embedding = df.loc[index,:].to_numpy()\n",
        "\n",
        "  movie_relation = pd.DataFrame(cosine_similarity(df_matrix,movie_embedding))\n",
        "  movie_relation.rename(index = dict(zip(movie_relation.index[0:], list(results.index))),inplace=True)\n",
        "\n",
        "  movie_relation.columns = ['movie We recommend']\n",
        "\n",
        "  # sorting and getting the top n movie \n",
        "  movies_sorted = movie_relation.sort_values('movie We recommend',ascending=False)\n",
        "\n",
        "  movie_w_name = pd.merge(movies_sorted, movies, left_index=True, right_index=True)\n",
        "\n",
        "  return movie_w_name['title'][0:10]"
      ],
      "execution_count": null,
      "outputs": []
    },
    {
      "cell_type": "code",
      "metadata": {
        "id": "0XoqH-53SQUM"
      },
      "source": [
        "\n",
        "##### function to get recommendations for a movie in Xij matrix\n",
        "\n",
        "def observed(moviename):\n",
        "  #### getting movie index from movies given movie name\n",
        "  indx = movies[movies[\"title\"] == moviename].index[0]\n",
        "\n",
        "  # Sorting top 10 movie indexes in results\n",
        "  ob_indx = (-np.asanyarray(results.iloc[indx])).argsort()[:10]\n",
        "\n",
        "  # Getting movie name from top 10 movie indexes\n",
        "  recommendations = movies[\"title\"].iloc[ob_indx]\n",
        "\n",
        "  return recommendations"
      ],
      "execution_count": null,
      "outputs": []
    },
    {
      "cell_type": "markdown",
      "metadata": {
        "id": "QjgG1rYxKaan"
      },
      "source": [
        "For Toy Story\n"
      ]
    },
    {
      "cell_type": "code",
      "metadata": {
        "id": "3-RbLPbqxONL",
        "colab": {
          "base_uri": "https://localhost:8080/",
          "height": 208
        },
        "outputId": "da03e5c0-881a-4527-9e6a-8005c187ab3a"
      },
      "source": [
        "observed('Toy Story')   #### Recommendations according to frequency"
      ],
      "execution_count": null,
      "outputs": [
        {
          "output_type": "execute_result",
          "data": {
            "text/plain": [
              "314                                          Forrest Gump\n",
              "257                                          Pulp Fiction\n",
              "277                             Shawshank Redemption, The\n",
              "224                    Star Wars: Episode IV - A New Hope\n",
              "418                                         Jurassic Park\n",
              "1938                                  Walk on the Moon, A\n",
              "615                         Independence Day (a.k.a. ID4)\n",
              "510                             Silence of the Lambs, The\n",
              "97                                             Braveheart\n",
              "910     Once Upon a Time in the West (C'era una volta ...\n",
              "Name: title, dtype: object"
            ]
          },
          "metadata": {
            "tags": []
          },
          "execution_count": 25
        }
      ]
    },
    {
      "cell_type": "code",
      "metadata": {
        "id": "SoXAC3nSMhV3",
        "colab": {
          "base_uri": "https://localhost:8080/",
          "height": 208
        },
        "outputId": "c8fe30b5-e572-4275-8b82-61f96bc79415"
      },
      "source": [
        "recommend_for('SGD','Toy Story',10)"
      ],
      "execution_count": null,
      "outputs": [
        {
          "output_type": "execute_result",
          "data": {
            "text/plain": [
              "1                                                Toy Story\n",
              "2930                                     Return with Honor\n",
              "7254                                  The Butterfly Effect\n",
              "5820                     Standing in the Shadows of Motown\n",
              "6337                                        Owning Mahowny\n",
              "26854                    Darkman II: Return of Durant, The\n",
              "930                                              Notorious\n",
              "159690    Teenage Mutant Ninja Turtles: Out of the Shadows\n",
              "3052                                                 Dogma\n",
              "4808                                        Vanishing, The\n",
              "Name: title, dtype: object"
            ]
          },
          "metadata": {
            "tags": []
          },
          "execution_count": 26
        }
      ]
    },
    {
      "cell_type": "code",
      "metadata": {
        "id": "BUCUh1XnKm1J",
        "colab": {
          "base_uri": "https://localhost:8080/",
          "height": 208
        },
        "outputId": "2d4ae79a-6a12-4c7f-8fc1-9cbbf28ada33"
      },
      "source": [
        "recommend_for('Adam_01','Toy Story',10)"
      ],
      "execution_count": null,
      "outputs": [
        {
          "output_type": "execute_result",
          "data": {
            "text/plain": [
              "1                                   Toy Story\n",
              "1682                         Truman Show, The\n",
              "2003                                 Gremlins\n",
              "2028                      Saving Private Ryan\n",
              "1206                      Clockwork Orange, A\n",
              "2019     Seven Samurai (Shichinin no samurai)\n",
              "32         Twelve Monkeys (a.k.a. 12 Monkeys)\n",
              "1302                          Field of Dreams\n",
              "2683    Austin Powers: The Spy Who Shagged Me\n",
              "8512                             Silent Movie\n",
              "Name: title, dtype: object"
            ]
          },
          "metadata": {
            "tags": []
          },
          "execution_count": 27
        }
      ]
    },
    {
      "cell_type": "code",
      "metadata": {
        "id": "6d9baTc-Km-A",
        "colab": {
          "base_uri": "https://localhost:8080/",
          "height": 208
        },
        "outputId": "7614eb37-3ec6-4e7c-c2b9-b1a0b7ebb1f9"
      },
      "source": [
        "recommend_for('Adam_1','Toy Story',10)"
      ],
      "execution_count": null,
      "outputs": [
        {
          "output_type": "execute_result",
          "data": {
            "text/plain": [
              "1                                 Toy Story\n",
              "2716    Ghostbusters (a.k.a. Ghost Busters)\n",
              "3977                       Charlie's Angels\n",
              "1485                              Liar Liar\n",
              "1682                       Truman Show, The\n",
              "1923           There's Something About Mary\n",
              "2355                          Bug's Life, A\n",
              "356                            Forrest Gump\n",
              "2959                             Fight Club\n",
              "2918               Ferris Bueller's Day Off\n",
              "Name: title, dtype: object"
            ]
          },
          "metadata": {
            "tags": []
          },
          "execution_count": 28
        }
      ]
    },
    {
      "cell_type": "markdown",
      "metadata": {
        "id": "mH11JgMiK7oQ"
      },
      "source": [
        "**The movies recommended for different optimizers and learning rates are also different. This is because the losses reduces more for lower learning rates and higher iterations and the choice of optimizer. In our case Adam has performed better on predictions than the rest of the optimizer with learning rate 1 and 100 iterations. However, if we increase our epochs to 200 or maybe 300, we'll get even more perfect recommendations.**"
      ]
    },
    {
      "cell_type": "code",
      "metadata": {
        "id": "SIFgbin2edOr",
        "colab": {
          "base_uri": "https://localhost:8080/",
          "height": 208
        },
        "outputId": "bb4284ee-4b68-4423-e875-a827515a1f65"
      },
      "source": [
        "recommend_for('Adam_1','Toy Story',10)    #### Using 200 epochs"
      ],
      "execution_count": null,
      "outputs": [
        {
          "output_type": "execute_result",
          "data": {
            "text/plain": [
              "1                                 Toy Story\n",
              "2716    Ghostbusters (a.k.a. Ghost Busters)\n",
              "1923           There's Something About Mary\n",
              "4979                  Royal Tenenbaums, The\n",
              "1136        Monty Python and the Holy Grail\n",
              "1485                              Liar Liar\n",
              "1270                     Back to the Future\n",
              "1682                       Truman Show, The\n",
              "2918               Ferris Bueller's Day Off\n",
              "2355                          Bug's Life, A\n",
              "Name: title, dtype: object"
            ]
          },
          "metadata": {
            "tags": []
          },
          "execution_count": 38
        }
      ]
    },
    {
      "cell_type": "code",
      "metadata": {
        "id": "YQIQ1tHlhU7j",
        "colab": {
          "base_uri": "https://localhost:8080/",
          "height": 208
        },
        "outputId": "764bb1e0-a2af-4c11-e8b9-e54c047b465a"
      },
      "source": [
        "recommend_for('Adam_1','Toy Story',10)    #### Using 300 epochs"
      ],
      "execution_count": null,
      "outputs": [
        {
          "output_type": "execute_result",
          "data": {
            "text/plain": [
              "1                                 Toy Story\n",
              "2716    Ghostbusters (a.k.a. Ghost Busters)\n",
              "1923           There's Something About Mary\n",
              "1136        Monty Python and the Holy Grail\n",
              "1485                              Liar Liar\n",
              "4979                  Royal Tenenbaums, The\n",
              "1270                     Back to the Future\n",
              "1682                       Truman Show, The\n",
              "2918               Ferris Bueller's Day Off\n",
              "2355                          Bug's Life, A\n",
              "Name: title, dtype: object"
            ]
          },
          "metadata": {
            "tags": []
          },
          "execution_count": 44
        }
      ]
    },
    {
      "cell_type": "markdown",
      "metadata": {
        "id": "kHDlD3xHLO2u"
      },
      "source": [
        "For Apollo 13"
      ]
    },
    {
      "cell_type": "code",
      "metadata": {
        "id": "_mGjT92kx3zh",
        "colab": {
          "base_uri": "https://localhost:8080/",
          "height": 208
        },
        "outputId": "6759a437-dd6e-4c25-9fee-1d232c397a62"
      },
      "source": [
        "observed('Apollo 13')   #### Recommendations according to frequency"
      ],
      "execution_count": null,
      "outputs": [
        {
          "output_type": "execute_result",
          "data": {
            "text/plain": [
              "1                          Toy Story\n",
              "303          Quick and the Dead, The\n",
              "99     Heidi Fleiss: Hollywood Madam\n",
              "95                      Broken Arrow\n",
              "94                   Beautiful Girls\n",
              "300                        Quiz Show\n",
              "299                           Priest\n",
              "296                     Pulp Fiction\n",
              "673                        Space Jam\n",
              "85                Angels and Insects\n",
              "Name: title, dtype: object"
            ]
          },
          "metadata": {
            "tags": []
          },
          "execution_count": 29
        }
      ]
    },
    {
      "cell_type": "code",
      "metadata": {
        "id": "sfROeIv4YIT9",
        "colab": {
          "base_uri": "https://localhost:8080/",
          "height": 208
        },
        "outputId": "4d42f435-c70c-4afa-daf4-7f3a094e350f"
      },
      "source": [
        "recommend_for('SGD','Apollo 13',10)"
      ],
      "execution_count": null,
      "outputs": [
        {
          "output_type": "execute_result",
          "data": {
            "text/plain": [
              "150                             Apollo 13\n",
              "55269             Darjeeling Limited, The\n",
              "8781            Manchurian Candidate, The\n",
              "61073                           Hell Ride\n",
              "5574                     Transporter, The\n",
              "46574                     OH in Ohio, The\n",
              "919                     Wizard of Oz, The\n",
              "778                         Trainspotting\n",
              "40583                             Syriana\n",
              "105720    Thief of Paris, The (Le voleur)\n",
              "Name: title, dtype: object"
            ]
          },
          "metadata": {
            "tags": []
          },
          "execution_count": 30
        }
      ]
    },
    {
      "cell_type": "code",
      "metadata": {
        "id": "d_QxaZf2KmB3",
        "colab": {
          "base_uri": "https://localhost:8080/",
          "height": 208
        },
        "outputId": "aa53744e-352b-48a4-9424-7e9a5e62b146"
      },
      "source": [
        "recommend_for('Adam_01','Apollo 13',10)"
      ],
      "execution_count": null,
      "outputs": [
        {
          "output_type": "execute_result",
          "data": {
            "text/plain": [
              "150                                 Apollo 13\n",
              "86142     13 Assassins (Jûsan-nin no shikaku)\n",
              "1909           X-Files: Fight the Future, The\n",
              "923                              Citizen Kane\n",
              "4299                         Knight's Tale, A\n",
              "1246                       Dead Poets Society\n",
              "87232                      X-Men: First Class\n",
              "1101                                  Top Gun\n",
              "151745                             Reptilicus\n",
              "1438                             Dante's Peak\n",
              "Name: title, dtype: object"
            ]
          },
          "metadata": {
            "tags": []
          },
          "execution_count": 31
        }
      ]
    },
    {
      "cell_type": "code",
      "metadata": {
        "id": "QPF3II-aZbI9",
        "colab": {
          "base_uri": "https://localhost:8080/",
          "height": 208
        },
        "outputId": "2520e518-9d74-47e6-f99c-b73b3e3462d7"
      },
      "source": [
        "recommend_for('Adam_1','Apollo 13',10)"
      ],
      "execution_count": null,
      "outputs": [
        {
          "output_type": "execute_result",
          "data": {
            "text/plain": [
              "150                            Apollo 13\n",
              "2054            Honey, I Shrunk the Kids\n",
              "4571    Bill & Ted's Excellent Adventure\n",
              "316                             Stargate\n",
              "3254                     Wayne's World 2\n",
              "2268                     Few Good Men, A\n",
              "1608                       Air Force One\n",
              "3247                          Sister Act\n",
              "2641                         Superman II\n",
              "1408           Last of the Mohicans, The\n",
              "Name: title, dtype: object"
            ]
          },
          "metadata": {
            "tags": []
          },
          "execution_count": 32
        }
      ]
    },
    {
      "cell_type": "code",
      "metadata": {
        "id": "vPFRROfifXAs",
        "colab": {
          "base_uri": "https://localhost:8080/",
          "height": 208
        },
        "outputId": "0a773c80-17f9-4a2f-d891-72de4ab5784c"
      },
      "source": [
        "recommend_for('Adam_1','Apollo 13',10)    #### Using 200 epochs"
      ],
      "execution_count": null,
      "outputs": [
        {
          "output_type": "execute_result",
          "data": {
            "text/plain": [
              "150                            Apollo 13\n",
              "1608                       Air Force One\n",
              "2054            Honey, I Shrunk the Kids\n",
              "1266                          Unforgiven\n",
              "4571    Bill & Ted's Excellent Adventure\n",
              "3254                     Wayne's World 2\n",
              "1302                     Field of Dreams\n",
              "2268                     Few Good Men, A\n",
              "733                            Rock, The\n",
              "185                             Net, The\n",
              "Name: title, dtype: object"
            ]
          },
          "metadata": {
            "tags": []
          },
          "execution_count": 39
        }
      ]
    },
    {
      "cell_type": "code",
      "metadata": {
        "id": "_8ROLvVghxhN",
        "colab": {
          "base_uri": "https://localhost:8080/",
          "height": 208
        },
        "outputId": "3c5917ef-3165-49e2-d2a5-c72f36ef22db"
      },
      "source": [
        "recommend_for('Adam_1','Apollo 13',10)    #### Using 300 epochs"
      ],
      "execution_count": null,
      "outputs": [
        {
          "output_type": "execute_result",
          "data": {
            "text/plain": [
              "150                            Apollo 13\n",
              "1608                       Air Force One\n",
              "2054            Honey, I Shrunk the Kids\n",
              "4571    Bill & Ted's Excellent Adventure\n",
              "1266                          Unforgiven\n",
              "3254                     Wayne's World 2\n",
              "1302                     Field of Dreams\n",
              "733                            Rock, The\n",
              "2268                     Few Good Men, A\n",
              "185                             Net, The\n",
              "Name: title, dtype: object"
            ]
          },
          "metadata": {
            "tags": []
          },
          "execution_count": 42
        }
      ]
    },
    {
      "cell_type": "markdown",
      "metadata": {
        "id": "XhNCBsWeL2ue"
      },
      "source": [
        "For Home Alone"
      ]
    },
    {
      "cell_type": "code",
      "metadata": {
        "id": "cy-zaZ2KyCbS",
        "colab": {
          "base_uri": "https://localhost:8080/",
          "height": 208
        },
        "outputId": "9da0622b-1832-428a-fbe5-80a7b9382d6e"
      },
      "source": [
        "observed('Home Alone')   #### Recommendations according to frequency"
      ],
      "execution_count": null,
      "outputs": [
        {
          "output_type": "execute_result",
          "data": {
            "text/plain": [
              "954        Mr. Smith Goes to Washington\n",
              "647                  Courage Under Fire\n",
              "1373    Star Trek V: The Final Frontier\n",
              "637                          Sgt. Bilko\n",
              "1379                      Young Guns II\n",
              "1380                             Grease\n",
              "628                         Primal Fear\n",
              "1385                        Under Siege\n",
              "1387                               Jaws\n",
              "1392                       Citizen Ruth\n",
              "Name: title, dtype: object"
            ]
          },
          "metadata": {
            "tags": []
          },
          "execution_count": 33
        }
      ]
    },
    {
      "cell_type": "code",
      "metadata": {
        "id": "yMXUp33jSieW",
        "colab": {
          "base_uri": "https://localhost:8080/",
          "height": 208
        },
        "outputId": "b5f6f368-6f31-4846-9d79-197605aa9c52"
      },
      "source": [
        "recommend_for('SGD','Home Alone',10)"
      ],
      "execution_count": null,
      "outputs": [
        {
          "output_type": "execute_result",
          "data": {
            "text/plain": [
              "586                                   Home Alone\n",
              "144522                                  Sky High\n",
              "1385                                 Under Siege\n",
              "931                                   Spellbound\n",
              "2932                              Days of Heaven\n",
              "922       Sunset Blvd. (a.k.a. Sunset Boulevard)\n",
              "48774                            Children of Men\n",
              "48560                      Running With Scissors\n",
              "3798                           What Lies Beneath\n",
              "3871                                       Shane\n",
              "Name: title, dtype: object"
            ]
          },
          "metadata": {
            "tags": []
          },
          "execution_count": 34
        }
      ]
    },
    {
      "cell_type": "code",
      "metadata": {
        "id": "Oy6FujwITn-m",
        "colab": {
          "base_uri": "https://localhost:8080/",
          "height": 208
        },
        "outputId": "3de0c704-4762-4a69-a968-7a1373749811"
      },
      "source": [
        "recommend_for('Adam_01','Home Alone',10)"
      ],
      "execution_count": null,
      "outputs": [
        {
          "output_type": "execute_result",
          "data": {
            "text/plain": [
              "586                    Home Alone\n",
              "4015        Dude, Where's My Car?\n",
              "466          Hot Shots! Part Deux\n",
              "4010          Brewster's Millions\n",
              "2835                 Chill Factor\n",
              "6502                28 Days Later\n",
              "4020                    Gift, The\n",
              "55269     Darjeeling Limited, The\n",
              "134130                The Martian\n",
              "904                   Rear Window\n",
              "Name: title, dtype: object"
            ]
          },
          "metadata": {
            "tags": []
          },
          "execution_count": 35
        }
      ]
    },
    {
      "cell_type": "code",
      "metadata": {
        "id": "HURejIsuTsKI",
        "colab": {
          "base_uri": "https://localhost:8080/",
          "height": 208
        },
        "outputId": "747f29f0-da8f-4ec7-d7f5-64e963615aa0"
      },
      "source": [
        "recommend_for('Adam_1','Home Alone',10)"
      ],
      "execution_count": null,
      "outputs": [
        {
          "output_type": "execute_result",
          "data": {
            "text/plain": [
              "586                              Home Alone\n",
              "2717                        Ghostbusters II\n",
              "3253                          Wayne's World\n",
              "1387                                   Jaws\n",
              "2124                     Addams Family, The\n",
              "1073    Willy Wonka & the Chocolate Factory\n",
              "733                               Rock, The\n",
              "316                                Stargate\n",
              "2006                     Mask of Zorro, The\n",
              "185                                Net, The\n",
              "Name: title, dtype: object"
            ]
          },
          "metadata": {
            "tags": []
          },
          "execution_count": 36
        }
      ]
    },
    {
      "cell_type": "code",
      "metadata": {
        "id": "5b2PrTLyUPXO",
        "colab": {
          "base_uri": "https://localhost:8080/",
          "height": 208
        },
        "outputId": "96a4a546-f2fb-43e8-a3de-50de147adde6"
      },
      "source": [
        "recommend_for('Adam_1','Home Alone',10)   #### Using 200 epochs"
      ],
      "execution_count": null,
      "outputs": [
        {
          "output_type": "execute_result",
          "data": {
            "text/plain": [
              "586                           Home Alone\n",
              "2124                  Addams Family, The\n",
              "2717                     Ghostbusters II\n",
              "736                              Twister\n",
              "2006                  Mask of Zorro, The\n",
              "4571    Bill & Ted's Excellent Adventure\n",
              "2054            Honey, I Shrunk the Kids\n",
              "733                            Rock, The\n",
              "185                             Net, The\n",
              "3253                       Wayne's World\n",
              "Name: title, dtype: object"
            ]
          },
          "metadata": {
            "tags": []
          },
          "execution_count": 40
        }
      ]
    },
    {
      "cell_type": "code",
      "metadata": {
        "id": "TYdwGp1fh2u1",
        "colab": {
          "base_uri": "https://localhost:8080/",
          "height": 208
        },
        "outputId": "cea51eb3-be73-4458-c087-927d2ebffafe"
      },
      "source": [
        "recommend_for('Adam_1','Home Alone',10)   #### Using 300 epochs"
      ],
      "execution_count": null,
      "outputs": [
        {
          "output_type": "execute_result",
          "data": {
            "text/plain": [
              "586                           Home Alone\n",
              "2124                  Addams Family, The\n",
              "2717                     Ghostbusters II\n",
              "736                              Twister\n",
              "2006                  Mask of Zorro, The\n",
              "2054            Honey, I Shrunk the Kids\n",
              "4571    Bill & Ted's Excellent Adventure\n",
              "733                            Rock, The\n",
              "185                             Net, The\n",
              "3253                       Wayne's World\n",
              "Name: title, dtype: object"
            ]
          },
          "metadata": {
            "tags": []
          },
          "execution_count": 43
        }
      ]
    }
  ]
}