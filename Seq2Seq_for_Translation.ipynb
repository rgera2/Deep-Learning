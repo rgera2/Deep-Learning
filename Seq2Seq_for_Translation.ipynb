{
  "nbformat": 4,
  "nbformat_minor": 0,
  "metadata": {
    "colab": {
      "name": "Q2-Seq2Seq for Translation",
      "provenance": [],
      "collapsed_sections": []
    },
    "kernelspec": {
      "name": "python3",
      "display_name": "Python 3"
    },
    "accelerator": "GPU"
  },
  "cells": [
    {
      "cell_type": "markdown",
      "metadata": {
        "id": "2SwxyACuThZD"
      },
      "source": [
        "# Assignment 3\n",
        "\n",
        "\n",
        "\n",
        "*   Babandeep Singh\n",
        "*   Robin Beura\n",
        "*   Rahul Gera\n",
        "*   Sanghamitra Muhuri\n",
        "*   Yash Patel\n"
      ]
    },
    {
      "cell_type": "code",
      "metadata": {
        "id": "3Sm3VMXyodzK",
        "colab": {
          "base_uri": "https://localhost:8080/",
          "height": 35
        },
        "outputId": "9b3f004a-84a5-477e-89bc-f23b4e31ccc5"
      },
      "source": [
        "import os\n",
        "from google.colab import drive\n",
        "drive.mount('/content/drive')\n",
        "os.chdir('/content/drive/Shared drives/IDS 576/Assignment 3')"
      ],
      "execution_count": null,
      "outputs": [
        {
          "output_type": "stream",
          "text": [
            "Mounted at /content/drive\n"
          ],
          "name": "stdout"
        }
      ]
    },
    {
      "cell_type": "code",
      "metadata": {
        "id": "_af8RmULtjLE"
      },
      "source": [
        "dir = os.getcwd()"
      ],
      "execution_count": null,
      "outputs": []
    },
    {
      "cell_type": "code",
      "metadata": {
        "id": "PeJAfrEbowJc"
      },
      "source": [
        "# pip install pytorch-nlp\n",
        "from io import open\n",
        "import unicodedata\n",
        "import string\n",
        "import re\n",
        "import random\n",
        "\n",
        "import torch\n",
        "import torch.nn as nn\n",
        "from torch import optim\n",
        "import torch.nn.functional as F\n",
        "\n",
        "device = torch.device(\"cuda\" if torch.cuda.is_available() else \"cpu\")"
      ],
      "execution_count": null,
      "outputs": []
    },
    {
      "cell_type": "markdown",
      "metadata": {
        "id": "o-FhV3QH-wvG"
      },
      "source": [
        "####Data Loading "
      ]
    },
    {
      "cell_type": "code",
      "metadata": {
        "id": "KKKIUDf7pD46"
      },
      "source": [
        "# Representing words as vectors\n",
        "SOS_token = 0\n",
        "EOS_token = 1\n",
        "\n",
        "\"\"\"using class - Lang which has word → index (word2index) and index → word (index2word) dictionaries\n",
        "and count of each word word2count to use to later replace rare words.\n",
        "\"\"\"\n",
        "class Lang:\n",
        "  \n",
        "    def __init__(self, name):\n",
        "        self.name = name\n",
        "        self.word2index = {}\n",
        "        self.word2count = {}\n",
        "        self.index2word = {0: \"SOS\", 1: \"EOS\"}\n",
        "        self.n_words = 2  # Count SOS and EOS\n",
        "\n",
        "    def addSentence(self, sentence):\n",
        "        for word in sentence.split(' '):\n",
        "            self.addWord(word)\n",
        "\n",
        "    def addWord(self, word):\n",
        "        if word not in self.word2index:\n",
        "            self.word2index[word] = self.n_words\n",
        "            self.word2count[word] = 1\n",
        "            self.index2word[self.n_words] = word\n",
        "            self.n_words += 1\n",
        "        else:\n",
        "            self.word2count[word] += 1"
      ],
      "execution_count": null,
      "outputs": []
    },
    {
      "cell_type": "code",
      "metadata": {
        "id": "cw10r-GQqXkv"
      },
      "source": [
        "def unicodeToAscii(s):\n",
        "    return ''.join(\n",
        "        c for c in unicodedata.normalize('NFD', s)\n",
        "        if unicodedata.category(c) != 'Mn'\n",
        "    )\n",
        "\n",
        "# Lowercase, trim, and remove non-letter characters\n",
        "def normalizeString(s):\n",
        "    s = s.lower().strip()    # lowercase for consistency\n",
        "    s = re.sub(r\"([.!?])\", r\" \\1\", s)    # replacing punctuations with first matched group\n",
        "    return s"
      ],
      "execution_count": null,
      "outputs": []
    },
    {
      "cell_type": "markdown",
      "metadata": {
        "id": "bIp0o3aaD5x1"
      },
      "source": [
        "Reading data from hin-eng.zip"
      ]
    },
    {
      "cell_type": "code",
      "metadata": {
        "id": "uxXi8jrWza6s"
      },
      "source": [
        "def readLangs(lang1, lang2, reverse=False):\n",
        "    print(\"Reading lines...\")\n",
        "\n",
        "    # Read the file and split into lines\n",
        "    lines = open(dir+'/.data/hin.txt', encoding='utf-8').read().strip().split('\\n')\n",
        "\n",
        "    # Split every line into pairs and normalize\n",
        "    pairs = [[normalizeString(s) for s in l.split('\\t')][:-1] for l in lines]\n",
        "\n",
        "    # Reverse pairs, make Lang instances\n",
        "    if reverse:\n",
        "        pairs = [list(reversed(p)) for p in pairs]\n",
        "        input_lang = Lang(lang2)\n",
        "        output_lang = Lang(lang1)\n",
        "    else:\n",
        "        input_lang = Lang(lang1)\n",
        "        output_lang = Lang(lang2)\n",
        "\n",
        "    return input_lang, output_lang, pairs"
      ],
      "execution_count": null,
      "outputs": []
    },
    {
      "cell_type": "code",
      "metadata": {
        "id": "B9bEorbg35y9"
      },
      "source": [
        "# Taking only sentences less than 40 words\n",
        "MAX_LENGTH = 40\n",
        " \n",
        "def filterPair(p):\n",
        "    return len(p[0].split(' ')) < MAX_LENGTH and \\\n",
        "        len(p[1].split(' ')) < MAX_LENGTH \n",
        " \n",
        "def filterPairs(pairs):\n",
        "    return [pair for pair in pairs if filterPair(pair)]"
      ],
      "execution_count": null,
      "outputs": []
    },
    {
      "cell_type": "code",
      "metadata": {
        "id": "4Xx7jvY-zwMs"
      },
      "source": [
        "def prepareData(lang1, lang2, reverse=False):\n",
        "    input_lang, output_lang, pairs = readLangs(lang1, lang2, reverse)\n",
        "    print(\"Read %s sentence pairs\" % len(pairs))\n",
        "    pairs = filterPairs(pairs)\n",
        "    print(\"Trimmed to %s sentence pairs\" % len(pairs))\n",
        "    print(\"Counting words...\")\n",
        "    for pair in pairs:\n",
        "        input_lang.addSentence(pair[0])\n",
        "        output_lang.addSentence(pair[1])\n",
        "    print(\"Counted words:\")\n",
        "    print(input_lang.name, input_lang.n_words)\n",
        "    print(output_lang.name, output_lang.n_words)\n",
        "    return input_lang, output_lang, pairs"
      ],
      "execution_count": null,
      "outputs": []
    },
    {
      "cell_type": "markdown",
      "metadata": {
        "id": "pBTG6ETOCiv6"
      },
      "source": [
        "####Sequence to Sequence Modelling:"
      ]
    },
    {
      "cell_type": "code",
      "metadata": {
        "id": "DI_14yTR9BRM"
      },
      "source": [
        "class EncoderRNN(nn.Module):\n",
        "    def __init__(self, input_size, hidden_size):\n",
        "        super(EncoderRNN, self).__init__()\n",
        "        self.hidden_size = hidden_size\n",
        "\n",
        "        self.embedding = nn.Embedding(input_size, hidden_size)\n",
        "        self.gru = nn.GRU(hidden_size, hidden_size)\n",
        "\n",
        "    def forward(self, input, hidden):\n",
        "        embedded = self.embedding(input).view(1, 1, -1)\n",
        "        output = embedded\n",
        "        output, hidden = self.gru(output, hidden)\n",
        "        return output, hidden\n",
        "\n",
        "    def initHidden(self):\n",
        "        return torch.zeros(1, 1, self.hidden_size, device=device)"
      ],
      "execution_count": null,
      "outputs": []
    },
    {
      "cell_type": "code",
      "metadata": {
        "id": "k8MQajmn9knm"
      },
      "source": [
        "class AttnDecoderRNN(nn.Module):\n",
        "    def __init__(self, hidden_size, output_size, dropout_p=0.1, max_length=MAX_LENGTH):\n",
        "        super(AttnDecoderRNN, self).__init__()\n",
        "        self.hidden_size = hidden_size\n",
        "        self.output_size = output_size\n",
        "        self.dropout_p = dropout_p\n",
        "        self.max_length = max_length\n",
        "\n",
        "        self.embedding = nn.Embedding(self.output_size, self.hidden_size)\n",
        "        self.attn = nn.Linear(self.hidden_size * 2, self.max_length)\n",
        "        self.attn_combine = nn.Linear(self.hidden_size * 2, self.hidden_size)\n",
        "        self.dropout = nn.Dropout(self.dropout_p)\n",
        "        self.gru = nn.GRU(self.hidden_size, self.hidden_size)\n",
        "        self.out = nn.Linear(self.hidden_size, self.output_size)\n",
        "\n",
        "    def forward(self, input, hidden, encoder_outputs):\n",
        "        embedded = self.embedding(input).view(1, 1, -1)\n",
        "        embedded = self.dropout(embedded)\n",
        "\n",
        "        attn_weights = F.softmax(\n",
        "            self.attn(torch.cat((embedded[0], hidden[0]), 1)), dim=1)\n",
        "        attn_applied = torch.bmm(attn_weights.unsqueeze(0),\n",
        "                                 encoder_outputs.unsqueeze(0))\n",
        "\n",
        "        output = torch.cat((embedded[0], attn_applied[0]), 1)\n",
        "        output = self.attn_combine(output).unsqueeze(0)\n",
        "\n",
        "        output = F.relu(output)\n",
        "        output, hidden = self.gru(output, hidden)\n",
        "\n",
        "        output = F.log_softmax(self.out(output[0]), dim=1)\n",
        "        return output, hidden, attn_weights\n",
        "\n",
        "    def initHidden(self):\n",
        "        return torch.zeros(1, 1, self.hidden_size, device=device)\n"
      ],
      "execution_count": null,
      "outputs": []
    },
    {
      "cell_type": "markdown",
      "metadata": {
        "id": "GKEqlPiXqU_h"
      },
      "source": [
        "Preparing Training Data"
      ]
    },
    {
      "cell_type": "code",
      "metadata": {
        "id": "PE29bJ4a9r4N"
      },
      "source": [
        "def indexesFromSentence(lang, sentence):\n",
        "    return [lang.word2index[word] for word in sentence.split(' ')]\n",
        "\n",
        "\n",
        "def tensorFromSentence(lang, sentence):\n",
        "    indexes = indexesFromSentence(lang, sentence)\n",
        "    indexes.append(EOS_token)\n",
        "    return torch.tensor(indexes, dtype=torch.long, device=device).view(-1, 1)\n",
        "\n",
        "\n",
        "def tensorsFromPair(pair):\n",
        "    input_tensor = tensorFromSentence(input_lang, pair[0])\n",
        "    target_tensor = tensorFromSentence(output_lang, pair[1])\n",
        "    return (input_tensor, target_tensor)"
      ],
      "execution_count": null,
      "outputs": []
    },
    {
      "cell_type": "markdown",
      "metadata": {
        "id": "hxb01YRYHTM0"
      },
      "source": [
        "Training the Model"
      ]
    },
    {
      "cell_type": "code",
      "metadata": {
        "id": "RIVfoXtBsakL"
      },
      "source": [
        "teacher_forcing_ratio = 0.5\n",
        "\n",
        "def train(input_tensor, target_tensor, encoder, decoder, encoder_optimizer, decoder_optimizer, criterion, max_length=MAX_LENGTH):\n",
        "    encoder_hidden = encoder.initHidden()\n",
        "    %matplotlib inline\n",
        "\n",
        "    encoder_optimizer.zero_grad()\n",
        "    decoder_optimizer.zero_grad()\n",
        "\n",
        "    input_length = input_tensor.size(0)\n",
        "    target_length = target_tensor.size(0)\n",
        "\n",
        "    encoder_outputs = torch.zeros(max_length, encoder.hidden_size, device=device)\n",
        "\n",
        "    loss = 0\n",
        "\n",
        "    for ei in range(input_length):\n",
        "        encoder_output, encoder_hidden = encoder(\n",
        "            input_tensor[ei], encoder_hidden)\n",
        "        encoder_outputs[ei] = encoder_output[0, 0]\n",
        "\n",
        "    decoder_input = torch.tensor([[SOS_token]], device=device)\n",
        "\n",
        "    decoder_hidden = encoder_hidden\n",
        "\n",
        "    use_teacher_forcing = True if random.random() < teacher_forcing_ratio else False\n",
        "\n",
        "    if use_teacher_forcing:\n",
        "        # Teacher forcing: Feed the target as the next input\n",
        "        for di in range(target_length):\n",
        "            decoder_output, decoder_hidden, decoder_attention = decoder(\n",
        "                decoder_input, decoder_hidden, encoder_outputs)\n",
        "            loss += criterion(decoder_output, target_tensor[di])\n",
        "            decoder_input = target_tensor[di]  # Teacher forcing\n",
        "\n",
        "    else:\n",
        "        # Without teacher forcing: use its own predictions as the next input\n",
        "        for di in range(target_length):\n",
        "            decoder_output, decoder_hidden, decoder_attention = decoder(\n",
        "                decoder_input, decoder_hidden, encoder_outputs)\n",
        "            topv, topi = decoder_output.topk(1)\n",
        "            decoder_input = topi.squeeze().detach()  # detach from history as input\n",
        "\n",
        "            loss += criterion(decoder_output, target_tensor[di])\n",
        "            if decoder_input.item() == EOS_token:\n",
        "                break\n",
        "\n",
        "    loss.backward()\n",
        "\n",
        "    encoder_optimizer.step()\n",
        "    decoder_optimizer.step()\n",
        "\n",
        "    return loss.item() / target_length"
      ],
      "execution_count": null,
      "outputs": []
    },
    {
      "cell_type": "markdown",
      "metadata": {
        "id": "k06dFFCYHiPq"
      },
      "source": [
        "Helper function to track time and progress"
      ]
    },
    {
      "cell_type": "code",
      "metadata": {
        "id": "cHVo024nsjGs"
      },
      "source": [
        "import time\n",
        "import math\n",
        "\n",
        "\n",
        "def asMinutes(s):\n",
        "    m = math.floor(s / 60)\n",
        "    s -= m * 60\n",
        "    return '%dm %ds' % (m, s)\n",
        "\n",
        "\n",
        "def timeSince(since, percent):\n",
        "    now = time.time()\n",
        "    s = now - since\n",
        "    es = s / (percent)\n",
        "    rs = es - s\n",
        "    return '%s (- %s)' % (asMinutes(s), asMinutes(rs))"
      ],
      "execution_count": null,
      "outputs": []
    },
    {
      "cell_type": "code",
      "metadata": {
        "id": "yWwwa1x0smr2"
      },
      "source": [
        "def trainIters(encoder, decoder, n_iters, print_every=1000, plot_every=100, learning_rate=0.01):\n",
        "    start = time.time()\n",
        "    plot_losses = []\n",
        "    print_loss_total = 0  # Reset every print_every\n",
        "    plot_loss_total = 0  # Reset every plot_every\n",
        "\n",
        "    encoder_optimizer = optim.SGD(encoder.parameters(), lr=learning_rate)\n",
        "    decoder_optimizer = optim.SGD(decoder.parameters(), lr=learning_rate)\n",
        "    training_pairs = [tensorsFromPair(random.choice(pairs))\n",
        "                      for i in range(n_iters)]\n",
        "    criterion = nn.NLLLoss()\n",
        "\n",
        "    for iter in range(1, n_iters + 1):\n",
        "        training_pair = training_pairs[iter - 1]\n",
        "        input_tensor = training_pair[0]\n",
        "        target_tensor = training_pair[1]\n",
        "\n",
        "        loss = train(input_tensor, target_tensor, encoder,\n",
        "                     decoder, encoder_optimizer, decoder_optimizer, criterion)\n",
        "        print_loss_total += loss\n",
        "        plot_loss_total += loss\n",
        "\n",
        "        if iter % print_every == 0:\n",
        "            print_loss_avg = print_loss_total / print_every\n",
        "            print_loss_total = 0\n",
        "            print('%s (%d %d%%) %.4f' % (timeSince(start, iter / n_iters),\n",
        "                                         iter, iter / n_iters * 100, print_loss_avg))\n",
        "\n",
        "        if iter % plot_every == 0:\n",
        "            plot_loss_avg = plot_loss_total / plot_every\n",
        "            plot_losses.append(plot_loss_avg)\n",
        "            plot_loss_total = 0\n",
        "\n",
        "    showPlot(plot_losses)"
      ],
      "execution_count": null,
      "outputs": []
    },
    {
      "cell_type": "code",
      "metadata": {
        "id": "GkDuYVKesweV"
      },
      "source": [
        "#Function for plotting results\n",
        "import matplotlib.pyplot as plt\n",
        "plt.switch_backend('agg')\n",
        "import matplotlib.ticker as ticker\n",
        "import warnings\n",
        "warnings.filterwarnings(\"ignore\", module=\"matplotlib\")\n",
        "import numpy as np\n",
        "\n",
        "def showPlot(points):\n",
        "    plt.figure()\n",
        "    fig, ax = plt.subplots()\n",
        "    # this locator puts ticks at regular intervals\n",
        "    loc = ticker.MultipleLocator(base=0.2)\n",
        "    ax.yaxis.set_major_locator(loc)\n",
        "    plt.plot(points)"
      ],
      "execution_count": null,
      "outputs": []
    },
    {
      "cell_type": "markdown",
      "metadata": {
        "id": "Aa5FnzYPIJ4j"
      },
      "source": [
        "####Evaluation"
      ]
    },
    {
      "cell_type": "code",
      "metadata": {
        "id": "tj8vA-24swg4"
      },
      "source": [
        "def evaluate(encoder, decoder, sentence, max_length=MAX_LENGTH):\n",
        "    with torch.no_grad():\n",
        "        input_tensor = tensorFromSentence(input_lang, sentence)\n",
        "        input_length = input_tensor.size()[0]\n",
        "        encoder_hidden = encoder.initHidden()\n",
        "\n",
        "        encoder_outputs = torch.zeros(max_length, encoder.hidden_size, device=device)\n",
        "\n",
        "        for ei in range(input_length):\n",
        "            encoder_output, encoder_hidden = encoder(input_tensor[ei],\n",
        "                                                     encoder_hidden)\n",
        "            encoder_outputs[ei] += encoder_output[0, 0]\n",
        "\n",
        "        decoder_input = torch.tensor([[SOS_token]], device=device)  # SOS\n",
        "\n",
        "        decoder_hidden = encoder_hidden\n",
        "\n",
        "        decoded_words = []\n",
        "        decoder_attentions = torch.zeros(max_length, max_length)\n",
        "\n",
        "        for di in range(max_length):\n",
        "            decoder_output, decoder_hidden, decoder_attention = decoder(\n",
        "                decoder_input, decoder_hidden, encoder_outputs)\n",
        "            decoder_attentions[di] = decoder_attention.data\n",
        "            topv, topi = decoder_output.data.topk(1)\n",
        "            if topi.item() == EOS_token:\n",
        "                decoded_words.append('')\n",
        "                break\n",
        "            else:\n",
        "                decoded_words.append(output_lang.index2word[topi.item()])\n",
        "\n",
        "            decoder_input = topi.squeeze().detach()\n",
        "\n",
        "        return decoded_words, decoder_attentions[:di + 1]"
      ],
      "execution_count": null,
      "outputs": []
    },
    {
      "cell_type": "code",
      "metadata": {
        "id": "yzsveFiqs4DY"
      },
      "source": [
        "def evaluateRandomly(encoder, decoder, n=10):\n",
        "    from nltk.translate.bleu_score import sentence_bleu\n",
        "    \n",
        "    for i in range(n):\n",
        "        pair = random.choice(pairs)\n",
        "        print('Input: ', pair[0])\n",
        "        print('Output: ', pair[1])\n",
        "        output_words, attentions = evaluate(encoder, decoder, pair[0])\n",
        "        output_sentence = ' '.join(output_words)\n",
        "        print('Predicted: ', output_sentence)\n",
        "        act = pair[1].split()\n",
        "        pred = output_sentence.split()\n",
        "        print('Cumulative 1-gram: %f' % sentence_bleu([act], pred, weights=(1, 0, 0, 0)))\n",
        "        print('Cumulative 2-gram: %f' % sentence_bleu([act], pred, weights=(0.5, 0.5, 0, 0)))\n",
        "        print('Cumulative 3-gram: %f' % sentence_bleu([act], pred, weights=(0.33, 0.33, 0.33, 0)))\n",
        "        print('Cumulative 4-gram: %f' % sentence_bleu([act], pred, weights=(0.25, 0.25, 0.25, 0.25)))\n",
        "        score = sentence_bleu([act], pred)   ##### using BLEU here\n",
        "        print(score)\n",
        "        print('')"
      ],
      "execution_count": null,
      "outputs": []
    },
    {
      "cell_type": "markdown",
      "metadata": {
        "id": "j7DXySN4Cl7m"
      },
      "source": [
        "Helper Functions end here"
      ]
    },
    {
      "cell_type": "markdown",
      "metadata": {
        "id": "ULK71IftCgxl"
      },
      "source": [
        "###Training and Evaluation"
      ]
    },
    {
      "cell_type": "markdown",
      "metadata": {
        "id": "_PdYGwiGJ79A"
      },
      "source": [
        "####**MODEL 1** Hindi to English"
      ]
    },
    {
      "cell_type": "code",
      "metadata": {
        "id": "BYXQ1lYsa0tR",
        "colab": {
          "base_uri": "https://localhost:8080/",
          "height": 159
        },
        "outputId": "9bff1ab2-80b2-47ca-d2bf-6e0cc5260423"
      },
      "source": [
        "# in case we want to reverse i/o pair\n",
        "input_lang, output_lang, pairs = prepareData('eng', 'hin', True)  # True indicates Hindi to English translation\n",
        "print(random.choice(pairs))"
      ],
      "execution_count": null,
      "outputs": [
        {
          "output_type": "stream",
          "text": [
            "Reading lines...\n",
            "Read 2773 sentence pairs\n",
            "Trimmed to 2773 sentence pairs\n",
            "Counting words...\n",
            "Counted words:\n",
            "hin 3055\n",
            "eng 2495\n",
            "['घटना कब हुई ?', 'when did the accident happen ?']\n"
          ],
          "name": "stdout"
        }
      ]
    },
    {
      "cell_type": "code",
      "metadata": {
        "id": "Nzt8ILuhswkO",
        "colab": {
          "base_uri": "https://localhost:8080/",
          "height": 816
        },
        "outputId": "5091c61b-1037-4a6e-cc57-8da66638c4ce"
      },
      "source": [
        "hidden_size = 256\n",
        "encoder1 = EncoderRNN(input_lang.n_words, hidden_size).to(device)\n",
        "attn_decoder1 = AttnDecoderRNN(hidden_size, output_lang.n_words, dropout_p=0.1).to(device)\n",
        "\n",
        "trainIters(encoder1, attn_decoder1, 60000, print_every=2000)   #### 60000,2000"
      ],
      "execution_count": null,
      "outputs": [
        {
          "output_type": "stream",
          "text": [
            "0m 41s (- 19m 52s) (2000 3%) 4.5267\n",
            "1m 19s (- 18m 32s) (4000 6%) 4.2157\n",
            "1m 57s (- 17m 39s) (6000 10%) 3.8836\n",
            "2m 36s (- 16m 56s) (8000 13%) 3.6928\n",
            "3m 14s (- 16m 14s) (10000 16%) 3.4281\n",
            "3m 54s (- 15m 36s) (12000 20%) 3.1464\n",
            "4m 33s (- 14m 59s) (14000 23%) 2.9512\n",
            "5m 13s (- 14m 23s) (16000 26%) 2.6758\n",
            "5m 53s (- 13m 45s) (18000 30%) 2.4215\n",
            "6m 33s (- 13m 6s) (20000 33%) 2.1819\n",
            "7m 12s (- 12m 27s) (22000 36%) 2.0042\n",
            "7m 51s (- 11m 47s) (24000 40%) 1.7159\n",
            "8m 31s (- 11m 9s) (26000 43%) 1.6124\n",
            "9m 11s (- 10m 30s) (28000 46%) 1.4179\n",
            "9m 51s (- 9m 51s) (30000 50%) 1.2407\n",
            "10m 30s (- 9m 12s) (32000 53%) 1.0681\n",
            "11m 10s (- 8m 32s) (34000 56%) 0.9223\n",
            "11m 50s (- 7m 53s) (36000 60%) 0.8358\n",
            "12m 30s (- 7m 14s) (38000 63%) 0.7199\n",
            "13m 10s (- 6m 35s) (40000 66%) 0.6236\n",
            "13m 51s (- 5m 56s) (42000 70%) 0.5474\n",
            "14m 31s (- 5m 16s) (44000 73%) 0.4220\n",
            "15m 11s (- 4m 37s) (46000 76%) 0.4027\n",
            "15m 51s (- 3m 57s) (48000 80%) 0.3485\n",
            "16m 32s (- 3m 18s) (50000 83%) 0.3022\n",
            "17m 12s (- 2m 38s) (52000 86%) 0.2224\n",
            "17m 53s (- 1m 59s) (54000 90%) 0.2066\n",
            "18m 33s (- 1m 19s) (56000 93%) 0.2050\n",
            "19m 14s (- 0m 39s) (58000 96%) 0.1717\n",
            "19m 55s (- 0m 0s) (60000 100%) 0.1327\n"
          ],
          "name": "stdout"
        },
        {
          "output_type": "display_data",
          "data": {
            "text/plain": [
              "<Figure size 432x288 with 0 Axes>"
            ]
          },
          "metadata": {
            "tags": []
          }
        },
        {
          "output_type": "display_data",
          "data": {
            "image/png": "[encoded data removed]",
            "text/plain": [
              "<Figure size 432x288 with 1 Axes>"
            ]
          },
          "metadata": {
            "tags": [],
            "needs_background": "light"
          }
        }
      ]
    },
    {
      "cell_type": "code",
      "metadata": {
        "id": "k9DW-3RvvTso",
        "colab": {
          "base_uri": "https://localhost:8080/",
          "height": 1000
        },
        "outputId": "75f9b33e-31ac-416d-e456-34f346b85326"
      },
      "source": [
        "evaluateRandomly(encoder1, attn_decoder1)"
      ],
      "execution_count": null,
      "outputs": [
        {
          "output_type": "stream",
          "text": [
            "Input:  तुम्हे बस उसकी सलाह के मुताबिक काम करना होगा।\n",
            "Output:  all you have to do is follow his advice .\n",
            "Predicted:  all you have to do is follow his advice . \n",
            "Cumulative 1-gram: 1.000000\n",
            "Cumulative 2-gram: 1.000000\n",
            "Cumulative 3-gram: 1.000000\n",
            "Cumulative 4-gram: 1.000000\n",
            "1.0\n",
            "\n",
            "Input:  उसकी तीन बेटियाँ हैं।\n",
            "Output:  he has three daughters .\n",
            "Predicted:  he has three daughters . \n",
            "Cumulative 1-gram: 1.000000\n",
            "Cumulative 2-gram: 1.000000\n",
            "Cumulative 3-gram: 1.000000\n",
            "Cumulative 4-gram: 1.000000\n",
            "1.0\n",
            "\n",
            "Input:  तुम हमारे साथ आओगे क्या ?\n",
            "Output:  will you go with us ?\n",
            "Predicted:  will you go with us ? \n",
            "Cumulative 1-gram: 1.000000\n",
            "Cumulative 2-gram: 1.000000\n",
            "Cumulative 3-gram: 1.000000\n",
            "Cumulative 4-gram: 1.000000\n",
            "1.0\n",
            "\n",
            "Input:  मेरे पास ज़्यादा समय नहीं है।\n",
            "Output:  i do not have much time .\n",
            "Predicted:  i do not have much time . \n",
            "Cumulative 1-gram: 1.000000\n",
            "Cumulative 2-gram: 1.000000\n",
            "Cumulative 3-gram: 1.000000\n",
            "Cumulative 4-gram: 1.000000\n",
            "1.0\n",
            "\n",
            "Input:  क़ैदी को रिहा कर दिया गया।\n",
            "Output:  the prisoner was released .\n",
            "Predicted:  the prisoner was released . \n",
            "Cumulative 1-gram: 1.000000\n",
            "Cumulative 2-gram: 1.000000\n",
            "Cumulative 3-gram: 1.000000\n",
            "Cumulative 4-gram: 1.000000\n",
            "1.0\n",
            "\n",
            "Input:  तुम्हे इसे राज़ रखना चहिए था।\n",
            "Output:  you should have kept it secret .\n",
            "Predicted:  you should have kept it secret . \n",
            "Cumulative 1-gram: 1.000000\n",
            "Cumulative 2-gram: 1.000000\n",
            "Cumulative 3-gram: 1.000000\n",
            "Cumulative 4-gram: 1.000000\n",
            "1.0\n",
            "\n",
            "Input:  क्या आप लोग ठीक हो ?\n",
            "Output:  are you guys ok ?\n",
            "Predicted:  are you guys ok ? \n",
            "Cumulative 1-gram: 1.000000\n",
            "Cumulative 2-gram: 1.000000\n",
            "Cumulative 3-gram: 1.000000\n",
            "Cumulative 4-gram: 1.000000\n",
            "1.0\n",
            "\n",
            "Input:  मुझे आशा है कि वह निराश नहीं होगा।\n",
            "Output:  i hope he won't be disappointed .\n",
            "Predicted:  i hope he won't be disappointed . \n",
            "Cumulative 1-gram: 1.000000\n",
            "Cumulative 2-gram: 1.000000\n",
            "Cumulative 3-gram: 1.000000\n",
            "Cumulative 4-gram: 1.000000\n",
            "1.0\n",
            "\n",
            "Input:  मोर की पूंछ के पंख रंग-बिरंगी होते हैं।\n",
            "Output:  the male peacock has colorful tail feathers .\n",
            "Predicted:  the male peacock has colorful tail feathers . \n",
            "Cumulative 1-gram: 1.000000\n",
            "Cumulative 2-gram: 1.000000\n",
            "Cumulative 3-gram: 1.000000\n",
            "Cumulative 4-gram: 1.000000\n",
            "1.0\n",
            "\n",
            "Input:  मैंने प्रथम पुरस्कार जीत लिया।\n",
            "Output:  i was able to win the first prize .\n",
            "Predicted:  i was able to win the first prize . \n",
            "Cumulative 1-gram: 1.000000\n",
            "Cumulative 2-gram: 1.000000\n",
            "Cumulative 3-gram: 1.000000\n",
            "Cumulative 4-gram: 1.000000\n",
            "1.0\n",
            "\n"
          ],
          "name": "stdout"
        }
      ]
    },
    {
      "cell_type": "markdown",
      "metadata": {
        "id": "NVyy_M3XJIsl"
      },
      "source": [
        "Visualizing Attention output in matrix form with columns being input and rows being output steps:"
      ]
    },
    {
      "cell_type": "code",
      "metadata": {
        "id": "2yEll4tk5EmB",
        "colab": {
          "base_uri": "https://localhost:8080/",
          "height": 203
        },
        "outputId": "ac8296f2-2d85-480d-cd01-fbe71502f8cf"
      },
      "source": [
        "output_words, attentions = evaluate(\n",
        "    encoder1, attn_decoder1, \"कैसा चल रहा है ?\")\n",
        "plt.matshow(attentions.numpy())"
      ],
      "execution_count": null,
      "outputs": [
        {
          "output_type": "execute_result",
          "data": {
            "text/plain": [
              "<matplotlib.image.AxesImage at 0x7ff7a4676da0>"
            ]
          },
          "metadata": {
            "tags": []
          },
          "execution_count": 187
        },
        {
          "output_type": "display_data",
          "data": {
            "image/png": "[encoded data removed]",
            "text/plain": [
              "<Figure size 1152x172.8 with 1 Axes>"
            ]
          },
          "metadata": {
            "tags": [],
            "needs_background": "light"
          }
        }
      ]
    },
    {
      "cell_type": "code",
      "metadata": {
        "id": "XUgatbf-5U7_"
      },
      "source": [
        "def showAttention(input_sentence, output_words, attentions):\n",
        "    # Set up figure with colorbar\n",
        "    fig = plt.figure()\n",
        "    ax = fig.add_subplot(111)\n",
        "    cax = ax.matshow(attentions.numpy(), cmap='bone')\n",
        "    fig.colorbar(cax)\n",
        "\n",
        "    # Set up axes\n",
        "    ax.set_xticklabels([''] + input_sentence.split(' ') +\n",
        "                       ['<EOS>'], rotation=90)\n",
        "    ax.set_yticklabels([''] + output_words)\n",
        "\n",
        "    # Show label at every tick\n",
        "    ax.xaxis.set_major_locator(ticker.MultipleLocator(1))\n",
        "    ax.yaxis.set_major_locator(ticker.MultipleLocator(1))\n",
        "    \n",
        "    plt.show()\n",
        "\n",
        "\n",
        "def evaluateAndShowAttention(input_sentence):\n",
        "    output_words, attentions = evaluate(\n",
        "        encoder1, attn_decoder1, input_sentence)\n",
        "    print('input =', input_sentence)\n",
        "    print('output =', ' '.join(output_words))\n",
        "    showAttention(input_sentence, output_words, attentions)\n",
        "\n",
        "def evaluateAndShow1(input_sentence):\n",
        "    output_words, attentions = evaluate(\n",
        "        encoder1, attn_decoder1, input_sentence)\n",
        "    print('input =', input_sentence)\n",
        "    print('output =', ' '.join(output_words))"
      ],
      "execution_count": null,
      "outputs": []
    },
    {
      "cell_type": "code",
      "metadata": {
        "id": "kv9-1TxWJXk0",
        "colab": {
          "base_uri": "https://localhost:8080/",
          "height": 283
        },
        "outputId": "bcbf1179-0054-4ae5-9d42-c6c789c3263a"
      },
      "source": [
        "# Hindi to English test sentence\n",
        "evaluateAndShowAttention(\"कैसा चल रहा है ?\")"
      ],
      "execution_count": null,
      "outputs": [
        {
          "output_type": "stream",
          "text": [
            "input = कैसा चल रहा है ?\n",
            "output = how is it going ? \n"
          ],
          "name": "stdout"
        },
        {
          "output_type": "display_data",
          "data": {
            "image/png": "[encoded data removed]",
            "text/plain": [
              "<Figure size 432x288 with 2 Axes>"
            ]
          },
          "metadata": {
            "tags": [],
            "needs_background": "light"
          }
        }
      ]
    },
    {
      "cell_type": "markdown",
      "metadata": {
        "id": "WiYYZPHQKJdu"
      },
      "source": [
        "####**MODEL 2** English to Hindi\n"
      ]
    },
    {
      "cell_type": "code",
      "metadata": {
        "id": "ufWdDsyCKFxN",
        "colab": {
          "base_uri": "https://localhost:8080/",
          "height": 158
        },
        "outputId": "3298b2d0-4b7f-4b2a-a78f-a72c59f94d47"
      },
      "source": [
        "input_lang, output_lang, pairs = prepareData('eng', 'hin', False)\n",
        "print(random.choice(pairs))"
      ],
      "execution_count": null,
      "outputs": [
        {
          "output_type": "stream",
          "text": [
            "Reading lines...\n",
            "Read 2773 sentence pairs\n",
            "Trimmed to 2773 sentence pairs\n",
            "Counting words...\n",
            "Counted words:\n",
            "eng 2495\n",
            "hin 3055\n",
            "['have you ever been to africa ?', 'आप कभी अफ़्रीका गए हुए हैं क्या ?']\n"
          ],
          "name": "stdout"
        }
      ]
    },
    {
      "cell_type": "markdown",
      "metadata": {
        "id": "zCUAg0TuK2mP"
      },
      "source": [
        "#####**Vanilla Model**"
      ]
    },
    {
      "cell_type": "code",
      "metadata": {
        "id": "rDnVOnYXKF0h",
        "colab": {
          "base_uri": "https://localhost:8080/",
          "height": 810
        },
        "outputId": "3a802b35-d4c4-4dd9-aec5-bcd30f4e176c"
      },
      "source": [
        "hidden_size = 256\n",
        "encoder1 = EncoderRNN(input_lang.n_words, hidden_size).to(device)\n",
        "attn_decoder1 = AttnDecoderRNN(hidden_size, output_lang.n_words, dropout_p=0.1).to(device)\n",
        "\n",
        "trainIters(encoder1, attn_decoder1, 60000, print_every=2000)  ### 60000,2000"
      ],
      "execution_count": null,
      "outputs": [
        {
          "output_type": "stream",
          "text": [
            "0m 41s (- 20m 4s) (2000 3%) 4.9585\n",
            "1m 21s (- 18m 54s) (4000 6%) 4.8311\n",
            "2m 0s (- 18m 8s) (6000 10%) 4.4881\n",
            "2m 40s (- 17m 24s) (8000 13%) 4.1107\n",
            "3m 21s (- 16m 46s) (10000 16%) 3.8200\n",
            "4m 2s (- 16m 8s) (12000 20%) 3.4662\n",
            "4m 43s (- 15m 32s) (14000 23%) 3.2142\n",
            "5m 25s (- 14m 53s) (16000 26%) 2.9618\n",
            "6m 6s (- 14m 16s) (18000 30%) 2.5800\n",
            "6m 49s (- 13m 38s) (20000 33%) 2.3696\n",
            "7m 31s (- 12m 59s) (22000 36%) 2.0857\n",
            "8m 13s (- 12m 20s) (24000 40%) 1.9117\n",
            "8m 56s (- 11m 41s) (26000 43%) 1.7156\n",
            "9m 39s (- 11m 1s) (28000 46%) 1.5299\n",
            "10m 21s (- 10m 21s) (30000 50%) 1.3374\n",
            "11m 4s (- 9m 41s) (32000 53%) 1.2703\n",
            "11m 46s (- 9m 0s) (34000 56%) 1.0165\n",
            "12m 27s (- 8m 18s) (36000 60%) 0.9769\n",
            "13m 8s (- 7m 36s) (38000 63%) 0.8652\n",
            "13m 49s (- 6m 54s) (40000 66%) 0.7530\n",
            "14m 30s (- 6m 12s) (42000 70%) 0.6478\n",
            "15m 11s (- 5m 31s) (44000 73%) 0.5856\n",
            "15m 51s (- 4m 49s) (46000 76%) 0.5223\n",
            "16m 32s (- 4m 8s) (48000 80%) 0.4491\n",
            "17m 12s (- 3m 26s) (50000 83%) 0.4001\n",
            "17m 53s (- 2m 45s) (52000 86%) 0.3539\n",
            "18m 34s (- 2m 3s) (54000 90%) 0.3305\n",
            "19m 15s (- 1m 22s) (56000 93%) 0.3004\n",
            "19m 56s (- 0m 41s) (58000 96%) 0.2810\n",
            "20m 37s (- 0m 0s) (60000 100%) 0.2442\n"
          ],
          "name": "stdout"
        },
        {
          "output_type": "display_data",
          "data": {
            "text/plain": [
              "<Figure size 432x288 with 0 Axes>"
            ]
          },
          "metadata": {
            "tags": []
          }
        },
        {
          "output_type": "display_data",
          "data": {
            "image/png": "[encoded data removed]",
            "text/plain": [
              "<Figure size 432x288 with 1 Axes>"
            ]
          },
          "metadata": {
            "tags": [],
            "needs_background": "light"
          }
        }
      ]
    },
    {
      "cell_type": "code",
      "metadata": {
        "id": "Ogr4bWroKUwf",
        "colab": {
          "base_uri": "https://localhost:8080/",
          "height": 1000
        },
        "outputId": "4fe1187e-2339-4c7f-b6ef-f6bb0c48cfde"
      },
      "source": [
        "evaluateRandomly(encoder1, attn_decoder1)"
      ],
      "execution_count": null,
      "outputs": [
        {
          "output_type": "stream",
          "text": [
            "Input:  every man should learn how to cook .\n",
            "Output:  हर आदमी को खाना बनाना सीखना चाहिए।\n",
            "Predicted:  हर आदमी को खाना बनाना सीखना चाहिए। \n",
            "Cumulative 1-gram: 1.000000\n",
            "Cumulative 2-gram: 1.000000\n",
            "Cumulative 3-gram: 1.000000\n",
            "Cumulative 4-gram: 1.000000\n",
            "1.0\n",
            "\n",
            "Input:  i never liked biology .\n",
            "Output:  मुझे जीव विज्ञान कभी भी पसंद नहीं था।\n",
            "Predicted:  मुझे जीव विज्ञान कभी भी पसंद नहीं था। \n",
            "Cumulative 1-gram: 1.000000\n",
            "Cumulative 2-gram: 1.000000\n",
            "Cumulative 3-gram: 1.000000\n",
            "Cumulative 4-gram: 1.000000\n",
            "1.0\n",
            "\n",
            "Input:  he's always dissatisfied .\n",
            "Output:  वह कभी भी संतुष्ट नहीं होता।\n",
            "Predicted:  वह कभी भी संतुष्ट नहीं होता। \n",
            "Cumulative 1-gram: 1.000000\n",
            "Cumulative 2-gram: 1.000000\n",
            "Cumulative 3-gram: 1.000000\n",
            "Cumulative 4-gram: 1.000000\n",
            "1.0\n",
            "\n",
            "Input:  she likes her school a lot .\n",
            "Output:  उसे अपना स्कूल बहुत पसंद है।\n",
            "Predicted:  उसे अपना स्कूल बहुत पसंद है। \n",
            "Cumulative 1-gram: 1.000000\n",
            "Cumulative 2-gram: 1.000000\n",
            "Cumulative 3-gram: 1.000000\n",
            "Cumulative 4-gram: 1.000000\n",
            "1.0\n",
            "\n",
            "Input:  that's my fault .\n",
            "Output:  वह मेरी गलती है।\n",
            "Predicted:  वह मेरी गलती है। \n",
            "Cumulative 1-gram: 1.000000\n",
            "Cumulative 2-gram: 1.000000\n",
            "Cumulative 3-gram: 1.000000\n",
            "Cumulative 4-gram: 1.000000\n",
            "1.0\n",
            "\n",
            "Input:  these questions are easy to answer .\n",
            "Output:  इन सवालों का जवाब देना आसान है।\n",
            "Predicted:  ये प्रश्न सरल हैं। \n",
            "Cumulative 1-gram: 0.000000\n",
            "Cumulative 2-gram: 0.000000\n",
            "Cumulative 3-gram: 0.000000\n",
            "Cumulative 4-gram: 0.000000\n",
            "0\n",
            "\n",
            "Input:  the children were well looked after .\n",
            "Output:  बच्चों की देखभाल अच्छी तरह से की जाती थी।\n",
            "Predicted:  बच्चों की देखभाल अच्छी तरह से की जाती थी। \n",
            "Cumulative 1-gram: 1.000000\n",
            "Cumulative 2-gram: 1.000000\n",
            "Cumulative 3-gram: 1.000000\n",
            "Cumulative 4-gram: 1.000000\n",
            "1.0\n",
            "\n",
            "Input:  i am counting on you .\n",
            "Output:  मैं तुमपर भरोसा कर रहा हूँ।\n",
            "Predicted:  मैं तुमपर भरोसा कर रहा हूँ। \n",
            "Cumulative 1-gram: 1.000000\n",
            "Cumulative 2-gram: 1.000000\n",
            "Cumulative 3-gram: 1.000000\n",
            "Cumulative 4-gram: 1.000000\n",
            "1.0\n",
            "\n",
            "Input:  how's your job going ?\n",
            "Output:  तुम्हारी नौकरी कैसी चल रही है ?\n",
            "Predicted:  तुम्हारी नौकरी कैसी चल रही है ? \n",
            "Cumulative 1-gram: 1.000000\n",
            "Cumulative 2-gram: 1.000000\n",
            "Cumulative 3-gram: 1.000000\n",
            "Cumulative 4-gram: 1.000000\n",
            "1.0\n",
            "\n",
            "Input:  her father is japanese .\n",
            "Output:  उसके पिता जापानी हैं।\n",
            "Predicted:  उसके पिता जापानी हैं। \n",
            "Cumulative 1-gram: 1.000000\n",
            "Cumulative 2-gram: 1.000000\n",
            "Cumulative 3-gram: 1.000000\n",
            "Cumulative 4-gram: 1.000000\n",
            "1.0\n",
            "\n"
          ],
          "name": "stdout"
        }
      ]
    },
    {
      "cell_type": "code",
      "metadata": {
        "id": "WQ6jpez0Xcf4",
        "colab": {
          "base_uri": "https://localhost:8080/",
          "height": 289
        },
        "outputId": "3aacad9a-10fa-4702-b769-e1a480a6d83f"
      },
      "source": [
        "# English to Hindi test sentence\n",
        "evaluateAndShowAttention(\"how are you ?\")"
      ],
      "execution_count": null,
      "outputs": [
        {
          "output_type": "stream",
          "text": [
            "input = how are you ?\n",
            "output = तुम कैसे हो ? \n"
          ],
          "name": "stdout"
        },
        {
          "output_type": "display_data",
          "data": {
            "image/png": "[encoded data removed]",
            "text/plain": [
              "<Figure size 432x288 with 2 Axes>"
            ]
          },
          "metadata": {
            "tags": [],
            "needs_background": "light"
          }
        }
      ]
    },
    {
      "cell_type": "markdown",
      "metadata": {
        "id": "mfsx6l4d-x7-"
      },
      "source": [
        "#####Inputing sentences from English to Vanilla Model and input resultant translated sentences to Model 1. "
      ]
    },
    {
      "cell_type": "code",
      "metadata": {
        "id": "FXNKQGq0-9_m",
        "colab": {
          "base_uri": "https://localhost:8080/",
          "height": 52
        },
        "outputId": "7625588f-1ae1-49df-e2e5-c29428f01444"
      },
      "source": [
        "# Sentence 1: Model2 -> Hindi\n",
        "evaluateAndShow1(\"how are you ?\")"
      ],
      "execution_count": null,
      "outputs": [
        {
          "output_type": "stream",
          "text": [
            "input = how are you ?\n",
            "output = आप कैसे हो ? \n"
          ],
          "name": "stdout"
        }
      ]
    },
    {
      "cell_type": "code",
      "metadata": {
        "id": "fKxe2Hqt_Bml",
        "colab": {
          "base_uri": "https://localhost:8080/",
          "height": 52
        },
        "outputId": "876b94b4-49a0-4be3-b011-1b1cd9404c72"
      },
      "source": [
        "# Sentence 1: Model1 -> English\n",
        "evaluateAndShow1(\"आप कैसे हो ?\")"
      ],
      "execution_count": null,
      "outputs": [
        {
          "output_type": "stream",
          "text": [
            "input = आप कैसे हो ?\n",
            "output = how are you ? \n"
          ],
          "name": "stdout"
        }
      ]
    },
    {
      "cell_type": "code",
      "metadata": {
        "id": "RuiYogsu_Kdj",
        "colab": {
          "base_uri": "https://localhost:8080/",
          "height": 52
        },
        "outputId": "a5ee1320-3477-4edd-eea0-b9cc242310f5"
      },
      "source": [
        "# Sentence 2: Model2 -> Hindi\n",
        "evaluateAndShow1(\"i am waiting for you\")"
      ],
      "execution_count": null,
      "outputs": [
        {
          "output_type": "stream",
          "text": [
            "input = i am waiting for you\n",
            "output = मैं तुम्हें कुछ बताने के लिए हूँ। \n"
          ],
          "name": "stdout"
        }
      ]
    },
    {
      "cell_type": "code",
      "metadata": {
        "id": "37S4OfwV_K2j",
        "colab": {
          "base_uri": "https://localhost:8080/",
          "height": 52
        },
        "outputId": "bf743dec-6d6f-4b5a-c718-bee110b6946a"
      },
      "source": [
        "# Sentence 2: Model1 -> English\n",
        "evaluateAndShow1(\"मैं तुम्हें कुछ बताने के लिए हूँ। \")"
      ],
      "execution_count": null,
      "outputs": [
        {
          "output_type": "stream",
          "text": [
            "input = मैं तुम्हें कुछ बताने के लिए हूँ। \n",
            "output = i want to go to the bank . \n"
          ],
          "name": "stdout"
        }
      ]
    },
    {
      "cell_type": "code",
      "metadata": {
        "id": "LpsuKwb2_LP_",
        "colab": {
          "base_uri": "https://localhost:8080/",
          "height": 52
        },
        "outputId": "8b6f3e3a-b611-4702-c521-e8464aa6abd0"
      },
      "source": [
        "# Sentence 3: Model2 -> Hindi\n",
        "evaluateAndShow1(\"it's cold outside\")"
      ],
      "execution_count": null,
      "outputs": [
        {
          "output_type": "stream",
          "text": [
            "input = it's cold outside\n",
            "output = क्या पता हो रहा है। \n"
          ],
          "name": "stdout"
        }
      ]
    },
    {
      "cell_type": "code",
      "metadata": {
        "id": "KTERN2it_LYK",
        "colab": {
          "base_uri": "https://localhost:8080/",
          "height": 52
        },
        "outputId": "0ef9216d-ac23-47c1-cfbe-8855a16da32e"
      },
      "source": [
        "# Sentence 3: Model1 -> English\n",
        "evaluateAndShow1(\"क्या पता हो रहा है। \")"
      ],
      "execution_count": null,
      "outputs": [
        {
          "output_type": "stream",
          "text": [
            "input = क्या पता हो रहा है। \n",
            "output = it's starting the book . \n"
          ],
          "name": "stdout"
        }
      ]
    },
    {
      "cell_type": "markdown",
      "metadata": {
        "id": "A-9VNvaznRXQ"
      },
      "source": [
        "##### **Model 2 using GloVe Embeddings**"
      ]
    },
    {
      "cell_type": "markdown",
      "metadata": {
        "id": "TFup8AFrWoMn"
      },
      "source": [
        "Loading GloVe 100 Dimemsional Embeddings:"
      ]
    },
    {
      "cell_type": "code",
      "metadata": {
        "id": "2u-0b3uX9FBM"
      },
      "source": [
        "from torchtext.vocab import GloVe\n",
        "from torchtext import data\n",
        "TEXT = data.Field(tokenize='spacy')\n",
        "TEXT.build_vocab(pairs,max_size=25000, vectors = GloVe(name='6B', dim=100))"
      ],
      "execution_count": null,
      "outputs": []
    },
    {
      "cell_type": "code",
      "metadata": {
        "id": "lA2Zi898XjCk",
        "colab": {
          "base_uri": "https://localhost:8080/",
          "height": 156
        },
        "outputId": "833ea8c7-4e18-4f0f-be4d-b5aec7cc768c"
      },
      "source": [
        "input_lang, output_lang, pairs = prepareData('eng', 'hin', False)\n",
        "print(random.choice(pairs))"
      ],
      "execution_count": null,
      "outputs": [
        {
          "output_type": "stream",
          "text": [
            "Reading lines...\n",
            "Read 2773 sentence pairs\n",
            "Trimmed to 2773 sentence pairs\n",
            "Counting words...\n",
            "Counted words:\n",
            "eng 2495\n",
            "hin 3055\n",
            "['how long have you been abroad ?', 'आप विदेश में कबसे हैं ?']\n"
          ],
          "name": "stdout"
        }
      ]
    },
    {
      "cell_type": "markdown",
      "metadata": {
        "id": "t6-pYKZjQRWF"
      },
      "source": [
        "Training Model using GloVe vectors"
      ]
    },
    {
      "cell_type": "code",
      "metadata": {
        "id": "FkKSjiHmQaoG"
      },
      "source": [
        "INPUT_DIM = len(TEXT.vocab) # updating new vocab\n",
        "hidden_size = 100 # Glove dimension is 100\n",
        "encoder2 = EncoderRNN(INPUT_DIM, hidden_size).to(device)\n",
        "attn_decoder2 = AttnDecoderRNN(hidden_size, INPUT_DIM, dropout_p=0.1).to(device)"
      ],
      "execution_count": null,
      "outputs": []
    },
    {
      "cell_type": "code",
      "metadata": {
        "id": "au3jf6Mbp80G",
        "colab": {
          "base_uri": "https://localhost:8080/",
          "height": 35
        },
        "outputId": "b3b34562-fb3f-4ddb-954d-289f011116b6"
      },
      "source": [
        "INPUT_DIM"
      ],
      "execution_count": null,
      "outputs": [
        {
          "output_type": "execute_result",
          "data": {
            "text/plain": [
              "5266"
            ]
          },
          "metadata": {
            "tags": []
          },
          "execution_count": 168
        }
      ]
    },
    {
      "cell_type": "code",
      "metadata": {
        "id": "2TuS0GQVQcZt",
        "colab": {
          "base_uri": "https://localhost:8080/",
          "height": 139
        },
        "outputId": "813f635d-3af7-443f-d05f-1669ca14b9c1"
      },
      "source": [
        "pretrained_embeddings = TEXT.vocab.vectors\n",
        "encoder2.embedding.weight.data.copy_(pretrained_embeddings)\n",
        "attn_decoder2.embedding.weight.data.copy_(pretrained_embeddings)"
      ],
      "execution_count": null,
      "outputs": [
        {
          "output_type": "execute_result",
          "data": {
            "text/plain": [
              "tensor([[0., 0., 0.,  ..., 0., 0., 0.],\n",
              "        [0., 0., 0.,  ..., 0., 0., 0.],\n",
              "        [0., 0., 0.,  ..., 0., 0., 0.],\n",
              "        ...,\n",
              "        [0., 0., 0.,  ..., 0., 0., 0.],\n",
              "        [0., 0., 0.,  ..., 0., 0., 0.],\n",
              "        [0., 0., 0.,  ..., 0., 0., 0.]], device='cuda:0')"
            ]
          },
          "metadata": {
            "tags": []
          },
          "execution_count": 169
        }
      ]
    },
    {
      "cell_type": "code",
      "metadata": {
        "id": "62kSTjsdQ6Wj",
        "colab": {
          "base_uri": "https://localhost:8080/",
          "height": 803
        },
        "outputId": "6f35b5df-1194-4719-b7fa-fc9894e3ec39"
      },
      "source": [
        "trainIters(encoder2, attn_decoder2, 60000, print_every=2000)"
      ],
      "execution_count": null,
      "outputs": [
        {
          "output_type": "stream",
          "text": [
            "0m 34s (- 16m 34s) (2000 3%) 4.6697\n",
            "1m 8s (- 16m 5s) (4000 6%) 5.1128\n",
            "1m 43s (- 15m 35s) (6000 10%) 5.0855\n",
            "2m 19s (- 15m 4s) (8000 13%) 5.0144\n",
            "2m 54s (- 14m 31s) (10000 16%) 5.0252\n",
            "3m 30s (- 14m 0s) (12000 20%) 4.9877\n",
            "4m 6s (- 13m 28s) (14000 23%) 4.9852\n",
            "4m 42s (- 12m 56s) (16000 26%) 4.9461\n",
            "5m 18s (- 12m 22s) (18000 30%) 4.8913\n",
            "5m 54s (- 11m 48s) (20000 33%) 4.8101\n",
            "6m 29s (- 11m 13s) (22000 36%) 4.7002\n",
            "7m 5s (- 10m 38s) (24000 40%) 4.6631\n",
            "7m 41s (- 10m 3s) (26000 43%) 4.5795\n",
            "8m 17s (- 9m 28s) (28000 46%) 4.4913\n",
            "8m 53s (- 8m 53s) (30000 50%) 4.4094\n",
            "9m 28s (- 8m 17s) (32000 53%) 4.3137\n",
            "10m 4s (- 7m 42s) (34000 56%) 4.3014\n",
            "10m 40s (- 7m 6s) (36000 60%) 4.2910\n",
            "11m 16s (- 6m 31s) (38000 63%) 4.1565\n",
            "11m 52s (- 5m 56s) (40000 66%) 4.1722\n",
            "12m 28s (- 5m 20s) (42000 70%) 4.0845\n",
            "13m 4s (- 4m 45s) (44000 73%) 4.0484\n",
            "13m 40s (- 4m 9s) (46000 76%) 3.9716\n",
            "14m 17s (- 3m 34s) (48000 80%) 3.9629\n",
            "14m 53s (- 2m 58s) (50000 83%) 3.8900\n",
            "15m 30s (- 2m 23s) (52000 86%) 3.8841\n",
            "16m 6s (- 1m 47s) (54000 90%) 3.8021\n",
            "16m 42s (- 1m 11s) (56000 93%) 3.7674\n",
            "17m 19s (- 0m 35s) (58000 96%) 3.7176\n",
            "17m 55s (- 0m 0s) (60000 100%) 3.6824\n"
          ],
          "name": "stdout"
        },
        {
          "output_type": "display_data",
          "data": {
            "text/plain": [
              "<Figure size 432x288 with 0 Axes>"
            ]
          },
          "metadata": {
            "tags": []
          }
        },
        {
          "output_type": "display_data",
          "data": {
            "image/png": "[encoded data removed]",
            "text/plain": [
              "<Figure size 432x288 with 1 Axes>"
            ]
          },
          "metadata": {
            "tags": [],
            "needs_background": "light"
          }
        }
      ]
    },
    {
      "cell_type": "markdown",
      "metadata": {
        "id": "a8Xse8Tob6mB"
      },
      "source": [
        "Evaluating Performance for Model 2"
      ]
    },
    {
      "cell_type": "markdown",
      "metadata": {
        "id": "TOKrbhd7AYHH"
      },
      "source": [
        "####Inputing 5 sentences from English to Model2 and input resultant translated sentences to Model 1. "
      ]
    },
    {
      "cell_type": "code",
      "metadata": {
        "id": "Dfpy5nkgQ7d4"
      },
      "source": [
        "def evaluateAndShow2(input_sentence):\n",
        "    output_words, attentions = evaluate(\n",
        "        encoder2, attn_decoder2, input_sentence)\n",
        "    print('input =', input_sentence)\n",
        "    print('output =', ' '.join(output_words))"
      ],
      "execution_count": null,
      "outputs": []
    },
    {
      "cell_type": "code",
      "metadata": {
        "id": "_rXDUA0tRk8G",
        "colab": {
          "base_uri": "https://localhost:8080/",
          "height": 52
        },
        "outputId": "e194e68e-3025-4aba-b206-a1ce8293a384"
      },
      "source": [
        "# Sentence 1: Model2 -> Hindi\n",
        "evaluateAndShow2(\"how are you ?\")"
      ],
      "execution_count": null,
      "outputs": [
        {
          "output_type": "stream",
          "text": [
            "input = how are you ?\n",
            "output = आप कहाँ हो ? \n"
          ],
          "name": "stdout"
        }
      ]
    },
    {
      "cell_type": "code",
      "metadata": {
        "id": "CFL2Y_3b364A",
        "colab": {
          "base_uri": "https://localhost:8080/",
          "height": 52
        },
        "outputId": "dc166fd3-3820-497d-d1fe-04ae6e724841"
      },
      "source": [
        "# Sentence 1: Model1 -> English\n",
        "evaluateAndShow1(\"आप कहाँ हो ?\")"
      ],
      "execution_count": null,
      "outputs": [
        {
          "output_type": "stream",
          "text": [
            "input = आप कहाँ हो ?\n",
            "output = where are you ? \n"
          ],
          "name": "stdout"
        }
      ]
    },
    {
      "cell_type": "code",
      "metadata": {
        "id": "-FRmQ7T6sQok",
        "colab": {
          "base_uri": "https://localhost:8080/",
          "height": 52
        },
        "outputId": "1385f567-8cd4-4d0b-da63-442f48270e11"
      },
      "source": [
        "# Sentence 2: Model2 -> Hindi\n",
        "evaluateAndShow2(\"i am waiting for you\")"
      ],
      "execution_count": null,
      "outputs": [
        {
          "output_type": "stream",
          "text": [
            "input = i am waiting for you\n",
            "output = मैं क्या मैं सकता हूँ ? \n"
          ],
          "name": "stdout"
        }
      ]
    },
    {
      "cell_type": "code",
      "metadata": {
        "id": "EHcg2Ux14Bt0",
        "colab": {
          "base_uri": "https://localhost:8080/",
          "height": 52
        },
        "outputId": "6dc24564-f640-48cc-9fff-98d71285a183"
      },
      "source": [
        "# Sentence 2: Model1 -> English\n",
        "evaluateAndShow1(\"मैं क्या मैं सकता हूँ ? \")"
      ],
      "execution_count": null,
      "outputs": [
        {
          "output_type": "stream",
          "text": [
            "input = मैं क्या मैं सकता हूँ ? \n",
            "output = i was my pen to me ? \n"
          ],
          "name": "stdout"
        }
      ]
    },
    {
      "cell_type": "code",
      "metadata": {
        "id": "f8vYAcQwsQrR",
        "colab": {
          "base_uri": "https://localhost:8080/",
          "height": 52
        },
        "outputId": "8dc3aed5-cea2-4dc0-8fc9-2da07593f749"
      },
      "source": [
        "# Sentence 3: Model2 -> Hindi\n",
        "evaluateAndShow2(\"it's cold outside\")"
      ],
      "execution_count": null,
      "outputs": [
        {
          "output_type": "stream",
          "text": [
            "input = it's cold outside\n",
            "output = मुश्किल क्या ! \n"
          ],
          "name": "stdout"
        }
      ]
    },
    {
      "cell_type": "code",
      "metadata": {
        "id": "O7UiPaZv4Hz7",
        "colab": {
          "base_uri": "https://localhost:8080/",
          "height": 52
        },
        "outputId": "eb39299c-e34e-44c5-d585-a88b533aaff7"
      },
      "source": [
        "# Sentence 3: Model1 -> English\n",
        "evaluateAndShow1(\"मुश्किल क्या !\")"
      ],
      "execution_count": null,
      "outputs": [
        {
          "output_type": "stream",
          "text": [
            "input = मुश्किल क्या !\n",
            "output = what ! \n"
          ],
          "name": "stdout"
        }
      ]
    },
    {
      "cell_type": "code",
      "metadata": {
        "id": "BaGSUZ9WsQtn",
        "colab": {
          "base_uri": "https://localhost:8080/",
          "height": 52
        },
        "outputId": "182fd724-9086-47f3-eef4-f2176ef2b79c"
      },
      "source": [
        "# Sentence 4: Model2 -> Hindi\n",
        "evaluateAndShow2(\"we are playing today\")"
      ],
      "execution_count": null,
      "outputs": [
        {
          "output_type": "stream",
          "text": [
            "input = we are playing today\n",
            "output = हम कल से यकीन नहीं \n"
          ],
          "name": "stdout"
        }
      ]
    },
    {
      "cell_type": "code",
      "metadata": {
        "id": "j05Ic_DG4Od_",
        "colab": {
          "base_uri": "https://localhost:8080/",
          "height": 52
        },
        "outputId": "86431365-72e8-4e7c-c60f-12ee8f3ce9b4"
      },
      "source": [
        "# Sentence 4: Model1 -> English\n",
        "evaluateAndShow1(\"हम कल से यकीन नहीं \")"
      ],
      "execution_count": null,
      "outputs": [
        {
          "output_type": "stream",
          "text": [
            "input = हम कल से यकीन नहीं \n",
            "output = we had not go to that . \n"
          ],
          "name": "stdout"
        }
      ]
    },
    {
      "cell_type": "code",
      "metadata": {
        "id": "1a-AlsGGsQw4",
        "colab": {
          "base_uri": "https://localhost:8080/",
          "height": 52
        },
        "outputId": "32eee6eb-6d96-4993-88a5-e28e10452d2b"
      },
      "source": [
        "# Sentence 5: Model2 -> Hindi\n",
        "evaluateAndShow2(\"let's finish this\")"
      ],
      "execution_count": null,
      "outputs": [
        {
          "output_type": "stream",
          "text": [
            "input = let's finish this\n",
            "output = मुश्किल क्या हो ! \n"
          ],
          "name": "stdout"
        }
      ]
    },
    {
      "cell_type": "code",
      "metadata": {
        "id": "y8GXqrvC4Tyj",
        "colab": {
          "base_uri": "https://localhost:8080/",
          "height": 52
        },
        "outputId": "eb2dd637-0a08-470d-ba73-dfdc44060666"
      },
      "source": [
        "# Sentence 5: Model1 -> English\n",
        "evaluateAndShow1(\"मुश्किल क्या हो !\")"
      ],
      "execution_count": null,
      "outputs": [
        {
          "output_type": "stream",
          "text": [
            "input = मुश्किल क्या हो !\n",
            "output = what it ! \n"
          ],
          "name": "stdout"
        }
      ]
    },
    {
      "cell_type": "markdown",
      "metadata": {
        "id": "LmQmoylwOnqh"
      },
      "source": [
        "In conclusion,  the Vanilla model gives better results when compared to that with GloVe embeddings for the Hindi language translation. Modified GloVe embeddings would perform better when used for Indian Languages. This is because our Hindi vocabulary has relatively fewer words as compared to other languages. If we increase the vocabulary or use modified embeddings, we'll achieve better results.\n",
        "\n",
        "(Refer: https://www.aclweb.org/anthology/2020.sltu-1.49.pdf) "
      ]
    },
    {
      "cell_type": "markdown",
      "metadata": {
        "id": "6tDyV4LZmvbC"
      },
      "source": [
        "##References:\n",
        "\n",
        "1. https://pytorch.org/tutorials/intermediate/seq2seq_translation_tutorial.html"
      ]
    }
  ]
}